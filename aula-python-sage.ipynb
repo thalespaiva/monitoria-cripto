{
 "cells": [
  {
   "cell_type": "markdown",
   "metadata": {},
   "source": [
    "# Python para prototipação em Cripto\n",
    "Ou: Uma introdução ao SageMath\n",
    "\n",
    "Thales Paiva \\\n",
    "Cripto 2021 - IME - USP\n",
    "\n",
    "***"
   ]
  },
  {
   "cell_type": "markdown",
   "metadata": {},
   "source": [
    "## Pequena nota sobre implementação de Cripto\n",
    "\n",
    "Implementar Criptografia é muito difícil:\n",
    "* Não basta mirar em eliminar bugs\n",
    "\n",
    "Metas são \n",
    "* Algoritmos devem rodar em tempo independente dos segredos\n",
    "* Consumo de energia não pode depender de segredos\n",
    "* Acesso a memória deve ser uniforme\n",
    "* Implementação deve ser eficiente ou não será usada\n",
    "\n",
    "Python parece adequado para implementação criptográfica?"
   ]
  },
  {
   "cell_type": "markdown",
   "metadata": {},
   "source": [
    "Implementação é quase sempre feita em C (às vezes C++ e hoje em dia em Rust, que é um alívio)"
   ]
  },
  {
   "cell_type": "markdown",
   "metadata": {},
   "source": [
    "Por que estamos fazendo vocês aprenderem Python então?\n",
    "Para implementar Cripto:\n",
    "1. Primeiro prototipamos a especificação em Python\n",
    "2. Implementamos em C\n",
    "3. Testamos a implementação em C usando a implementação em Python\n",
    "4. Fazemos as otimizações e implementação em tempo constante"
   ]
  },
  {
   "cell_type": "markdown",
   "metadata": {},
   "source": [
    "## Sage"
   ]
  },
  {
   "cell_type": "markdown",
   "metadata": {},
   "source": [
    "### O que é o Sage?"
   ]
  },
  {
   "cell_type": "markdown",
   "metadata": {},
   "source": [
    "- Sage é um sistema de computação simbólica \n",
    "- Oferece uma interface em Python para Álgebra, Grafos, Análise Numérica, e muito mais\n",
    "- No Backend, usa sistemas como LAPACK, ATLAS, PARI/GP e M4RI\n",
    "- Distribuído sob a licença GPLv3"
   ]
  },
  {
   "cell_type": "markdown",
   "metadata": {},
   "source": [
    "\n",
    "Formalmente ( :\n",
    "$$\n",
    "\\text{Sage} > \\left( \\text{Magma} \\cup \\text{Maple} \\cup \\text{Mathematica} \\cup \\text{MATLAB} \\right)\n",
    "$$"
   ]
  },
  {
   "cell_type": "markdown",
   "metadata": {},
   "source": [
    "Há duas semanas dei uma monitoria básica sobre Sage, que pode ser acessada aqui:\n",
    "https://drive.google.com/file/d/1Lf7AWQ92n7Scft1OoR_DRT3ufEgt7oLv/view?usp=sharing\n",
    "\n",
    "O texto auxiliar está aqui:\n",
    "https://github.com/thalespaiva/monitoria-cripto/blob/master/intro-sage-ep1.ipynb"
   ]
  },
  {
   "cell_type": "markdown",
   "metadata": {},
   "source": [
    "**Mas o que é computação simbólica?**"
   ]
  },
  {
   "cell_type": "markdown",
   "metadata": {},
   "source": [
    "Sistemas de computação simbólica permitem trabalhar com expressões matemáticas:"
   ]
  },
  {
   "cell_type": "code",
   "execution_count": 1,
   "metadata": {},
   "outputs": [],
   "source": [
    "x, y = var('x, y')"
   ]
  },
  {
   "cell_type": "code",
   "execution_count": 2,
   "metadata": {},
   "outputs": [
    {
     "name": "stdout",
     "output_type": "stream",
     "text": [
      "(x, y) |--> x^2 + sqrt(y)\n"
     ]
    }
   ],
   "source": [
    "f(x, y) = x**2 + sqrt(y)\n",
    "print(f)"
   ]
  },
  {
   "cell_type": "code",
   "execution_count": 3,
   "metadata": {},
   "outputs": [
    {
     "data": {
      "text/plain": [
       "(x, y) |--> (2*x, 1/2/sqrt(y))"
      ]
     },
     "execution_count": 3,
     "metadata": {},
     "output_type": "execute_result"
    }
   ],
   "source": [
    "\n",
    "f.derivative()"
   ]
  },
  {
   "cell_type": "code",
   "execution_count": 4,
   "metadata": {},
   "outputs": [
    {
     "data": {
      "text/html": [
       "\n",
       "<iframe srcdoc=\"<!DOCTYPE html>\n",
       "<html>\n",
       "<head>\n",
       "<title></title>\n",
       "<meta charset=&quot;utf-8&quot;>\n",
       "<meta name=viewport content=&quot;width=device-width, user-scalable=no, minimum-scale=1.0, maximum-scale=1.0&quot;>\n",
       "<style>\n",
       "\n",
       "    body { margin: 0px; overflow: hidden; }\n",
       "\n",
       "    #menu-container { position: absolute; bottom: 30px; right: 40px; cursor: default; }\n",
       "\n",
       "    #menu-message { position: absolute; bottom: 0px; right: 0px; white-space: nowrap;\n",
       "                    display: none; background-color: #F5F5F5; padding: 10px; }\n",
       "\n",
       "    #menu-content { position: absolute; bottom: 0px; right: 0px;\n",
       "                    display: none; background-color: #F5F5F5; border-bottom: 1px solid black;\n",
       "                    border-right: 1px solid black; border-left: 1px solid black; }\n",
       "\n",
       "    #menu-content div { border-top: 1px solid black; padding: 10px; white-space: nowrap; }\n",
       "\n",
       "    #menu-content div:hover { background-color: #FEFEFE; }\n",
       "\n",
       "    .dark-theme #menu-container { color: white; }\n",
       "\n",
       "    .dark-theme #menu-message { background-color: #181818; }\n",
       "\n",
       "    .dark-theme #menu-content { background-color: #181818; border-color: white; }\n",
       "\n",
       "    .dark-theme #menu-content div { border-color: white; }\n",
       "\n",
       "    .dark-theme #menu-content div:hover { background-color: #303030; }\n",
       "\n",
       "</style>\n",
       "\n",
       "</head>\n",
       "\n",
       "<body>\n",
       "\n",
       "<script src=&quot;/nbextensions/threejs-sage/r124/three.min.js&quot;></script>\n",
       "<script>\n",
       "  if ( !window.THREE ) document.write(' \\\n",
       "<script src=&quot;https://cdn.jsdelivr.net/gh/sagemath/threejs-sage@r124/build/three.min.js&quot;><\\/script> \\\n",
       "            ');\n",
       "</script>\n",
       "        \n",
       "<script>\n",
       "\n",
       "    var options = {&quot;animate&quot;: false, &quot;animationControls&quot;: true, &quot;aspectRatio&quot;: [1.0, 1.0, 1.0], &quot;autoPlay&quot;: true, &quot;axes&quot;: false, &quot;axesLabels&quot;: [&quot;x&quot;, &quot;y&quot;, &quot;z&quot;], &quot;axesLabelsStyle&quot;: null, &quot;decimals&quot;: 2, &quot;delay&quot;: 20, &quot;frame&quot;: true, &quot;loop&quot;: true, &quot;projection&quot;: &quot;perspective&quot;, &quot;theme&quot;: &quot;light&quot;, &quot;viewpoint&quot;: false};\n",
       "    var animate = options.animate;\n",
       "\n",
       "    if ( options.theme === 'dark' )\n",
       "        document.body.className = 'dark-theme';\n",
       "\n",
       "    var scene = new THREE.Scene();\n",
       "\n",
       "    var renderer = new THREE.WebGLRenderer( { antialias: true, preserveDrawingBuffer: true } );\n",
       "    renderer.setPixelRatio( window.devicePixelRatio );\n",
       "    renderer.setSize( window.innerWidth, window.innerHeight );\n",
       "    renderer.setClearColor( options.theme === 'dark' ? 0 : 0xffffff, 1 );\n",
       "    document.body.appendChild( renderer.domElement );\n",
       "\n",
       "    var b = [{&quot;x&quot;:-1.0, &quot;y&quot;:0.02564102564102587, &quot;z&quot;:0.16078561600101157}, {&quot;x&quot;:1.0, &quot;y&quot;:1.0, &quot;z&quot;:2.0}]; // bounds\n",
       "\n",
       "    if ( b[0].x === b[1].x ) {\n",
       "        b[0].x -= 1;\n",
       "        b[1].x += 1;\n",
       "    }\n",
       "    if ( b[0].y === b[1].y ) {\n",
       "        b[0].y -= 1;\n",
       "        b[1].y += 1;\n",
       "    }\n",
       "    if ( b[0].z === b[1].z ) {\n",
       "        b[0].z -= 1;\n",
       "        b[1].z += 1;\n",
       "    }\n",
       "\n",
       "    var rRange = Math.sqrt( Math.pow( b[1].x - b[0].x, 2 )\n",
       "                            + Math.pow( b[1].y - b[0].y, 2 ) );\n",
       "    var xRange = b[1].x - b[0].x;\n",
       "    var yRange = b[1].y - b[0].y;\n",
       "    var zRange = b[1].z - b[0].z;\n",
       "\n",
       "    var ar = options.aspectRatio;\n",
       "    var a = [ ar[0], ar[1], ar[2] ]; // aspect multipliers\n",
       "    var autoAspect = 2.5;\n",
       "    if ( zRange > autoAspect * rRange && a[2] === 1 ) a[2] = autoAspect * rRange / zRange;\n",
       "\n",
       "    // Distance from (xMid,yMid,zMid) to any corner of the bounding box, after applying aspectRatio\n",
       "    var midToCorner = Math.sqrt( a[0]*a[0]*xRange*xRange + a[1]*a[1]*yRange*yRange + a[2]*a[2]*zRange*zRange ) / 2;\n",
       "\n",
       "    var xMid = ( b[0].x + b[1].x ) / 2;\n",
       "    var yMid = ( b[0].y + b[1].y ) / 2;\n",
       "    var zMid = ( b[0].z + b[1].z ) / 2;\n",
       "\n",
       "    var box = new THREE.Geometry();\n",
       "    box.vertices.push( new THREE.Vector3( a[0]*b[0].x, a[1]*b[0].y, a[2]*b[0].z ) );\n",
       "    box.vertices.push( new THREE.Vector3( a[0]*b[1].x, a[1]*b[1].y, a[2]*b[1].z ) );\n",
       "    var boxMesh = new THREE.Line( box );\n",
       "    var boxColor = options.theme === 'dark' ? 'white' : 'black';\n",
       "    if ( options.frame ) scene.add( new THREE.BoxHelper( boxMesh, boxColor ) );\n",
       "\n",
       "    if ( options.axesLabels ) {\n",
       "\n",
       "        var d = options.decimals; // decimals\n",
       "        var offsetRatio = 0.1;\n",
       "        var al = options.axesLabels;\n",
       "        var als = options.axesLabelsStyle || [{}, {}, {}];\n",
       "\n",
       "        var offset = offsetRatio * a[1]*( b[1].y - b[0].y );\n",
       "        var xm = xMid.toFixed(d);\n",
       "        if ( /^-0.?0*$/.test(xm) ) xm = xm.substr(1);\n",
       "        addLabel( al[0] + '=' + xm, a[0]*xMid, a[1]*b[1].y+offset, a[2]*b[0].z, als[0] );\n",
       "        addLabel( ( b[0].x ).toFixed(d), a[0]*b[0].x, a[1]*b[1].y+offset, a[2]*b[0].z, als[0] );\n",
       "        addLabel( ( b[1].x ).toFixed(d), a[0]*b[1].x, a[1]*b[1].y+offset, a[2]*b[0].z, als[0] );\n",
       "\n",
       "        var offset = offsetRatio * a[0]*( b[1].x - b[0].x );\n",
       "        var ym = yMid.toFixed(d);\n",
       "        if ( /^-0.?0*$/.test(ym) ) ym = ym.substr(1);\n",
       "        addLabel( al[1] + '=' + ym, a[0]*b[1].x+offset, a[1]*yMid, a[2]*b[0].z, als[1] );\n",
       "        addLabel( ( b[0].y ).toFixed(d), a[0]*b[1].x+offset, a[1]*b[0].y, a[2]*b[0].z, als[1] );\n",
       "        addLabel( ( b[1].y ).toFixed(d), a[0]*b[1].x+offset, a[1]*b[1].y, a[2]*b[0].z, als[1] );\n",
       "\n",
       "        var offset = offsetRatio * a[1]*( b[1].y - b[0].y );\n",
       "        var zm = zMid.toFixed(d);\n",
       "        if ( /^-0.?0*$/.test(zm) ) zm = zm.substr(1);\n",
       "        addLabel( al[2] + '=' + zm, a[0]*b[1].x, a[1]*b[0].y-offset, a[2]*zMid, als[2] );\n",
       "        addLabel( ( b[0].z ).toFixed(d), a[0]*b[1].x, a[1]*b[0].y-offset, a[2]*b[0].z, als[2] );\n",
       "        addLabel( ( b[1].z ).toFixed(d), a[0]*b[1].x, a[1]*b[0].y-offset, a[2]*b[1].z, als[2] );\n",
       "\n",
       "    }\n",
       "\n",
       "    function addLabel( text, x, y, z, style ) {\n",
       "\n",
       "        var color = style.color || 'black';\n",
       "        var fontSize = style.fontSize || 14;\n",
       "        var fontFamily = style.fontFamily || 'monospace';\n",
       "        var fontStyle = style.fontStyle || 'normal';\n",
       "        var fontWeight = style.fontWeight || 'normal';\n",
       "        var opacity = style.opacity || 1;\n",
       "\n",
       "        if ( options.theme === 'dark' )\n",
       "            if ( color === 'black' || color === '#000000' )\n",
       "                color = 'white';\n",
       "\n",
       "        if ( Array.isArray( fontStyle ) ) {\n",
       "            fontFamily = fontFamily.map( function( f ) {\n",
       "                // Need to put quotes around fonts that have whitespace in their names.\n",
       "                return /\\s/.test( f ) ? '&quot;' + f + '&quot;' : f;\n",
       "            }).join(', ');\n",
       "        }\n",
       "\n",
       "        var canvas = document.createElement( 'canvas' );\n",
       "        var context = canvas.getContext( '2d' );\n",
       "        var pixelRatio = Math.round( window.devicePixelRatio );\n",
       "\n",
       "        // For example: italic bold 20px &quot;Times New Roman&quot;, Georgia, serif\n",
       "        var font = [fontStyle, fontWeight, fontSize + 'px', fontFamily].join(' ');\n",
       "\n",
       "        context.font = font;\n",
       "        var width = context.measureText( text ).width;\n",
       "        var height = fontSize;\n",
       "\n",
       "        // The dimensions of the canvas's underlying image data need to be powers\n",
       "        // of two in order for the resulting texture to support mipmapping.\n",
       "        canvas.width = THREE.MathUtils.ceilPowerOfTwo( width * pixelRatio );\n",
       "        canvas.height = THREE.MathUtils.ceilPowerOfTwo( height * pixelRatio );\n",
       "\n",
       "        // Re-compute the unscaled dimensions after the power of two conversion.\n",
       "        width = canvas.width / pixelRatio;\n",
       "        height = canvas.height / pixelRatio;\n",
       "\n",
       "        canvas.style.width = width + 'px';\n",
       "        canvas.style.height = height + 'px';\n",
       "\n",
       "        context.scale( pixelRatio, pixelRatio );\n",
       "        context.fillStyle = color;\n",
       "        context.font = font; // Must be set again after measureText.\n",
       "        context.textAlign = 'center';\n",
       "        context.textBaseline = 'middle';\n",
       "        context.fillText( text, width/2, height/2 );\n",
       "\n",
       "        var texture = new THREE.Texture( canvas );\n",
       "        texture.needsUpdate = true;\n",
       "\n",
       "        var materialOptions = { map: texture, sizeAttenuation: false, depthWrite: false };\n",
       "        if ( opacity < 1 ) {\n",
       "            // Setting opacity=1 would cause the texture's alpha component to be\n",
       "            // discarded, giving the text a black background instead of the\n",
       "            // background being transparent.\n",
       "            materialOptions.opacity = opacity;\n",
       "        }\n",
       "        var sprite = new THREE.Sprite( new THREE.SpriteMaterial( materialOptions ) );\n",
       "        sprite.position.set( x, y, z );\n",
       "\n",
       "        // Scaling factor, chosen somewhat arbitrarily so that the size of the text\n",
       "        // is consistent with previously generated plots.\n",
       "        var scale = 1/625;\n",
       "        if ( options.projection === 'orthographic' ) {\n",
       "            scale = midToCorner/256; // Needs to scale along with the plot itself.\n",
       "        }\n",
       "        sprite.scale.set( scale * width, scale * height, 1 );\n",
       "\n",
       "        scene.add( sprite );\n",
       "\n",
       "        return sprite;\n",
       "\n",
       "    }\n",
       "\n",
       "    if ( options.axes ) scene.add( new THREE.AxesHelper( Math.min( a[0]*b[1].x, a[1]*b[1].y, a[2]*b[1].z ) ) );\n",
       "\n",
       "    var camera = createCamera();\n",
       "    camera.up.set( 0, 0, 1 );\n",
       "    camera.position.set( a[0]*xMid, a[1]*yMid, a[2]*zMid );\n",
       "\n",
       "    var offset = new THREE.Vector3( a[0]*xRange, a[1]*yRange, a[2]*zRange );\n",
       "\n",
       "    if ( options.viewpoint ) {\n",
       "\n",
       "        var aa = options.viewpoint;\n",
       "        var axis = new THREE.Vector3( aa[0][0], aa[0][1], aa[0][2] ).normalize();\n",
       "        var angle = aa[1] * Math.PI / 180;\n",
       "        var q = new THREE.Quaternion().setFromAxisAngle( axis, angle ).inverse();\n",
       "\n",
       "        offset.set( 0, 0, offset.length() );\n",
       "        offset.applyQuaternion( q );\n",
       "\n",
       "    }\n",
       "\n",
       "    camera.position.add( offset );\n",
       "\n",
       "    function createCamera() {\n",
       "\n",
       "        var aspect = window.innerWidth / window.innerHeight;\n",
       "\n",
       "        // Scale the near and far clipping planes along with the overall plot size.\n",
       "        var nearClip = 0.01 * midToCorner;\n",
       "        var farClip = 100 * midToCorner;\n",
       "\n",
       "        if ( options.projection === 'orthographic' ) {\n",
       "            var camera = new THREE.OrthographicCamera( -1, 1, 1, -1, -farClip, farClip );\n",
       "            updateCameraAspect( camera, aspect );\n",
       "            return camera;\n",
       "        }\n",
       "\n",
       "        return new THREE.PerspectiveCamera( 45, aspect, nearClip, farClip );\n",
       "\n",
       "    }\n",
       "\n",
       "    function updateCameraAspect( camera, aspect ) {\n",
       "\n",
       "        if ( camera.isPerspectiveCamera ) {\n",
       "            camera.aspect = aspect;\n",
       "        } else if ( camera.isOrthographicCamera ) {\n",
       "            // Fit the camera frustum to the bounding box's diagonal so that the entire plot fits\n",
       "            // within at the default zoom level and camera position.\n",
       "            if ( aspect > 1 ) { // Wide window\n",
       "                camera.top = midToCorner;\n",
       "                camera.right = midToCorner * aspect;\n",
       "            } else { // Tall or square window\n",
       "                camera.top = midToCorner / aspect;\n",
       "                camera.right = midToCorner;\n",
       "            }\n",
       "            camera.bottom = -camera.top;\n",
       "            camera.left = -camera.right;\n",
       "        }\n",
       "\n",
       "        camera.updateProjectionMatrix();\n",
       "\n",
       "    }\n",
       "\n",
       "    var lights = [{&quot;x&quot;:-5, &quot;y&quot;:3, &quot;z&quot;:0, &quot;color&quot;:&quot;#7f7f7f&quot;, &quot;parent&quot;:&quot;camera&quot;}];\n",
       "    for ( var i=0 ; i < lights.length ; i++ ) {\n",
       "        var light = new THREE.DirectionalLight( lights[i].color, 1 );\n",
       "        light.position.set( a[0]*lights[i].x, a[1]*lights[i].y, a[2]*lights[i].z );\n",
       "        if ( lights[i].parent === 'camera' ) {\n",
       "            light.target.position.set( a[0]*xMid, a[1]*yMid, a[2]*zMid );\n",
       "            scene.add( light.target );\n",
       "            camera.add( light );\n",
       "        } else scene.add( light );\n",
       "    }\n",
       "    scene.add( camera );\n",
       "\n",
       "    var ambient = {&quot;color&quot;:&quot;#7f7f7f&quot;};\n",
       "    scene.add( new THREE.AmbientLight( ambient.color, 1 ) );\n",
       "\n",
       "    var controls = new THREE.OrbitControls( camera, renderer.domElement );\n",
       "    controls.target.set( a[0]*xMid, a[1]*yMid, a[2]*zMid );\n",
       "    controls.addEventListener( 'change', function() { if ( !animate ) render(); } );\n",
       "\n",
       "    window.addEventListener( 'resize', function() {\n",
       "\n",
       "        renderer.setSize( window.innerWidth, window.innerHeight );\n",
       "        updateCameraAspect( camera, window.innerWidth / window.innerHeight );\n",
       "        if ( window.rescaleFatLines ) rescaleFatLines();\n",
       "        if ( !animate ) render();\n",
       "\n",
       "    } );\n",
       "\n",
       "    var texts = [];\n",
       "    for ( var i=0 ; i < texts.length ; i++ ) addText( texts[i] );\n",
       "\n",
       "    function addText( json ) {\n",
       "        var sprite = addLabel( json.text, a[0]*json.x, a[1]*json.y, a[2]*json.z, json );\n",
       "        sprite.userData = json;\n",
       "    }\n",
       "\n",
       "    var points = [];\n",
       "    for ( var i=0 ; i < points.length ; i++ ) addPoint( points[i] );\n",
       "\n",
       "    function addPoint( json ) {\n",
       "\n",
       "        var geometry = new THREE.Geometry();\n",
       "        var v = json.point;\n",
       "        geometry.vertices.push( new THREE.Vector3( a[0]*v[0], a[1]*v[1], a[2]*v[2] ) );\n",
       "\n",
       "        var canvas = document.createElement( 'canvas' );\n",
       "        canvas.width = 128;\n",
       "        canvas.height = 128;\n",
       "\n",
       "        var context = canvas.getContext( '2d' );\n",
       "        context.arc( 64, 64, 64, 0, 2 * Math.PI );\n",
       "        context.fillStyle = json.color;\n",
       "        context.fill();\n",
       "\n",
       "        var texture = new THREE.Texture( canvas );\n",
       "        texture.needsUpdate = true;\n",
       "\n",
       "        var transparent = json.opacity < 1 ? true : false;\n",
       "        var size = camera.isOrthographicCamera ? json.size : json.size/100;\n",
       "        var material = new THREE.PointsMaterial( { size: size, map: texture,\n",
       "                                                   transparent: transparent, opacity: json.opacity,\n",
       "                                                   alphaTest: .1 } );\n",
       "\n",
       "        var c = new THREE.Vector3();\n",
       "        geometry.computeBoundingBox();\n",
       "        geometry.boundingBox.getCenter( c );\n",
       "        geometry.translate( -c.x, -c.y, -c.z );\n",
       "\n",
       "        var mesh = new THREE.Points( geometry, material );\n",
       "        mesh.position.set( c.x, c.y, c.z );\n",
       "        mesh.userData = json;\n",
       "        scene.add( mesh );\n",
       "\n",
       "    }\n",
       "\n",
       "    var lines = [];\n",
       "    for ( var i=0 ; i < lines.length ; i++ ) addLine( lines[i] );\n",
       "\n",
       "    function addLine( json ) {\n",
       "\n",
       "        var geometry = new THREE.Geometry();\n",
       "        for ( var i=0 ; i < json.points.length ; i++ ) {\n",
       "            var v = json.points[i];\n",
       "            geometry.vertices.push( new THREE.Vector3( a[0]*v[0], a[1]*v[1], a[2]*v[2] ) );\n",
       "        }\n",
       "\n",
       "        var c = new THREE.Vector3();\n",
       "        geometry.computeBoundingBox();\n",
       "        geometry.boundingBox.getCenter( c );\n",
       "        geometry.translate( -c.x, -c.y, -c.z );\n",
       "\n",
       "        var transparent = json.opacity < 1 ? true : false;\n",
       "        var materialOptions = { color: json.color, linewidth: json.linewidth,\n",
       "                                transparent: transparent, opacity: json.opacity };\n",
       "\n",
       "        var mesh;\n",
       "        if ( json.linewidth > 1 && window.createFatLineStrip ) {\n",
       "            mesh = createFatLineStrip( geometry, materialOptions );\n",
       "        } else {\n",
       "            var material = new THREE.LineBasicMaterial( materialOptions );\n",
       "            mesh = new THREE.Line( geometry, material );\n",
       "        }\n",
       "\n",
       "        mesh.position.set( c.x, c.y, c.z );\n",
       "        mesh.userData = json;\n",
       "        scene.add( mesh );\n",
       "\n",
       "    }\n",
       "\n",
       "    var surfaces = [{&quot;vertices&quot;: [{&quot;x&quot;: -1.0, &quot;y&quot;: 0.02564102564102587, &quot;z&quot;: 1.1601281538050878}, {&quot;x&quot;: -0.9487179487179487, &quot;y&quot;: 0.02564102564102587, &quot;z&quot;: 1.0601939000246803}, {&quot;x&quot;: -1.0, &quot;y&quot;: 0.07692307692307715, &quot;z&quot;: 1.277350098112615}, {&quot;x&quot;: -0.9487179487179487, &quot;y&quot;: 0.07692307692307715, &quot;z&quot;: 1.1774158443322074}, {&quot;x&quot;: -1.0, &quot;y&quot;: 0.12820512820512842, &quot;z&quot;: 1.3580574370197167}, {&quot;x&quot;: -0.9487179487179487, &quot;y&quot;: 0.12820512820512842, &quot;z&quot;: 1.258123183239309}, {&quot;x&quot;: -1.0, &quot;y&quot;: 0.17948717948717968, &quot;z&quot;: 1.4236592728681619}, {&quot;x&quot;: -0.9487179487179487, &quot;y&quot;: 0.17948717948717968, &quot;z&quot;: 1.3237250190877543}, {&quot;x&quot;: -1.0, &quot;y&quot;: 0.23076923076923095, &quot;z&quot;: 1.4803844614152615}, {&quot;x&quot;: -0.9487179487179487, &quot;y&quot;: 0.23076923076923095, &quot;z&quot;: 1.380450207634854}, {&quot;x&quot;: -1.0, &quot;y&quot;: 0.2820512820512822, &quot;z&quot;: 1.5310850045437945}, {&quot;x&quot;: -0.9487179487179487, &quot;y&quot;: 0.2820512820512822, &quot;z&quot;: 1.4311507507633867}, {&quot;x&quot;: -1.0, &quot;y&quot;: 0.3333333333333335, &quot;z&quot;: 1.5773502691896257}, {&quot;x&quot;: -0.9487179487179487, &quot;y&quot;: 0.3333333333333335, &quot;z&quot;: 1.4774160154092182}, {&quot;x&quot;: -1.0, &quot;y&quot;: 0.38461538461538475, &quot;z&quot;: 1.6201736729460423}, {&quot;x&quot;: -0.9487179487179487, &quot;y&quot;: 0.38461538461538475, &quot;z&quot;: 1.5202394191656348}, {&quot;x&quot;: -1.0, &quot;y&quot;: 0.435897435897436, &quot;z&quot;: 1.660225291773525}, {&quot;x&quot;: -0.9487179487179487, &quot;y&quot;: 0.435897435897436, &quot;z&quot;: 1.5602910379931172}, {&quot;x&quot;: -1.0, &quot;y&quot;: 0.4871794871794873, &quot;z&quot;: 1.6979824404521129}, {&quot;x&quot;: -0.9487179487179487, &quot;y&quot;: 0.4871794871794873, &quot;z&quot;: 1.5980481866717051}, {&quot;x&quot;: -1.0, &quot;y&quot;: 0.5384615384615385, &quot;z&quot;: 1.7337993857053429}, {&quot;x&quot;: -0.9487179487179487, &quot;y&quot;: 0.5384615384615385, &quot;z&quot;: 1.633865131924935}, {&quot;x&quot;: -1.0, &quot;y&quot;: 0.5897435897435899, &quot;z&quot;: 1.7679476477883047}, {&quot;x&quot;: -0.9487179487179487, &quot;y&quot;: 0.5897435897435899, &quot;z&quot;: 1.668013394007897}, {&quot;x&quot;: -1.0, &quot;y&quot;: 0.6410256410256412, &quot;z&quot;: 1.8006407690254358}, {&quot;x&quot;: -0.9487179487179487, &quot;y&quot;: 0.6410256410256412, &quot;z&quot;: 1.7007065152450282}, {&quot;x&quot;: -1.0, &quot;y&quot;: 0.6923076923076925, &quot;z&quot;: 1.8320502943378438}, {&quot;x&quot;: -0.9487179487179487, &quot;y&quot;: 0.6923076923076925, &quot;z&quot;: 1.732116040557436}, {&quot;x&quot;: -1.0, &quot;y&quot;: 0.7435897435897438, &quot;z&quot;: 1.8623164985025764}, {&quot;x&quot;: -0.9487179487179487, &quot;y&quot;: 0.7435897435897438, &quot;z&quot;: 1.7623822447221689}, {&quot;x&quot;: -1.0, &quot;y&quot;: 0.7948717948717952, &quot;z&quot;: 1.8915558282417289}, {&quot;x&quot;: -0.9487179487179487, &quot;y&quot;: 0.7948717948717952, &quot;z&quot;: 1.7916215744613213}, {&quot;x&quot;: -1.0, &quot;y&quot;: 0.8461538461538465, &quot;z&quot;: 1.9198662110078}, {&quot;x&quot;: -0.9487179487179487, &quot;y&quot;: 0.8461538461538465, &quot;z&quot;: 1.8199319572273924}, {&quot;x&quot;: -1.0, &quot;y&quot;: 0.8974358974358978, &quot;z&quot;: 1.947330933431342}, {&quot;x&quot;: -0.9487179487179487, &quot;y&quot;: 0.8974358974358978, &quot;z&quot;: 1.8473966796509345}, {&quot;x&quot;: -1.0, &quot;y&quot;: 0.9487179487179491, &quot;z&quot;: 1.9740215340114147}, {&quot;x&quot;: -0.9487179487179487, &quot;y&quot;: 0.9487179487179491, &quot;z&quot;: 1.874087280231007}, {&quot;x&quot;: -1.0, &quot;y&quot;: 1.0, &quot;z&quot;: 2.0}, {&quot;x&quot;: -0.9487179487179487, &quot;y&quot;: 1.0, &quot;z&quot;: 1.9000657462195925}, {&quot;x&quot;: -0.8974358974358974, &quot;y&quot;: 0.02564102564102587, &quot;z&quot;: 0.9655193438116623}, {&quot;x&quot;: -0.8974358974358974, &quot;y&quot;: 0.07692307692307715, &quot;z&quot;: 1.0827412881191893}, {&quot;x&quot;: -0.8974358974358974, &quot;y&quot;: 0.12820512820512842, &quot;z&quot;: 1.1634486270262911}, {&quot;x&quot;: -0.8974358974358974, &quot;y&quot;: 0.17948717948717968, &quot;z&quot;: 1.2290504628747363}, {&quot;x&quot;: -0.8974358974358974, &quot;y&quot;: 0.23076923076923095, &quot;z&quot;: 1.2857756514218361}, {&quot;x&quot;: -0.8974358974358974, &quot;y&quot;: 0.2820512820512822, &quot;z&quot;: 1.336476194550369}, {&quot;x&quot;: -0.8974358974358974, &quot;y&quot;: 0.3333333333333335, &quot;z&quot;: 1.3827414591962004}, {&quot;x&quot;: -0.8974358974358974, &quot;y&quot;: 0.38461538461538475, &quot;z&quot;: 1.425564862952617}, {&quot;x&quot;: -0.8974358974358974, &quot;y&quot;: 0.435897435897436, &quot;z&quot;: 1.4656164817800992}, {&quot;x&quot;: -0.8974358974358974, &quot;y&quot;: 0.4871794871794873, &quot;z&quot;: 1.5033736304586873}, {&quot;x&quot;: -0.8974358974358974, &quot;y&quot;: 0.5384615384615385, &quot;z&quot;: 1.5391905757119173}, {&quot;x&quot;: -0.8974358974358974, &quot;y&quot;: 0.5897435897435899, &quot;z&quot;: 1.573338837794879}, {&quot;x&quot;: -0.8974358974358974, &quot;y&quot;: 0.6410256410256412, &quot;z&quot;: 1.6060319590320102}, {&quot;x&quot;: -0.8974358974358974, &quot;y&quot;: 0.6923076923076925, &quot;z&quot;: 1.6374414843444183}, {&quot;x&quot;: -0.8974358974358974, &quot;y&quot;: 0.7435897435897438, &quot;z&quot;: 1.6677076885091509}, {&quot;x&quot;: -0.8974358974358974, &quot;y&quot;: 0.7948717948717952, &quot;z&quot;: 1.6969470182483033}, {&quot;x&quot;: -0.8974358974358974, &quot;y&quot;: 0.8461538461538465, &quot;z&quot;: 1.7252574010143744}, {&quot;x&quot;: -0.8974358974358974, &quot;y&quot;: 0.8974358974358978, &quot;z&quot;: 1.7527221234379164}, {&quot;x&quot;: -0.8974358974358974, &quot;y&quot;: 0.9487179487179491, &quot;z&quot;: 1.779412724017989}, {&quot;x&quot;: -0.8974358974358974, &quot;y&quot;: 1.0, &quot;z&quot;: 1.8053911900065744}, {&quot;x&quot;: -0.846153846153846, &quot;y&quot;: 0.02564102564102587, &quot;z&quot;: 0.8761044851660343}, {&quot;x&quot;: -0.846153846153846, &quot;y&quot;: 0.07692307692307715, &quot;z&quot;: 0.9933264294735615}, {&quot;x&quot;: -0.846153846153846, &quot;y&quot;: 0.12820512820512842, &quot;z&quot;: 1.0740337683806631}, {&quot;x&quot;: -0.846153846153846, &quot;y&quot;: 0.17948717948717968, &quot;z&quot;: 1.1396356042291085}, {&quot;x&quot;: -0.846153846153846, &quot;y&quot;: 0.23076923076923095, &quot;z&quot;: 1.196360792776208}, {&quot;x&quot;: -0.846153846153846, &quot;y&quot;: 0.2820512820512822, &quot;z&quot;: 1.2470613359047409}, {&quot;x&quot;: -0.846153846153846, &quot;y&quot;: 0.3333333333333335, &quot;z&quot;: 1.2933266005505724}, {&quot;x&quot;: -0.846153846153846, &quot;y&quot;: 0.38461538461538475, &quot;z&quot;: 1.336150004306989}, {&quot;x&quot;: -0.846153846153846, &quot;y&quot;: 0.435897435897436, &quot;z&quot;: 1.3762016231344714}, {&quot;x&quot;: -0.846153846153846, &quot;y&quot;: 0.4871794871794873, &quot;z&quot;: 1.4139587718130593}, {&quot;x&quot;: -0.846153846153846, &quot;y&quot;: 0.5384615384615385, &quot;z&quot;: 1.4497757170662893}, {&quot;x&quot;: -0.846153846153846, &quot;y&quot;: 0.5897435897435899, &quot;z&quot;: 1.4839239791492511}, {&quot;x&quot;: -0.846153846153846, &quot;y&quot;: 0.6410256410256412, &quot;z&quot;: 1.5166171003863824}, {&quot;x&quot;: -0.846153846153846, &quot;y&quot;: 0.6923076923076925, &quot;z&quot;: 1.5480266256987902}, {&quot;x&quot;: -0.846153846153846, &quot;y&quot;: 0.7435897435897438, &quot;z&quot;: 1.578292829863523}, {&quot;x&quot;: -0.846153846153846, &quot;y&quot;: 0.7948717948717952, &quot;z&quot;: 1.6075321596026755}, {&quot;x&quot;: -0.846153846153846, &quot;y&quot;: 0.8461538461538465, &quot;z&quot;: 1.6358425423687466}, {&quot;x&quot;: -0.846153846153846, &quot;y&quot;: 0.8974358974358978, &quot;z&quot;: 1.6633072647922886}, {&quot;x&quot;: -0.846153846153846, &quot;y&quot;: 0.9487179487179491, &quot;z&quot;: 1.689997865372361}, {&quot;x&quot;: -0.846153846153846, &quot;y&quot;: 1.0, &quot;z&quot;: 1.7159763313609466}, {&quot;x&quot;: -0.7948717948717947, &quot;y&quot;: 0.02564102564102587, &quot;z&quot;: 0.7919493240877963}, {&quot;x&quot;: -0.7948717948717947, &quot;y&quot;: 0.07692307692307715, &quot;z&quot;: 0.9091712683953235}, {&quot;x&quot;: -0.7948717948717947, &quot;y&quot;: 0.12820512820512842, &quot;z&quot;: 0.9898786073024252}, {&quot;x&quot;: -0.7948717948717947, &quot;y&quot;: 0.17948717948717968, &quot;z&quot;: 1.0554804431508704}, {&quot;x&quot;: -0.7948717948717947, &quot;y&quot;: 0.23076923076923095, &quot;z&quot;: 1.11220563169797}, {&quot;x&quot;: -0.7948717948717947, &quot;y&quot;: 0.2820512820512822, &quot;z&quot;: 1.162906174826503}, {&quot;x&quot;: -0.7948717948717947, &quot;y&quot;: 0.3333333333333335, &quot;z&quot;: 1.2091714394723343}, {&quot;x&quot;: -0.7948717948717947, &quot;y&quot;: 0.38461538461538475, &quot;z&quot;: 1.2519948432287509}, {&quot;x&quot;: -0.7948717948717947, &quot;y&quot;: 0.435897435897436, &quot;z&quot;: 1.2920464620562333}, {&quot;x&quot;: -0.7948717948717947, &quot;y&quot;: 0.4871794871794873, &quot;z&quot;: 1.3298036107348215}, {&quot;x&quot;: -0.7948717948717947, &quot;y&quot;: 0.5384615384615385, &quot;z&quot;: 1.3656205559880514}, {&quot;x&quot;: -0.7948717948717947, &quot;y&quot;: 0.5897435897435899, &quot;z&quot;: 1.399768818071013}, {&quot;x&quot;: -0.7948717948717947, &quot;y&quot;: 0.6410256410256412, &quot;z&quot;: 1.4324619393081441}, {&quot;x&quot;: -0.7948717948717947, &quot;y&quot;: 0.6923076923076925, &quot;z&quot;: 1.4638714646205524}, {&quot;x&quot;: -0.7948717948717947, &quot;y&quot;: 0.7435897435897438, &quot;z&quot;: 1.4941376687852848}, {&quot;x&quot;: -0.7948717948717947, &quot;y&quot;: 0.7948717948717952, &quot;z&quot;: 1.5233769985244372}, {&quot;x&quot;: -0.7948717948717947, &quot;y&quot;: 0.8461538461538465, &quot;z&quot;: 1.5516873812905083}, {&quot;x&quot;: -0.7948717948717947, &quot;y&quot;: 0.8974358974358978, &quot;z&quot;: 1.5791521037140503}, {&quot;x&quot;: -0.7948717948717947, &quot;y&quot;: 0.9487179487179491, &quot;z&quot;: 1.605842704294123}, {&quot;x&quot;: -0.7948717948717947, &quot;y&quot;: 1.0, &quot;z&quot;: 1.6318211702827083}, {&quot;x&quot;: -0.7435897435897434, &quot;y&quot;: 0.02564102564102587, &quot;z&quot;: 0.7130538605769482}, {&quot;x&quot;: -0.7435897435897434, &quot;y&quot;: 0.07692307692307715, &quot;z&quot;: 0.8302758048844754}, {&quot;x&quot;: -0.7435897435897434, &quot;y&quot;: 0.12820512820512842, &quot;z&quot;: 0.9109831437915771}, {&quot;x&quot;: -0.7435897435897434, &quot;y&quot;: 0.17948717948717968, &quot;z&quot;: 0.9765849796400223}, {&quot;x&quot;: -0.7435897435897434, &quot;y&quot;: 0.23076923076923095, &quot;z&quot;: 1.033310168187122}, {&quot;x&quot;: -0.7435897435897434, &quot;y&quot;: 0.2820512820512822, &quot;z&quot;: 1.084010711315655}, {&quot;x&quot;: -0.7435897435897434, &quot;y&quot;: 0.3333333333333335, &quot;z&quot;: 1.1302759759614862}, {&quot;x&quot;: -0.7435897435897434, &quot;y&quot;: 0.38461538461538475, &quot;z&quot;: 1.1730993797179028}, {&quot;x&quot;: -0.7435897435897434, &quot;y&quot;: 0.435897435897436, &quot;z&quot;: 1.2131509985453852}, {&quot;x&quot;: -0.7435897435897434, &quot;y&quot;: 0.4871794871794873, &quot;z&quot;: 1.2509081472239734}, {&quot;x&quot;: -0.7435897435897434, &quot;y&quot;: 0.5384615384615385, &quot;z&quot;: 1.2867250924772033}, {&quot;x&quot;: -0.7435897435897434, &quot;y&quot;: 0.5897435897435899, &quot;z&quot;: 1.320873354560165}, {&quot;x&quot;: -0.7435897435897434, &quot;y&quot;: 0.6410256410256412, &quot;z&quot;: 1.353566475797296}, {&quot;x&quot;: -0.7435897435897434, &quot;y&quot;: 0.6923076923076925, &quot;z&quot;: 1.3849760011097043}, {&quot;x&quot;: -0.7435897435897434, &quot;y&quot;: 0.7435897435897438, &quot;z&quot;: 1.4152422052744367}, {&quot;x&quot;: -0.7435897435897434, &quot;y&quot;: 0.7948717948717952, &quot;z&quot;: 1.4444815350135891}, {&quot;x&quot;: -0.7435897435897434, &quot;y&quot;: 0.8461538461538465, &quot;z&quot;: 1.4727919177796602}, {&quot;x&quot;: -0.7435897435897434, &quot;y&quot;: 0.8974358974358978, &quot;z&quot;: 1.5002566402032023}, {&quot;x&quot;: -0.7435897435897434, &quot;y&quot;: 0.9487179487179491, &quot;z&quot;: 1.526947240783275}, {&quot;x&quot;: -0.7435897435897434, &quot;y&quot;: 1.0, &quot;z&quot;: 1.5529257067718603}, {&quot;x&quot;: -0.6923076923076921, &quot;y&quot;: 0.02564102564102587, &quot;z&quot;: 0.6394180946334899}, {&quot;x&quot;: -0.6923076923076921, &quot;y&quot;: 0.07692307692307715, &quot;z&quot;: 0.7566400389410171}, {&quot;x&quot;: -0.6923076923076921, &quot;y&quot;: 0.12820512820512842, &quot;z&quot;: 0.8373473778481187}, {&quot;x&quot;: -0.6923076923076921, &quot;y&quot;: 0.17948717948717968, &quot;z&quot;: 0.902949213696564}, {&quot;x&quot;: -0.6923076923076921, &quot;y&quot;: 0.23076923076923095, &quot;z&quot;: 0.9596744022436636}, {&quot;x&quot;: -0.6923076923076921, &quot;y&quot;: 0.2820512820512822, &quot;z&quot;: 1.0103749453721966}, {&quot;x&quot;: -0.6923076923076921, &quot;y&quot;: 0.3333333333333335, &quot;z&quot;: 1.0566402100180279}, {&quot;x&quot;: -0.6923076923076921, &quot;y&quot;: 0.38461538461538475, &quot;z&quot;: 1.0994636137744445}, {&quot;x&quot;: -0.6923076923076921, &quot;y&quot;: 0.435897435897436, &quot;z&quot;: 1.1395152326019269}, {&quot;x&quot;: -0.6923076923076921, &quot;y&quot;: 0.4871794871794873, &quot;z&quot;: 1.177272381280515}, {&quot;x&quot;: -0.6923076923076921, &quot;y&quot;: 0.5384615384615385, &quot;z&quot;: 1.213089326533745}, {&quot;x&quot;: -0.6923076923076921, &quot;y&quot;: 0.5897435897435899, &quot;z&quot;: 1.2472375886167066}, {&quot;x&quot;: -0.6923076923076921, &quot;y&quot;: 0.6410256410256412, &quot;z&quot;: 1.2799307098538377}, {&quot;x&quot;: -0.6923076923076921, &quot;y&quot;: 0.6923076923076925, &quot;z&quot;: 1.311340235166246}, {&quot;x&quot;: -0.6923076923076921, &quot;y&quot;: 0.7435897435897438, &quot;z&quot;: 1.3416064393309783}, {&quot;x&quot;: -0.6923076923076921, &quot;y&quot;: 0.7948717948717952, &quot;z&quot;: 1.3708457690701308}, {&quot;x&quot;: -0.6923076923076921, &quot;y&quot;: 0.8461538461538465, &quot;z&quot;: 1.399156151836202}, {&quot;x&quot;: -0.6923076923076921, &quot;y&quot;: 0.8974358974358978, &quot;z&quot;: 1.426620874259744}, {&quot;x&quot;: -0.6923076923076921, &quot;y&quot;: 0.9487179487179491, &quot;z&quot;: 1.4533114748398166}, {&quot;x&quot;: -0.6923076923076921, &quot;y&quot;: 1.0, &quot;z&quot;: 1.479289940828402}, {&quot;x&quot;: -0.6410256410256407, &quot;y&quot;: 0.02564102564102587, &quot;z&quot;: 0.5710420262574215}, {&quot;x&quot;: -0.6410256410256407, &quot;y&quot;: 0.07692307692307715, &quot;z&quot;: 0.6882639705649486}, {&quot;x&quot;: -0.6410256410256407, &quot;y&quot;: 0.12820512820512842, &quot;z&quot;: 0.7689713094720503}, {&quot;x&quot;: -0.6410256410256407, &quot;y&quot;: 0.17948717948717968, &quot;z&quot;: 0.8345731453204955}, {&quot;x&quot;: -0.6410256410256407, &quot;y&quot;: 0.23076923076923095, &quot;z&quot;: 0.8912983338675953}, {&quot;x&quot;: -0.6410256410256407, &quot;y&quot;: 0.2820512820512822, &quot;z&quot;: 0.941998876996128}, {&quot;x&quot;: -0.6410256410256407, &quot;y&quot;: 0.3333333333333335, &quot;z&quot;: 0.9882641416419595}, {&quot;x&quot;: -0.6410256410256407, &quot;y&quot;: 0.38461538461538475, &quot;z&quot;: 1.031087545398376}, {&quot;x&quot;: -0.6410256410256407, &quot;y&quot;: 0.435897435897436, &quot;z&quot;: 1.0711391642258585}, {&quot;x&quot;: -0.6410256410256407, &quot;y&quot;: 0.4871794871794873, &quot;z&quot;: 1.1088963129044465}, {&quot;x&quot;: -0.6410256410256407, &quot;y&quot;: 0.5384615384615385, &quot;z&quot;: 1.1447132581576764}, {&quot;x&quot;: -0.6410256410256407, &quot;y&quot;: 0.5897435897435899, &quot;z&quot;: 1.1788615202406383}, {&quot;x&quot;: -0.6410256410256407, &quot;y&quot;: 0.6410256410256412, &quot;z&quot;: 1.2115546414777694}, {&quot;x&quot;: -0.6410256410256407, &quot;y&quot;: 0.6923076923076925, &quot;z&quot;: 1.2429641667901774}, {&quot;x&quot;: -0.6410256410256407, &quot;y&quot;: 0.7435897435897438, &quot;z&quot;: 1.27323037095491}, {&quot;x&quot;: -0.6410256410256407, &quot;y&quot;: 0.7948717948717952, &quot;z&quot;: 1.3024697006940624}, {&quot;x&quot;: -0.6410256410256407, &quot;y&quot;: 0.8461538461538465, &quot;z&quot;: 1.3307800834601335}, {&quot;x&quot;: -0.6410256410256407, &quot;y&quot;: 0.8974358974358978, &quot;z&quot;: 1.3582448058836756}, {&quot;x&quot;: -0.6410256410256407, &quot;y&quot;: 0.9487179487179491, &quot;z&quot;: 1.3849354064637482}, {&quot;x&quot;: -0.6410256410256407, &quot;y&quot;: 1.0, &quot;z&quot;: 1.4109138724523336}, {&quot;x&quot;: -0.5897435897435894, &quot;y&quot;: 0.02564102564102587, &quot;z&quot;: 0.507925655448743}, {&quot;x&quot;: -0.5897435897435894, &quot;y&quot;: 0.07692307692307715, &quot;z&quot;: 0.6251475997562701}, {&quot;x&quot;: -0.5897435897435894, &quot;y&quot;: 0.12820512820512842, &quot;z&quot;: 0.7058549386633719}, {&quot;x&quot;: -0.5897435897435894, &quot;y&quot;: 0.17948717948717968, &quot;z&quot;: 0.771456774511817}, {&quot;x&quot;: -0.5897435897435894, &quot;y&quot;: 0.23076923076923095, &quot;z&quot;: 0.8281819630589167}, {&quot;x&quot;: -0.5897435897435894, &quot;y&quot;: 0.2820512820512822, &quot;z&quot;: 0.8788825061874497}, {&quot;x&quot;: -0.5897435897435894, &quot;y&quot;: 0.3333333333333335, &quot;z&quot;: 0.9251477708332809}, {&quot;x&quot;: -0.5897435897435894, &quot;y&quot;: 0.38461538461538475, &quot;z&quot;: 0.9679711745896975}, {&quot;x&quot;: -0.5897435897435894, &quot;y&quot;: 0.435897435897436, &quot;z&quot;: 1.00802279341718}, {&quot;x&quot;: -0.5897435897435894, &quot;y&quot;: 0.4871794871794873, &quot;z&quot;: 1.045779942095768}, {&quot;x&quot;: -0.5897435897435894, &quot;y&quot;: 0.5384615384615385, &quot;z&quot;: 1.081596887348998}, {&quot;x&quot;: -0.5897435897435894, &quot;y&quot;: 0.5897435897435899, &quot;z&quot;: 1.1157451494319597}, {&quot;x&quot;: -0.5897435897435894, &quot;y&quot;: 0.6410256410256412, &quot;z&quot;: 1.148438270669091}, {&quot;x&quot;: -0.5897435897435894, &quot;y&quot;: 0.6923076923076925, &quot;z&quot;: 1.179847795981499}, {&quot;x&quot;: -0.5897435897435894, &quot;y&quot;: 0.7435897435897438, &quot;z&quot;: 1.2101140001462316}, {&quot;x&quot;: -0.5897435897435894, &quot;y&quot;: 0.7948717948717952, &quot;z&quot;: 1.239353329885384}, {&quot;x&quot;: -0.5897435897435894, &quot;y&quot;: 0.8461538461538465, &quot;z&quot;: 1.2676637126514552}, {&quot;x&quot;: -0.5897435897435894, &quot;y&quot;: 0.8974358974358978, &quot;z&quot;: 1.2951284350749972}, {&quot;x&quot;: -0.5897435897435894, &quot;y&quot;: 0.9487179487179491, &quot;z&quot;: 1.3218190356550696}, {&quot;x&quot;: -0.5897435897435894, &quot;y&quot;: 1.0, &quot;z&quot;: 1.3477975016436552}, {&quot;x&quot;: -0.5384615384615381, &quot;y&quot;: 0.02564102564102587, &quot;z&quot;: 0.4500689822074543}, {&quot;x&quot;: -0.5384615384615381, &quot;y&quot;: 0.07692307692307715, &quot;z&quot;: 0.5672909265149815}, {&quot;x&quot;: -0.5384615384615381, &quot;y&quot;: 0.12820512820512842, &quot;z&quot;: 0.6479982654220832}, {&quot;x&quot;: -0.5384615384615381, &quot;y&quot;: 0.17948717948717968, &quot;z&quot;: 0.7136001012705284}, {&quot;x&quot;: -0.5384615384615381, &quot;y&quot;: 0.23076923076923095, &quot;z&quot;: 0.770325289817628}, {&quot;x&quot;: -0.5384615384615381, &quot;y&quot;: 0.2820512820512822, &quot;z&quot;: 0.8210258329461609}, {&quot;x&quot;: -0.5384615384615381, &quot;y&quot;: 0.3333333333333335, &quot;z&quot;: 0.8672910975919923}, {&quot;x&quot;: -0.5384615384615381, &quot;y&quot;: 0.38461538461538475, &quot;z&quot;: 0.9101145013484089}, {&quot;x&quot;: -0.5384615384615381, &quot;y&quot;: 0.435897435897436, &quot;z&quot;: 0.9501661201758913}, {&quot;x&quot;: -0.5384615384615381, &quot;y&quot;: 0.4871794871794873, &quot;z&quot;: 0.9879232688544793}, {&quot;x&quot;: -0.5384615384615381, &quot;y&quot;: 0.5384615384615385, &quot;z&quot;: 1.0237402141077094}, {&quot;x&quot;: -0.5384615384615381, &quot;y&quot;: 0.5897435897435899, &quot;z&quot;: 1.057888476190671}, {&quot;x&quot;: -0.5384615384615381, &quot;y&quot;: 0.6410256410256412, &quot;z&quot;: 1.0905815974278021}, {&quot;x&quot;: -0.5384615384615381, &quot;y&quot;: 0.6923076923076925, &quot;z&quot;: 1.1219911227402104}, {&quot;x&quot;: -0.5384615384615381, &quot;y&quot;: 0.7435897435897438, &quot;z&quot;: 1.1522573269049428}, {&quot;x&quot;: -0.5384615384615381, &quot;y&quot;: 0.7948717948717952, &quot;z&quot;: 1.1814966566440952}, {&quot;x&quot;: -0.5384615384615381, &quot;y&quot;: 0.8461538461538465, &quot;z&quot;: 1.2098070394101663}, {&quot;x&quot;: -0.5384615384615381, &quot;y&quot;: 0.8974358974358978, &quot;z&quot;: 1.2372717618337084}, {&quot;x&quot;: -0.5384615384615381, &quot;y&quot;: 0.9487179487179491, &quot;z&quot;: 1.263962362413781}, {&quot;x&quot;: -0.5384615384615381, &quot;y&quot;: 1.0, &quot;z&quot;: 1.2899408284023663}, {&quot;x&quot;: -0.48717948717948684, &quot;y&quot;: 0.02564102564102587, &quot;z&quot;: 0.39747200653355563}, {&quot;x&quot;: -0.48717948717948684, &quot;y&quot;: 0.07692307692307715, &quot;z&quot;: 0.5146939508410827}, {&quot;x&quot;: -0.48717948717948684, &quot;y&quot;: 0.12820512820512842, &quot;z&quot;: 0.5954012897481845}, {&quot;x&quot;: -0.48717948717948684, &quot;y&quot;: 0.17948717948717968, &quot;z&quot;: 0.6610031255966297}, {&quot;x&quot;: -0.48717948717948684, &quot;y&quot;: 0.23076923076923095, &quot;z&quot;: 0.7177283141437294}, {&quot;x&quot;: -0.48717948717948684, &quot;y&quot;: 0.2820512820512822, &quot;z&quot;: 0.7684288572722623}, {&quot;x&quot;: -0.48717948717948684, &quot;y&quot;: 0.3333333333333335, &quot;z&quot;: 0.8146941219180936}, {&quot;x&quot;: -0.48717948717948684, &quot;y&quot;: 0.38461538461538475, &quot;z&quot;: 0.8575175256745102}, {&quot;x&quot;: -0.48717948717948684, &quot;y&quot;: 0.435897435897436, &quot;z&quot;: 0.8975691445019927}, {&quot;x&quot;: -0.48717948717948684, &quot;y&quot;: 0.4871794871794873, &quot;z&quot;: 0.9353262931805807}, {&quot;x&quot;: -0.48717948717948684, &quot;y&quot;: 0.5384615384615385, &quot;z&quot;: 0.9711432384338107}, {&quot;x&quot;: -0.48717948717948684, &quot;y&quot;: 0.5897435897435899, &quot;z&quot;: 1.0052915005167724}, {&quot;x&quot;: -0.48717948717948684, &quot;y&quot;: 0.6410256410256412, &quot;z&quot;: 1.0379846217539035}, {&quot;x&quot;: -0.48717948717948684, &quot;y&quot;: 0.6923076923076925, &quot;z&quot;: 1.0693941470663115}, {&quot;x&quot;: -0.48717948717948684, &quot;y&quot;: 0.7435897435897438, &quot;z&quot;: 1.099660351231044}, {&quot;x&quot;: -0.48717948717948684, &quot;y&quot;: 0.7948717948717952, &quot;z&quot;: 1.1288996809701966}, {&quot;x&quot;: -0.48717948717948684, &quot;y&quot;: 0.8461538461538465, &quot;z&quot;: 1.1572100637362677}, {&quot;x&quot;: -0.48717948717948684, &quot;y&quot;: 0.8974358974358978, &quot;z&quot;: 1.1846747861598097}, {&quot;x&quot;: -0.48717948717948684, &quot;y&quot;: 0.9487179487179491, &quot;z&quot;: 1.2113653867398824}, {&quot;x&quot;: -0.48717948717948684, &quot;y&quot;: 1.0, &quot;z&quot;: 1.2373438527284677}, {&quot;x&quot;: -0.43589743589743557, &quot;y&quot;: 0.02564102564102587, &quot;z&quot;: 0.3501347284270468}, {&quot;x&quot;: -0.43589743589743557, &quot;y&quot;: 0.07692307692307715, &quot;z&quot;: 0.46735667273457393}, {&quot;x&quot;: -0.43589743589743557, &quot;y&quot;: 0.12820512820512842, &quot;z&quot;: 0.5480640116416756}, {&quot;x&quot;: -0.43589743589743557, &quot;y&quot;: 0.17948717948717968, &quot;z&quot;: 0.6136658474901209}, {&quot;x&quot;: -0.43589743589743557, &quot;y&quot;: 0.23076923076923095, &quot;z&quot;: 0.6703910360372205}, {&quot;x&quot;: -0.43589743589743557, &quot;y&quot;: 0.2820512820512822, &quot;z&quot;: 0.7210915791657534}, {&quot;x&quot;: -0.43589743589743557, &quot;y&quot;: 0.3333333333333335, &quot;z&quot;: 0.7673568438115848}, {&quot;x&quot;: -0.43589743589743557, &quot;y&quot;: 0.38461538461538475, &quot;z&quot;: 0.8101802475680013}, {&quot;x&quot;: -0.43589743589743557, &quot;y&quot;: 0.435897435897436, &quot;z&quot;: 0.8502318663954838}, {&quot;x&quot;: -0.43589743589743557, &quot;y&quot;: 0.4871794871794873, &quot;z&quot;: 0.8879890150740718}, {&quot;x&quot;: -0.43589743589743557, &quot;y&quot;: 0.5384615384615385, &quot;z&quot;: 0.9238059603273018}, {&quot;x&quot;: -0.43589743589743557, &quot;y&quot;: 0.5897435897435899, &quot;z&quot;: 0.9579542224102635}, {&quot;x&quot;: -0.43589743589743557, &quot;y&quot;: 0.6410256410256412, &quot;z&quot;: 0.9906473436473947}, {&quot;x&quot;: -0.43589743589743557, &quot;y&quot;: 0.6923076923076925, &quot;z&quot;: 1.0220568689598029}, {&quot;x&quot;: -0.43589743589743557, &quot;y&quot;: 0.7435897435897438, &quot;z&quot;: 1.0523230731245354}, {&quot;x&quot;: -0.43589743589743557, &quot;y&quot;: 0.7948717948717952, &quot;z&quot;: 1.0815624028636879}, {&quot;x&quot;: -0.43589743589743557, &quot;y&quot;: 0.8461538461538465, &quot;z&quot;: 1.109872785629759}, {&quot;x&quot;: -0.43589743589743557, &quot;y&quot;: 0.8974358974358978, &quot;z&quot;: 1.137337508053301}, {&quot;x&quot;: -0.43589743589743557, &quot;y&quot;: 0.9487179487179491, &quot;z&quot;: 1.1640281086333735}, {&quot;x&quot;: -0.43589743589743557, &quot;y&quot;: 1.0, &quot;z&quot;: 1.190006574621959}, {&quot;x&quot;: -0.3846153846153843, &quot;y&quot;: 0.02564102564102587, &quot;z&quot;: 0.3080571478879278}, {&quot;x&quot;: -0.3846153846153843, &quot;y&quot;: 0.07692307692307715, &quot;z&quot;: 0.42527909219545496}, {&quot;x&quot;: -0.3846153846153843, &quot;y&quot;: 0.12820512820512842, &quot;z&quot;: 0.5059864311025567}, {&quot;x&quot;: -0.3846153846153843, &quot;y&quot;: 0.17948717948717968, &quot;z&quot;: 0.571588266951002}, {&quot;x&quot;: -0.3846153846153843, &quot;y&quot;: 0.23076923076923095, &quot;z&quot;: 0.6283134554981016}, {&quot;x&quot;: -0.3846153846153843, &quot;y&quot;: 0.2820512820512822, &quot;z&quot;: 0.6790139986266345}, {&quot;x&quot;: -0.3846153846153843, &quot;y&quot;: 0.3333333333333335, &quot;z&quot;: 0.7252792632724658}, {&quot;x&quot;: -0.3846153846153843, &quot;y&quot;: 0.38461538461538475, &quot;z&quot;: 0.7681026670288824}, {&quot;x&quot;: -0.3846153846153843, &quot;y&quot;: 0.435897435897436, &quot;z&quot;: 0.8081542858563648}, {&quot;x&quot;: -0.3846153846153843, &quot;y&quot;: 0.4871794871794873, &quot;z&quot;: 0.8459114345349529}, {&quot;x&quot;: -0.3846153846153843, &quot;y&quot;: 0.5384615384615385, &quot;z&quot;: 0.8817283797881829}, {&quot;x&quot;: -0.3846153846153843, &quot;y&quot;: 0.5897435897435899, &quot;z&quot;: 0.9158766418711446}, {&quot;x&quot;: -0.3846153846153843, &quot;y&quot;: 0.6410256410256412, &quot;z&quot;: 0.9485697631082758}, {&quot;x&quot;: -0.3846153846153843, &quot;y&quot;: 0.6923076923076925, &quot;z&quot;: 0.9799792884206838}, {&quot;x&quot;: -0.3846153846153843, &quot;y&quot;: 0.7435897435897438, &quot;z&quot;: 1.0102454925854163}, {&quot;x&quot;: -0.3846153846153843, &quot;y&quot;: 0.7948717948717952, &quot;z&quot;: 1.0394848223245687}, {&quot;x&quot;: -0.3846153846153843, &quot;y&quot;: 0.8461538461538465, &quot;z&quot;: 1.0677952050906399}, {&quot;x&quot;: -0.3846153846153843, &quot;y&quot;: 0.8974358974358978, &quot;z&quot;: 1.0952599275141819}, {&quot;x&quot;: -0.3846153846153843, &quot;y&quot;: 0.9487179487179491, &quot;z&quot;: 1.1219505280942546}, {&quot;x&quot;: -0.3846153846153843, &quot;y&quot;: 1.0, &quot;z&quot;: 1.1479289940828399}, {&quot;x&quot;: -0.33333333333333304, &quot;y&quot;: 0.02564102564102587, &quot;z&quot;: 0.27123926491619876}, {&quot;x&quot;: -0.33333333333333304, &quot;y&quot;: 0.07692307692307715, &quot;z&quot;: 0.38846120922372585}, {&quot;x&quot;: -0.33333333333333304, &quot;y&quot;: 0.12820512820512842, &quot;z&quot;: 0.46916854813082765}, {&quot;x&quot;: -0.33333333333333304, &quot;y&quot;: 0.17948717948717968, &quot;z&quot;: 0.5347703839792728}, {&quot;x&quot;: -0.33333333333333304, &quot;y&quot;: 0.23076923076923095, &quot;z&quot;: 0.5914955725263725}, {&quot;x&quot;: -0.33333333333333304, &quot;y&quot;: 0.2820512820512822, &quot;z&quot;: 0.6421961156549054}, {&quot;x&quot;: -0.33333333333333304, &quot;y&quot;: 0.3333333333333335, &quot;z&quot;: 0.6884613803007368}, {&quot;x&quot;: -0.33333333333333304, &quot;y&quot;: 0.38461538461538475, &quot;z&quot;: 0.7312847840571534}, {&quot;x&quot;: -0.33333333333333304, &quot;y&quot;: 0.435897435897436, &quot;z&quot;: 0.7713364028846358}, {&quot;x&quot;: -0.33333333333333304, &quot;y&quot;: 0.4871794871794873, &quot;z&quot;: 0.8090935515632238}, {&quot;x&quot;: -0.33333333333333304, &quot;y&quot;: 0.5384615384615385, &quot;z&quot;: 0.8449104968164538}, {&quot;x&quot;: -0.33333333333333304, &quot;y&quot;: 0.5897435897435899, &quot;z&quot;: 0.8790587588994155}, {&quot;x&quot;: -0.33333333333333304, &quot;y&quot;: 0.6410256410256412, &quot;z&quot;: 0.9117518801365467}, {&quot;x&quot;: -0.33333333333333304, &quot;y&quot;: 0.6923076923076925, &quot;z&quot;: 0.9431614054489548}, {&quot;x&quot;: -0.33333333333333304, &quot;y&quot;: 0.7435897435897438, &quot;z&quot;: 0.9734276096136874}, {&quot;x&quot;: -0.33333333333333304, &quot;y&quot;: 0.7948717948717952, &quot;z&quot;: 1.0026669393528398}, {&quot;x&quot;: -0.33333333333333304, &quot;y&quot;: 0.8461538461538465, &quot;z&quot;: 1.030977322118911}, {&quot;x&quot;: -0.33333333333333304, &quot;y&quot;: 0.8974358974358978, &quot;z&quot;: 1.058442044542453}, {&quot;x&quot;: -0.33333333333333304, &quot;y&quot;: 0.9487179487179491, &quot;z&quot;: 1.0851326451225254}, {&quot;x&quot;: -0.33333333333333304, &quot;y&quot;: 1.0, &quot;z&quot;: 1.111111111111111}, {&quot;x&quot;: -0.28205128205128177, &quot;y&quot;: 0.02564102564102587, &quot;z&quot;: 0.23968107951185957}, {&quot;x&quot;: -0.28205128205128177, &quot;y&quot;: 0.07692307692307715, &quot;z&quot;: 0.35690302381938666}, {&quot;x&quot;: -0.28205128205128177, &quot;y&quot;: 0.12820512820512842, &quot;z&quot;: 0.4376103627264884}, {&quot;x&quot;: -0.28205128205128177, &quot;y&quot;: 0.17948717948717968, &quot;z&quot;: 0.5032121985749336}, {&quot;x&quot;: -0.28205128205128177, &quot;y&quot;: 0.23076923076923095, &quot;z&quot;: 0.5599373871220333}, {&quot;x&quot;: -0.28205128205128177, &quot;y&quot;: 0.2820512820512822, &quot;z&quot;: 0.6106379302505662}, {&quot;x&quot;: -0.28205128205128177, &quot;y&quot;: 0.3333333333333335, &quot;z&quot;: 0.6569031948963976}, {&quot;x&quot;: -0.28205128205128177, &quot;y&quot;: 0.38461538461538475, &quot;z&quot;: 0.6997265986528142}, {&quot;x&quot;: -0.28205128205128177, &quot;y&quot;: 0.435897435897436, &quot;z&quot;: 0.7397782174802966}, {&quot;x&quot;: -0.28205128205128177, &quot;y&quot;: 0.4871794871794873, &quot;z&quot;: 0.7775353661588846}, {&quot;x&quot;: -0.28205128205128177, &quot;y&quot;: 0.5384615384615385, &quot;z&quot;: 0.8133523114121146}, {&quot;x&quot;: -0.28205128205128177, &quot;y&quot;: 0.5897435897435899, &quot;z&quot;: 0.8475005734950763}, {&quot;x&quot;: -0.28205128205128177, &quot;y&quot;: 0.6410256410256412, &quot;z&quot;: 0.8801936947322075}, {&quot;x&quot;: -0.28205128205128177, &quot;y&quot;: 0.6923076923076925, &quot;z&quot;: 0.9116032200446156}, {&quot;x&quot;: -0.28205128205128177, &quot;y&quot;: 0.7435897435897438, &quot;z&quot;: 0.9418694242093482}, {&quot;x&quot;: -0.28205128205128177, &quot;y&quot;: 0.7948717948717952, &quot;z&quot;: 0.9711087539485006}, {&quot;x&quot;: -0.28205128205128177, &quot;y&quot;: 0.8461538461538465, &quot;z&quot;: 0.9994191367145717}, {&quot;x&quot;: -0.28205128205128177, &quot;y&quot;: 0.8974358974358978, &quot;z&quot;: 1.0268838591381138}, {&quot;x&quot;: -0.28205128205128177, &quot;y&quot;: 0.9487179487179491, &quot;z&quot;: 1.0535744597181862}, {&quot;x&quot;: -0.28205128205128177, &quot;y&quot;: 1.0, &quot;z&quot;: 1.0795529257067717}, {&quot;x&quot;: -0.2307692307692305, &quot;y&quot;: 0.02564102564102587, &quot;z&quot;: 0.21338259167491022}, {&quot;x&quot;: -0.2307692307692305, &quot;y&quot;: 0.07692307692307715, &quot;z&quot;: 0.33060453598243733}, {&quot;x&quot;: -0.2307692307692305, &quot;y&quot;: 0.12820512820512842, &quot;z&quot;: 0.4113118748895391}, {&quot;x&quot;: -0.2307692307692305, &quot;y&quot;: 0.17948717948717968, &quot;z&quot;: 0.4769137107379843}, {&quot;x&quot;: -0.2307692307692305, &quot;y&quot;: 0.23076923076923095, &quot;z&quot;: 0.5336388992850839}, {&quot;x&quot;: -0.2307692307692305, &quot;y&quot;: 0.2820512820512822, &quot;z&quot;: 0.5843394424136168}, {&quot;x&quot;: -0.2307692307692305, &quot;y&quot;: 0.3333333333333335, &quot;z&quot;: 0.6306047070594482}, {&quot;x&quot;: -0.2307692307692305, &quot;y&quot;: 0.38461538461538475, &quot;z&quot;: 0.6734281108158647}, {&quot;x&quot;: -0.2307692307692305, &quot;y&quot;: 0.435897435897436, &quot;z&quot;: 0.7134797296433472}, {&quot;x&quot;: -0.2307692307692305, &quot;y&quot;: 0.4871794871794873, &quot;z&quot;: 0.7512368783219352}, {&quot;x&quot;: -0.2307692307692305, &quot;y&quot;: 0.5384615384615385, &quot;z&quot;: 0.7870538235751652}, {&quot;x&quot;: -0.2307692307692305, &quot;y&quot;: 0.5897435897435899, &quot;z&quot;: 0.8212020856581269}, {&quot;x&quot;: -0.2307692307692305, &quot;y&quot;: 0.6410256410256412, &quot;z&quot;: 0.8538952068952581}, {&quot;x&quot;: -0.2307692307692305, &quot;y&quot;: 0.6923076923076925, &quot;z&quot;: 0.8853047322076661}, {&quot;x&quot;: -0.2307692307692305, &quot;y&quot;: 0.7435897435897438, &quot;z&quot;: 0.9155709363723987}, {&quot;x&quot;: -0.2307692307692305, &quot;y&quot;: 0.7948717948717952, &quot;z&quot;: 0.9448102661115512}, {&quot;x&quot;: -0.2307692307692305, &quot;y&quot;: 0.8461538461538465, &quot;z&quot;: 0.9731206488776223}, {&quot;x&quot;: -0.2307692307692305, &quot;y&quot;: 0.8974358974358978, &quot;z&quot;: 1.0005853713011643}, {&quot;x&quot;: -0.2307692307692305, &quot;y&quot;: 0.9487179487179491, &quot;z&quot;: 1.027275971881237}, {&quot;x&quot;: -0.2307692307692305, &quot;y&quot;: 1.0, &quot;z&quot;: 1.0532544378698223}, {&quot;x&quot;: -0.17948717948717924, &quot;y&quot;: 0.02564102564102587, &quot;z&quot;: 0.19234380140535073}, {&quot;x&quot;: -0.17948717948717924, &quot;y&quot;: 0.07692307692307715, &quot;z&quot;: 0.30956574571287787}, {&quot;x&quot;: -0.17948717948717924, &quot;y&quot;: 0.12820512820512842, &quot;z&quot;: 0.3902730846199796}, {&quot;x&quot;: -0.17948717948717924, &quot;y&quot;: 0.17948717948717968, &quot;z&quot;: 0.4558749204684248}, {&quot;x&quot;: -0.17948717948717924, &quot;y&quot;: 0.23076923076923095, &quot;z&quot;: 0.5126001090155244}, {&quot;x&quot;: -0.17948717948717924, &quot;y&quot;: 0.2820512820512822, &quot;z&quot;: 0.5633006521440573}, {&quot;x&quot;: -0.17948717948717924, &quot;y&quot;: 0.3333333333333335, &quot;z&quot;: 0.6095659167898887}, {&quot;x&quot;: -0.17948717948717924, &quot;y&quot;: 0.38461538461538475, &quot;z&quot;: 0.6523893205463053}, {&quot;x&quot;: -0.17948717948717924, &quot;y&quot;: 0.435897435897436, &quot;z&quot;: 0.6924409393737877}, {&quot;x&quot;: -0.17948717948717924, &quot;y&quot;: 0.4871794871794873, &quot;z&quot;: 0.7301980880523757}, {&quot;x&quot;: -0.17948717948717924, &quot;y&quot;: 0.5384615384615385, &quot;z&quot;: 0.7660150333056057}, {&quot;x&quot;: -0.17948717948717924, &quot;y&quot;: 0.5897435897435899, &quot;z&quot;: 0.8001632953885675}, {&quot;x&quot;: -0.17948717948717924, &quot;y&quot;: 0.6410256410256412, &quot;z&quot;: 0.8328564166256986}, {&quot;x&quot;: -0.17948717948717924, &quot;y&quot;: 0.6923076923076925, &quot;z&quot;: 0.8642659419381067}, {&quot;x&quot;: -0.17948717948717924, &quot;y&quot;: 0.7435897435897438, &quot;z&quot;: 0.8945321461028393}, {&quot;x&quot;: -0.17948717948717924, &quot;y&quot;: 0.7948717948717952, &quot;z&quot;: 0.9237714758419917}, {&quot;x&quot;: -0.17948717948717924, &quot;y&quot;: 0.8461538461538465, &quot;z&quot;: 0.9520818586080628}, {&quot;x&quot;: -0.17948717948717924, &quot;y&quot;: 0.8974358974358978, &quot;z&quot;: 0.9795465810316049}, {&quot;x&quot;: -0.17948717948717924, &quot;y&quot;: 0.9487179487179491, &quot;z&quot;: 1.0062371816116775}, {&quot;x&quot;: -0.17948717948717924, &quot;y&quot;: 1.0, &quot;z&quot;: 1.0322156476002629}, {&quot;x&quot;: -0.12820512820512797, &quot;y&quot;: 0.02564102564102587, &quot;z&quot;: 0.17656470870318114}, {&quot;x&quot;: -0.12820512820512797, &quot;y&quot;: 0.07692307692307715, &quot;z&quot;: 0.2937866530107083}, {&quot;x&quot;: -0.12820512820512797, &quot;y&quot;: 0.12820512820512842, &quot;z&quot;: 0.37449399191781}, {&quot;x&quot;: -0.12820512820512797, &quot;y&quot;: 0.17948717948717968, &quot;z&quot;: 0.4400958277662552}, {&quot;x&quot;: -0.12820512820512797, &quot;y&quot;: 0.23076923076923095, &quot;z&quot;: 0.4968210163133549}, {&quot;x&quot;: -0.12820512820512797, &quot;y&quot;: 0.2820512820512822, &quot;z&quot;: 0.5475215594418877}, {&quot;x&quot;: -0.12820512820512797, &quot;y&quot;: 0.3333333333333335, &quot;z&quot;: 0.5937868240877191}, {&quot;x&quot;: -0.12820512820512797, &quot;y&quot;: 0.38461538461538475, &quot;z&quot;: 0.6366102278441357}, {&quot;x&quot;: -0.12820512820512797, &quot;y&quot;: 0.435897435897436, &quot;z&quot;: 0.6766618466716181}, {&quot;x&quot;: -0.12820512820512797, &quot;y&quot;: 0.4871794871794873, &quot;z&quot;: 0.7144189953502061}, {&quot;x&quot;: -0.12820512820512797, &quot;y&quot;: 0.5384615384615385, &quot;z&quot;: 0.7502359406034361}, {&quot;x&quot;: -0.12820512820512797, &quot;y&quot;: 0.5897435897435899, &quot;z&quot;: 0.7843842026863979}, {&quot;x&quot;: -0.12820512820512797, &quot;y&quot;: 0.6410256410256412, &quot;z&quot;: 0.817077323923529}, {&quot;x&quot;: -0.12820512820512797, &quot;y&quot;: 0.6923076923076925, &quot;z&quot;: 0.8484868492359371}, {&quot;x&quot;: -0.12820512820512797, &quot;y&quot;: 0.7435897435897438, &quot;z&quot;: 0.8787530534006697}, {&quot;x&quot;: -0.12820512820512797, &quot;y&quot;: 0.7948717948717952, &quot;z&quot;: 0.9079923831398221}, {&quot;x&quot;: -0.12820512820512797, &quot;y&quot;: 0.8461538461538465, &quot;z&quot;: 0.9363027659058932}, {&quot;x&quot;: -0.12820512820512797, &quot;y&quot;: 0.8974358974358978, &quot;z&quot;: 0.9637674883294353}, {&quot;x&quot;: -0.12820512820512797, &quot;y&quot;: 0.9487179487179491, &quot;z&quot;: 0.9904580889095078}, {&quot;x&quot;: -0.12820512820512797, &quot;y&quot;: 1.0, &quot;z&quot;: 1.0164365548980934}, {&quot;x&quot;: -0.07692307692307669, &quot;y&quot;: 0.02564102564102587, &quot;z&quot;: 0.16604531356840144}, {&quot;x&quot;: -0.07692307692307669, &quot;y&quot;: 0.07692307692307715, &quot;z&quot;: 0.28326725787592855}, {&quot;x&quot;: -0.07692307692307669, &quot;y&quot;: 0.12820512820512842, &quot;z&quot;: 0.3639745967830303}, {&quot;x&quot;: -0.07692307692307669, &quot;y&quot;: 0.17948717948717968, &quot;z&quot;: 0.4295764326314755}, {&quot;x&quot;: -0.07692307692307669, &quot;y&quot;: 0.23076923076923095, &quot;z&quot;: 0.48630162117857517}, {&quot;x&quot;: -0.07692307692307669, &quot;y&quot;: 0.2820512820512822, &quot;z&quot;: 0.537002164307108}, {&quot;x&quot;: -0.07692307692307669, &quot;y&quot;: 0.3333333333333335, &quot;z&quot;: 0.5832674289529394}, {&quot;x&quot;: -0.07692307692307669, &quot;y&quot;: 0.38461538461538475, &quot;z&quot;: 0.626090832709356}, {&quot;x&quot;: -0.07692307692307669, &quot;y&quot;: 0.435897435897436, &quot;z&quot;: 0.6661424515368384}, {&quot;x&quot;: -0.07692307692307669, &quot;y&quot;: 0.4871794871794873, &quot;z&quot;: 0.7038996002154264}, {&quot;x&quot;: -0.07692307692307669, &quot;y&quot;: 0.5384615384615385, &quot;z&quot;: 0.7397165454686564}, {&quot;x&quot;: -0.07692307692307669, &quot;y&quot;: 0.5897435897435899, &quot;z&quot;: 0.7738648075516181}, {&quot;x&quot;: -0.07692307692307669, &quot;y&quot;: 0.6410256410256412, &quot;z&quot;: 0.8065579287887493}, {&quot;x&quot;: -0.07692307692307669, &quot;y&quot;: 0.6923076923076925, &quot;z&quot;: 0.8379674541011574}, {&quot;x&quot;: -0.07692307692307669, &quot;y&quot;: 0.7435897435897438, &quot;z&quot;: 0.8682336582658899}, {&quot;x&quot;: -0.07692307692307669, &quot;y&quot;: 0.7948717948717952, &quot;z&quot;: 0.8974729880050424}, {&quot;x&quot;: -0.07692307692307669, &quot;y&quot;: 0.8461538461538465, &quot;z&quot;: 0.9257833707711135}, {&quot;x&quot;: -0.07692307692307669, &quot;y&quot;: 0.8974358974358978, &quot;z&quot;: 0.9532480931946555}, {&quot;x&quot;: -0.07692307692307669, &quot;y&quot;: 0.9487179487179491, &quot;z&quot;: 0.9799386937747281}, {&quot;x&quot;: -0.07692307692307669, &quot;y&quot;: 1.0, &quot;z&quot;: 1.0059171597633136}, {&quot;x&quot;: -0.02564102564102541, &quot;y&quot;: 0.02564102564102587, &quot;z&quot;: 0.16078561600101157}, {&quot;x&quot;: -0.02564102564102541, &quot;y&quot;: 0.07692307692307715, &quot;z&quot;: 0.2780075603085387}, {&quot;x&quot;: -0.02564102564102541, &quot;y&quot;: 0.12820512820512842, &quot;z&quot;: 0.3587148992156404}, {&quot;x&quot;: -0.02564102564102541, &quot;y&quot;: 0.17948717948717968, &quot;z&quot;: 0.4243167350640856}, {&quot;x&quot;: -0.02564102564102541, &quot;y&quot;: 0.23076923076923095, &quot;z&quot;: 0.4810419236111853}, {&quot;x&quot;: -0.02564102564102541, &quot;y&quot;: 0.2820512820512822, &quot;z&quot;: 0.5317424667397183}, {&quot;x&quot;: -0.02564102564102541, &quot;y&quot;: 0.3333333333333335, &quot;z&quot;: 0.5780077313855496}, {&quot;x&quot;: -0.02564102564102541, &quot;y&quot;: 0.38461538461538475, &quot;z&quot;: 0.6208311351419662}, {&quot;x&quot;: -0.02564102564102541, &quot;y&quot;: 0.435897435897436, &quot;z&quot;: 0.6608827539694486}, {&quot;x&quot;: -0.02564102564102541, &quot;y&quot;: 0.4871794871794873, &quot;z&quot;: 0.6986399026480367}, {&quot;x&quot;: -0.02564102564102541, &quot;y&quot;: 0.5384615384615385, &quot;z&quot;: 0.7344568479012666}, {&quot;x&quot;: -0.02564102564102541, &quot;y&quot;: 0.5897435897435899, &quot;z&quot;: 0.7686051099842284}, {&quot;x&quot;: -0.02564102564102541, &quot;y&quot;: 0.6410256410256412, &quot;z&quot;: 0.8012982312213596}, {&quot;x&quot;: -0.02564102564102541, &quot;y&quot;: 0.6923076923076925, &quot;z&quot;: 0.8327077565337676}, {&quot;x&quot;: -0.02564102564102541, &quot;y&quot;: 0.7435897435897438, &quot;z&quot;: 0.8629739606985002}, {&quot;x&quot;: -0.02564102564102541, &quot;y&quot;: 0.7948717948717952, &quot;z&quot;: 0.8922132904376526}, {&quot;x&quot;: -0.02564102564102541, &quot;y&quot;: 0.8461538461538465, &quot;z&quot;: 0.9205236732037237}, {&quot;x&quot;: -0.02564102564102541, &quot;y&quot;: 0.8974358974358978, &quot;z&quot;: 0.9479883956272658}, {&quot;x&quot;: -0.02564102564102541, &quot;y&quot;: 0.9487179487179491, &quot;z&quot;: 0.9746789962073383}, {&quot;x&quot;: -0.02564102564102541, &quot;y&quot;: 1.0, &quot;z&quot;: 1.0006574621959237}, {&quot;x&quot;: 0.02564102564102587, &quot;y&quot;: 0.02564102564102587, &quot;z&quot;: 0.1607856160010116}, {&quot;x&quot;: 0.02564102564102587, &quot;y&quot;: 0.07692307692307715, &quot;z&quot;: 0.2780075603085387}, {&quot;x&quot;: 0.02564102564102587, &quot;y&quot;: 0.12820512820512842, &quot;z&quot;: 0.3587148992156404}, {&quot;x&quot;: 0.02564102564102587, &quot;y&quot;: 0.17948717948717968, &quot;z&quot;: 0.4243167350640856}, {&quot;x&quot;: 0.02564102564102587, &quot;y&quot;: 0.23076923076923095, &quot;z&quot;: 0.4810419236111853}, {&quot;x&quot;: 0.02564102564102587, &quot;y&quot;: 0.2820512820512822, &quot;z&quot;: 0.5317424667397183}, {&quot;x&quot;: 0.02564102564102587, &quot;y&quot;: 0.3333333333333335, &quot;z&quot;: 0.5780077313855496}, {&quot;x&quot;: 0.02564102564102587, &quot;y&quot;: 0.38461538461538475, &quot;z&quot;: 0.6208311351419662}, {&quot;x&quot;: 0.02564102564102587, &quot;y&quot;: 0.435897435897436, &quot;z&quot;: 0.6608827539694486}, {&quot;x&quot;: 0.02564102564102587, &quot;y&quot;: 0.4871794871794873, &quot;z&quot;: 0.6986399026480367}, {&quot;x&quot;: 0.02564102564102587, &quot;y&quot;: 0.5384615384615385, &quot;z&quot;: 0.7344568479012666}, {&quot;x&quot;: 0.02564102564102587, &quot;y&quot;: 0.5897435897435899, &quot;z&quot;: 0.7686051099842284}, {&quot;x&quot;: 0.02564102564102587, &quot;y&quot;: 0.6410256410256412, &quot;z&quot;: 0.8012982312213596}, {&quot;x&quot;: 0.02564102564102587, &quot;y&quot;: 0.6923076923076925, &quot;z&quot;: 0.8327077565337676}, {&quot;x&quot;: 0.02564102564102587, &quot;y&quot;: 0.7435897435897438, &quot;z&quot;: 0.8629739606985002}, {&quot;x&quot;: 0.02564102564102587, &quot;y&quot;: 0.7948717948717952, &quot;z&quot;: 0.8922132904376526}, {&quot;x&quot;: 0.02564102564102587, &quot;y&quot;: 0.8461538461538465, &quot;z&quot;: 0.9205236732037237}, {&quot;x&quot;: 0.02564102564102587, &quot;y&quot;: 0.8974358974358978, &quot;z&quot;: 0.9479883956272658}, {&quot;x&quot;: 0.02564102564102587, &quot;y&quot;: 0.9487179487179491, &quot;z&quot;: 0.9746789962073383}, {&quot;x&quot;: 0.02564102564102587, &quot;y&quot;: 1.0, &quot;z&quot;: 1.0006574621959237}, {&quot;x&quot;: 0.07692307692307715, &quot;y&quot;: 0.02564102564102587, &quot;z&quot;: 0.1660453135684015}, {&quot;x&quot;: 0.07692307692307715, &quot;y&quot;: 0.07692307692307715, &quot;z&quot;: 0.2832672578759286}, {&quot;x&quot;: 0.07692307692307715, &quot;y&quot;: 0.12820512820512842, &quot;z&quot;: 0.36397459678303035}, {&quot;x&quot;: 0.07692307692307715, &quot;y&quot;: 0.17948717948717968, &quot;z&quot;: 0.42957643263147555}, {&quot;x&quot;: 0.07692307692307715, &quot;y&quot;: 0.23076923076923095, &quot;z&quot;: 0.4863016211785752}, {&quot;x&quot;: 0.07692307692307715, &quot;y&quot;: 0.2820512820512822, &quot;z&quot;: 0.5370021643071081}, {&quot;x&quot;: 0.07692307692307715, &quot;y&quot;: 0.3333333333333335, &quot;z&quot;: 0.5832674289529395}, {&quot;x&quot;: 0.07692307692307715, &quot;y&quot;: 0.38461538461538475, &quot;z&quot;: 0.6260908327093561}, {&quot;x&quot;: 0.07692307692307715, &quot;y&quot;: 0.435897435897436, &quot;z&quot;: 0.6661424515368385}, {&quot;x&quot;: 0.07692307692307715, &quot;y&quot;: 0.4871794871794873, &quot;z&quot;: 0.7038996002154265}, {&quot;x&quot;: 0.07692307692307715, &quot;y&quot;: 0.5384615384615385, &quot;z&quot;: 0.7397165454686565}, {&quot;x&quot;: 0.07692307692307715, &quot;y&quot;: 0.5897435897435899, &quot;z&quot;: 0.7738648075516182}, {&quot;x&quot;: 0.07692307692307715, &quot;y&quot;: 0.6410256410256412, &quot;z&quot;: 0.8065579287887494}, {&quot;x&quot;: 0.07692307692307715, &quot;y&quot;: 0.6923076923076925, &quot;z&quot;: 0.8379674541011575}, {&quot;x&quot;: 0.07692307692307715, &quot;y&quot;: 0.7435897435897438, &quot;z&quot;: 0.86823365826589}, {&quot;x&quot;: 0.07692307692307715, &quot;y&quot;: 0.7948717948717952, &quot;z&quot;: 0.8974729880050425}, {&quot;x&quot;: 0.07692307692307715, &quot;y&quot;: 0.8461538461538465, &quot;z&quot;: 0.9257833707711136}, {&quot;x&quot;: 0.07692307692307715, &quot;y&quot;: 0.8974358974358978, &quot;z&quot;: 0.9532480931946556}, {&quot;x&quot;: 0.07692307692307715, &quot;y&quot;: 0.9487179487179491, &quot;z&quot;: 0.9799386937747282}, {&quot;x&quot;: 0.07692307692307715, &quot;y&quot;: 1.0, &quot;z&quot;: 1.0059171597633136}, {&quot;x&quot;: 0.12820512820512842, &quot;y&quot;: 0.02564102564102587, &quot;z&quot;: 0.17656470870318128}, {&quot;x&quot;: 0.12820512820512842, &quot;y&quot;: 0.07692307692307715, &quot;z&quot;: 0.2937866530107084}, {&quot;x&quot;: 0.12820512820512842, &quot;y&quot;: 0.12820512820512842, &quot;z&quot;: 0.37449399191781013}, {&quot;x&quot;: 0.12820512820512842, &quot;y&quot;: 0.17948717948717968, &quot;z&quot;: 0.44009582776625533}, {&quot;x&quot;: 0.12820512820512842, &quot;y&quot;: 0.23076923076923095, &quot;z&quot;: 0.496821016313355}, {&quot;x&quot;: 0.12820512820512842, &quot;y&quot;: 0.2820512820512822, &quot;z&quot;: 0.5475215594418879}, {&quot;x&quot;: 0.12820512820512842, &quot;y&quot;: 0.3333333333333335, &quot;z&quot;: 0.5937868240877192}, {&quot;x&quot;: 0.12820512820512842, &quot;y&quot;: 0.38461538461538475, &quot;z&quot;: 0.6366102278441358}, {&quot;x&quot;: 0.12820512820512842, &quot;y&quot;: 0.435897435897436, &quot;z&quot;: 0.6766618466716182}, {&quot;x&quot;: 0.12820512820512842, &quot;y&quot;: 0.4871794871794873, &quot;z&quot;: 0.7144189953502063}, {&quot;x&quot;: 0.12820512820512842, &quot;y&quot;: 0.5384615384615385, &quot;z&quot;: 0.7502359406034362}, {&quot;x&quot;: 0.12820512820512842, &quot;y&quot;: 0.5897435897435899, &quot;z&quot;: 0.784384202686398}, {&quot;x&quot;: 0.12820512820512842, &quot;y&quot;: 0.6410256410256412, &quot;z&quot;: 0.8170773239235292}, {&quot;x&quot;: 0.12820512820512842, &quot;y&quot;: 0.6923076923076925, &quot;z&quot;: 0.8484868492359372}, {&quot;x&quot;: 0.12820512820512842, &quot;y&quot;: 0.7435897435897438, &quot;z&quot;: 0.8787530534006698}, {&quot;x&quot;: 0.12820512820512842, &quot;y&quot;: 0.7948717948717952, &quot;z&quot;: 0.9079923831398222}, {&quot;x&quot;: 0.12820512820512842, &quot;y&quot;: 0.8461538461538465, &quot;z&quot;: 0.9363027659058933}, {&quot;x&quot;: 0.12820512820512842, &quot;y&quot;: 0.8974358974358978, &quot;z&quot;: 0.9637674883294354}, {&quot;x&quot;: 0.12820512820512842, &quot;y&quot;: 0.9487179487179491, &quot;z&quot;: 0.9904580889095079}, {&quot;x&quot;: 0.12820512820512842, &quot;y&quot;: 1.0, &quot;z&quot;: 1.0164365548980934}, {&quot;x&quot;: 0.17948717948717968, &quot;y&quot;: 0.02564102564102587, &quot;z&quot;: 0.1923438014053509}, {&quot;x&quot;: 0.17948717948717968, &quot;y&quot;: 0.07692307692307715, &quot;z&quot;: 0.30956574571287804}, {&quot;x&quot;: 0.17948717948717968, &quot;y&quot;: 0.12820512820512842, &quot;z&quot;: 0.3902730846199798}, {&quot;x&quot;: 0.17948717948717968, &quot;y&quot;: 0.17948717948717968, &quot;z&quot;: 0.455874920468425}, {&quot;x&quot;: 0.17948717948717968, &quot;y&quot;: 0.23076923076923095, &quot;z&quot;: 0.5126001090155247}, {&quot;x&quot;: 0.17948717948717968, &quot;y&quot;: 0.2820512820512822, &quot;z&quot;: 0.5633006521440576}, {&quot;x&quot;: 0.17948717948717968, &quot;y&quot;: 0.3333333333333335, &quot;z&quot;: 0.6095659167898889}, {&quot;x&quot;: 0.17948717948717968, &quot;y&quot;: 0.38461538461538475, &quot;z&quot;: 0.6523893205463055}, {&quot;x&quot;: 0.17948717948717968, &quot;y&quot;: 0.435897435897436, &quot;z&quot;: 0.6924409393737879}, {&quot;x&quot;: 0.17948717948717968, &quot;y&quot;: 0.4871794871794873, &quot;z&quot;: 0.730198088052376}, {&quot;x&quot;: 0.17948717948717968, &quot;y&quot;: 0.5384615384615385, &quot;z&quot;: 0.7660150333056059}, {&quot;x&quot;: 0.17948717948717968, &quot;y&quot;: 0.5897435897435899, &quot;z&quot;: 0.8001632953885677}, {&quot;x&quot;: 0.17948717948717968, &quot;y&quot;: 0.6410256410256412, &quot;z&quot;: 0.8328564166256989}, {&quot;x&quot;: 0.17948717948717968, &quot;y&quot;: 0.6923076923076925, &quot;z&quot;: 0.8642659419381069}, {&quot;x&quot;: 0.17948717948717968, &quot;y&quot;: 0.7435897435897438, &quot;z&quot;: 0.8945321461028395}, {&quot;x&quot;: 0.17948717948717968, &quot;y&quot;: 0.7948717948717952, &quot;z&quot;: 0.9237714758419919}, {&quot;x&quot;: 0.17948717948717968, &quot;y&quot;: 0.8461538461538465, &quot;z&quot;: 0.952081858608063}, {&quot;x&quot;: 0.17948717948717968, &quot;y&quot;: 0.8974358974358978, &quot;z&quot;: 0.9795465810316051}, {&quot;x&quot;: 0.17948717948717968, &quot;y&quot;: 0.9487179487179491, &quot;z&quot;: 1.0062371816116775}, {&quot;x&quot;: 0.17948717948717968, &quot;y&quot;: 1.0, &quot;z&quot;: 1.032215647600263}, {&quot;x&quot;: 0.23076923076923095, &quot;y&quot;: 0.02564102564102587, &quot;z&quot;: 0.21338259167491042}, {&quot;x&quot;: 0.23076923076923095, &quot;y&quot;: 0.07692307692307715, &quot;z&quot;: 0.33060453598243755}, {&quot;x&quot;: 0.23076923076923095, &quot;y&quot;: 0.12820512820512842, &quot;z&quot;: 0.4113118748895393}, {&quot;x&quot;: 0.23076923076923095, &quot;y&quot;: 0.17948717948717968, &quot;z&quot;: 0.4769137107379845}, {&quot;x&quot;: 0.23076923076923095, &quot;y&quot;: 0.23076923076923095, &quot;z&quot;: 0.5336388992850841}, {&quot;x&quot;: 0.23076923076923095, &quot;y&quot;: 0.2820512820512822, &quot;z&quot;: 0.584339442413617}, {&quot;x&quot;: 0.23076923076923095, &quot;y&quot;: 0.3333333333333335, &quot;z&quot;: 0.6306047070594484}, {&quot;x&quot;: 0.23076923076923095, &quot;y&quot;: 0.38461538461538475, &quot;z&quot;: 0.673428110815865}, {&quot;x&quot;: 0.23076923076923095, &quot;y&quot;: 0.435897435897436, &quot;z&quot;: 0.7134797296433474}, {&quot;x&quot;: 0.23076923076923095, &quot;y&quot;: 0.4871794871794873, &quot;z&quot;: 0.7512368783219354}, {&quot;x&quot;: 0.23076923076923095, &quot;y&quot;: 0.5384615384615385, &quot;z&quot;: 0.7870538235751654}, {&quot;x&quot;: 0.23076923076923095, &quot;y&quot;: 0.5897435897435899, &quot;z&quot;: 0.8212020856581271}, {&quot;x&quot;: 0.23076923076923095, &quot;y&quot;: 0.6410256410256412, &quot;z&quot;: 0.8538952068952583}, {&quot;x&quot;: 0.23076923076923095, &quot;y&quot;: 0.6923076923076925, &quot;z&quot;: 0.8853047322076664}, {&quot;x&quot;: 0.23076923076923095, &quot;y&quot;: 0.7435897435897438, &quot;z&quot;: 0.915570936372399}, {&quot;x&quot;: 0.23076923076923095, &quot;y&quot;: 0.7948717948717952, &quot;z&quot;: 0.9448102661115514}, {&quot;x&quot;: 0.23076923076923095, &quot;y&quot;: 0.8461538461538465, &quot;z&quot;: 0.9731206488776225}, {&quot;x&quot;: 0.23076923076923095, &quot;y&quot;: 0.8974358974358978, &quot;z&quot;: 1.0005853713011645}, {&quot;x&quot;: 0.23076923076923095, &quot;y&quot;: 0.9487179487179491, &quot;z&quot;: 1.0272759718812372}, {&quot;x&quot;: 0.23076923076923095, &quot;y&quot;: 1.0, &quot;z&quot;: 1.0532544378698225}, {&quot;x&quot;: 0.2820512820512822, &quot;y&quot;: 0.02564102564102587, &quot;z&quot;: 0.2396810795118598}, {&quot;x&quot;: 0.2820512820512822, &quot;y&quot;: 0.07692307692307715, &quot;z&quot;: 0.35690302381938693}, {&quot;x&quot;: 0.2820512820512822, &quot;y&quot;: 0.12820512820512842, &quot;z&quot;: 0.4376103627264887}, {&quot;x&quot;: 0.2820512820512822, &quot;y&quot;: 0.17948717948717968, &quot;z&quot;: 0.5032121985749338}, {&quot;x&quot;: 0.2820512820512822, &quot;y&quot;: 0.23076923076923095, &quot;z&quot;: 0.5599373871220336}, {&quot;x&quot;: 0.2820512820512822, &quot;y&quot;: 0.2820512820512822, &quot;z&quot;: 0.6106379302505665}, {&quot;x&quot;: 0.2820512820512822, &quot;y&quot;: 0.3333333333333335, &quot;z&quot;: 0.6569031948963978}, {&quot;x&quot;: 0.2820512820512822, &quot;y&quot;: 0.38461538461538475, &quot;z&quot;: 0.6997265986528144}, {&quot;x&quot;: 0.2820512820512822, &quot;y&quot;: 0.435897435897436, &quot;z&quot;: 0.7397782174802968}, {&quot;x&quot;: 0.2820512820512822, &quot;y&quot;: 0.4871794871794873, &quot;z&quot;: 0.7775353661588849}, {&quot;x&quot;: 0.2820512820512822, &quot;y&quot;: 0.5384615384615385, &quot;z&quot;: 0.8133523114121148}, {&quot;x&quot;: 0.2820512820512822, &quot;y&quot;: 0.5897435897435899, &quot;z&quot;: 0.8475005734950766}, {&quot;x&quot;: 0.2820512820512822, &quot;y&quot;: 0.6410256410256412, &quot;z&quot;: 0.8801936947322078}, {&quot;x&quot;: 0.2820512820512822, &quot;y&quot;: 0.6923076923076925, &quot;z&quot;: 0.9116032200446158}, {&quot;x&quot;: 0.2820512820512822, &quot;y&quot;: 0.7435897435897438, &quot;z&quot;: 0.9418694242093484}, {&quot;x&quot;: 0.2820512820512822, &quot;y&quot;: 0.7948717948717952, &quot;z&quot;: 0.9711087539485008}, {&quot;x&quot;: 0.2820512820512822, &quot;y&quot;: 0.8461538461538465, &quot;z&quot;: 0.9994191367145719}, {&quot;x&quot;: 0.2820512820512822, &quot;y&quot;: 0.8974358974358978, &quot;z&quot;: 1.026883859138114}, {&quot;x&quot;: 0.2820512820512822, &quot;y&quot;: 0.9487179487179491, &quot;z&quot;: 1.0535744597181864}, {&quot;x&quot;: 0.2820512820512822, &quot;y&quot;: 1.0, &quot;z&quot;: 1.079552925706772}, {&quot;x&quot;: 0.3333333333333335, &quot;y&quot;: 0.02564102564102587, &quot;z&quot;: 0.2712392649161991}, {&quot;x&quot;: 0.3333333333333335, &quot;y&quot;: 0.07692307692307715, &quot;z&quot;: 0.3884612092237262}, {&quot;x&quot;: 0.3333333333333335, &quot;y&quot;: 0.12820512820512842, &quot;z&quot;: 0.4691685481308279}, {&quot;x&quot;: 0.3333333333333335, &quot;y&quot;: 0.17948717948717968, &quot;z&quot;: 0.5347703839792731}, {&quot;x&quot;: 0.3333333333333335, &quot;y&quot;: 0.23076923076923095, &quot;z&quot;: 0.5914955725263729}, {&quot;x&quot;: 0.3333333333333335, &quot;y&quot;: 0.2820512820512822, &quot;z&quot;: 0.6421961156549056}, {&quot;x&quot;: 0.3333333333333335, &quot;y&quot;: 0.3333333333333335, &quot;z&quot;: 0.6884613803007371}, {&quot;x&quot;: 0.3333333333333335, &quot;y&quot;: 0.38461538461538475, &quot;z&quot;: 0.7312847840571537}, {&quot;x&quot;: 0.3333333333333335, &quot;y&quot;: 0.435897435897436, &quot;z&quot;: 0.7713364028846361}, {&quot;x&quot;: 0.3333333333333335, &quot;y&quot;: 0.4871794871794873, &quot;z&quot;: 0.809093551563224}, {&quot;x&quot;: 0.3333333333333335, &quot;y&quot;: 0.5384615384615385, &quot;z&quot;: 0.844910496816454}, {&quot;x&quot;: 0.3333333333333335, &quot;y&quot;: 0.5897435897435899, &quot;z&quot;: 0.8790587588994159}, {&quot;x&quot;: 0.3333333333333335, &quot;y&quot;: 0.6410256410256412, &quot;z&quot;: 0.911751880136547}, {&quot;x&quot;: 0.3333333333333335, &quot;y&quot;: 0.6923076923076925, &quot;z&quot;: 0.943161405448955}, {&quot;x&quot;: 0.3333333333333335, &quot;y&quot;: 0.7435897435897438, &quot;z&quot;: 0.9734276096136876}, {&quot;x&quot;: 0.3333333333333335, &quot;y&quot;: 0.7948717948717952, &quot;z&quot;: 1.00266693935284}, {&quot;x&quot;: 0.3333333333333335, &quot;y&quot;: 0.8461538461538465, &quot;z&quot;: 1.0309773221189111}, {&quot;x&quot;: 0.3333333333333335, &quot;y&quot;: 0.8974358974358978, &quot;z&quot;: 1.0584420445424532}, {&quot;x&quot;: 0.3333333333333335, &quot;y&quot;: 0.9487179487179491, &quot;z&quot;: 1.0851326451225258}, {&quot;x&quot;: 0.3333333333333335, &quot;y&quot;: 1.0, &quot;z&quot;: 1.1111111111111112}, {&quot;x&quot;: 0.38461538461538475, &quot;y&quot;: 0.02564102564102587, &quot;z&quot;: 0.30805714788792815}, {&quot;x&quot;: 0.38461538461538475, &quot;y&quot;: 0.07692307692307715, &quot;z&quot;: 0.4252790921954553}, {&quot;x&quot;: 0.38461538461538475, &quot;y&quot;: 0.12820512820512842, &quot;z&quot;: 0.505986431102557}, {&quot;x&quot;: 0.38461538461538475, &quot;y&quot;: 0.17948717948717968, &quot;z&quot;: 0.5715882669510022}, {&quot;x&quot;: 0.38461538461538475, &quot;y&quot;: 0.23076923076923095, &quot;z&quot;: 0.6283134554981019}, {&quot;x&quot;: 0.38461538461538475, &quot;y&quot;: 0.2820512820512822, &quot;z&quot;: 0.6790139986266348}, {&quot;x&quot;: 0.38461538461538475, &quot;y&quot;: 0.3333333333333335, &quot;z&quot;: 0.7252792632724662}, {&quot;x&quot;: 0.38461538461538475, &quot;y&quot;: 0.38461538461538475, &quot;z&quot;: 0.7681026670288827}, {&quot;x&quot;: 0.38461538461538475, &quot;y&quot;: 0.435897435897436, &quot;z&quot;: 0.8081542858563652}, {&quot;x&quot;: 0.38461538461538475, &quot;y&quot;: 0.4871794871794873, &quot;z&quot;: 0.8459114345349532}, {&quot;x&quot;: 0.38461538461538475, &quot;y&quot;: 0.5384615384615385, &quot;z&quot;: 0.8817283797881832}, {&quot;x&quot;: 0.38461538461538475, &quot;y&quot;: 0.5897435897435899, &quot;z&quot;: 0.9158766418711449}, {&quot;x&quot;: 0.38461538461538475, &quot;y&quot;: 0.6410256410256412, &quot;z&quot;: 0.9485697631082761}, {&quot;x&quot;: 0.38461538461538475, &quot;y&quot;: 0.6923076923076925, &quot;z&quot;: 0.9799792884206842}, {&quot;x&quot;: 0.38461538461538475, &quot;y&quot;: 0.7435897435897438, &quot;z&quot;: 1.0102454925854167}, {&quot;x&quot;: 0.38461538461538475, &quot;y&quot;: 0.7948717948717952, &quot;z&quot;: 1.0394848223245692}, {&quot;x&quot;: 0.38461538461538475, &quot;y&quot;: 0.8461538461538465, &quot;z&quot;: 1.0677952050906403}, {&quot;x&quot;: 0.38461538461538475, &quot;y&quot;: 0.8974358974358978, &quot;z&quot;: 1.0952599275141823}, {&quot;x&quot;: 0.38461538461538475, &quot;y&quot;: 0.9487179487179491, &quot;z&quot;: 1.121950528094255}, {&quot;x&quot;: 0.38461538461538475, &quot;y&quot;: 1.0, &quot;z&quot;: 1.1479289940828403}, {&quot;x&quot;: 0.435897435897436, &quot;y&quot;: 0.02564102564102587, &quot;z&quot;: 0.3501347284270472}, {&quot;x&quot;: 0.435897435897436, &quot;y&quot;: 0.07692307692307715, &quot;z&quot;: 0.46735667273457426}, {&quot;x&quot;: 0.435897435897436, &quot;y&quot;: 0.12820512820512842, &quot;z&quot;: 0.5480640116416761}, {&quot;x&quot;: 0.435897435897436, &quot;y&quot;: 0.17948717948717968, &quot;z&quot;: 0.6136658474901212}, {&quot;x&quot;: 0.435897435897436, &quot;y&quot;: 0.23076923076923095, &quot;z&quot;: 0.6703910360372209}, {&quot;x&quot;: 0.435897435897436, &quot;y&quot;: 0.2820512820512822, &quot;z&quot;: 0.7210915791657538}, {&quot;x&quot;: 0.435897435897436, &quot;y&quot;: 0.3333333333333335, &quot;z&quot;: 0.7673568438115852}, {&quot;x&quot;: 0.435897435897436, &quot;y&quot;: 0.38461538461538475, &quot;z&quot;: 0.8101802475680018}, {&quot;x&quot;: 0.435897435897436, &quot;y&quot;: 0.435897435897436, &quot;z&quot;: 0.8502318663954842}, {&quot;x&quot;: 0.435897435897436, &quot;y&quot;: 0.4871794871794873, &quot;z&quot;: 0.8879890150740722}, {&quot;x&quot;: 0.435897435897436, &quot;y&quot;: 0.5384615384615385, &quot;z&quot;: 0.9238059603273022}, {&quot;x&quot;: 0.435897435897436, &quot;y&quot;: 0.5897435897435899, &quot;z&quot;: 0.957954222410264}, {&quot;x&quot;: 0.435897435897436, &quot;y&quot;: 0.6410256410256412, &quot;z&quot;: 0.9906473436473952}, {&quot;x&quot;: 0.435897435897436, &quot;y&quot;: 0.6923076923076925, &quot;z&quot;: 1.022056868959803}, {&quot;x&quot;: 0.435897435897436, &quot;y&quot;: 0.7435897435897438, &quot;z&quot;: 1.0523230731245357}, {&quot;x&quot;: 0.435897435897436, &quot;y&quot;: 0.7948717948717952, &quot;z&quot;: 1.081562402863688}, {&quot;x&quot;: 0.435897435897436, &quot;y&quot;: 0.8461538461538465, &quot;z&quot;: 1.1098727856297592}, {&quot;x&quot;: 0.435897435897436, &quot;y&quot;: 0.8974358974358978, &quot;z&quot;: 1.1373375080533012}, {&quot;x&quot;: 0.435897435897436, &quot;y&quot;: 0.9487179487179491, &quot;z&quot;: 1.164028108633374}, {&quot;x&quot;: 0.435897435897436, &quot;y&quot;: 1.0, &quot;z&quot;: 1.1900065746219592}, {&quot;x&quot;: 0.4871794871794873, &quot;y&quot;: 0.02564102564102587, &quot;z&quot;: 0.3974720065335561}, {&quot;x&quot;: 0.4871794871794873, &quot;y&quot;: 0.07692307692307715, &quot;z&quot;: 0.5146939508410832}, {&quot;x&quot;: 0.4871794871794873, &quot;y&quot;: 0.12820512820512842, &quot;z&quot;: 0.595401289748185}, {&quot;x&quot;: 0.4871794871794873, &quot;y&quot;: 0.17948717948717968, &quot;z&quot;: 0.6610031255966301}, {&quot;x&quot;: 0.4871794871794873, &quot;y&quot;: 0.23076923076923095, &quot;z&quot;: 0.7177283141437298}, {&quot;x&quot;: 0.4871794871794873, &quot;y&quot;: 0.2820512820512822, &quot;z&quot;: 0.7684288572722627}, {&quot;x&quot;: 0.4871794871794873, &quot;y&quot;: 0.3333333333333335, &quot;z&quot;: 0.8146941219180941}, {&quot;x&quot;: 0.4871794871794873, &quot;y&quot;: 0.38461538461538475, &quot;z&quot;: 0.8575175256745107}, {&quot;x&quot;: 0.4871794871794873, &quot;y&quot;: 0.435897435897436, &quot;z&quot;: 0.8975691445019931}, {&quot;x&quot;: 0.4871794871794873, &quot;y&quot;: 0.4871794871794873, &quot;z&quot;: 0.9353262931805811}, {&quot;x&quot;: 0.4871794871794873, &quot;y&quot;: 0.5384615384615385, &quot;z&quot;: 0.9711432384338111}, {&quot;x&quot;: 0.4871794871794873, &quot;y&quot;: 0.5897435897435899, &quot;z&quot;: 1.0052915005167729}, {&quot;x&quot;: 0.4871794871794873, &quot;y&quot;: 0.6410256410256412, &quot;z&quot;: 1.037984621753904}, {&quot;x&quot;: 0.4871794871794873, &quot;y&quot;: 0.6923076923076925, &quot;z&quot;: 1.069394147066312}, {&quot;x&quot;: 0.4871794871794873, &quot;y&quot;: 0.7435897435897438, &quot;z&quot;: 1.0996603512310446}, {&quot;x&quot;: 0.4871794871794873, &quot;y&quot;: 0.7948717948717952, &quot;z&quot;: 1.128899680970197}, {&quot;x&quot;: 0.4871794871794873, &quot;y&quot;: 0.8461538461538465, &quot;z&quot;: 1.1572100637362681}, {&quot;x&quot;: 0.4871794871794873, &quot;y&quot;: 0.8974358974358978, &quot;z&quot;: 1.1846747861598101}, {&quot;x&quot;: 0.4871794871794873, &quot;y&quot;: 0.9487179487179491, &quot;z&quot;: 1.2113653867398828}, {&quot;x&quot;: 0.4871794871794873, &quot;y&quot;: 1.0, &quot;z&quot;: 1.2373438527284681}, {&quot;x&quot;: 0.5384615384615385, &quot;y&quot;: 0.02564102564102587, &quot;z&quot;: 0.45006898220745484}, {&quot;x&quot;: 0.5384615384615385, &quot;y&quot;: 0.07692307692307715, &quot;z&quot;: 0.5672909265149819}, {&quot;x&quot;: 0.5384615384615385, &quot;y&quot;: 0.12820512820512842, &quot;z&quot;: 0.6479982654220837}, {&quot;x&quot;: 0.5384615384615385, &quot;y&quot;: 0.17948717948717968, &quot;z&quot;: 0.7136001012705289}, {&quot;x&quot;: 0.5384615384615385, &quot;y&quot;: 0.23076923076923095, &quot;z&quot;: 0.7703252898176285}, {&quot;x&quot;: 0.5384615384615385, &quot;y&quot;: 0.2820512820512822, &quot;z&quot;: 0.8210258329461615}, {&quot;x&quot;: 0.5384615384615385, &quot;y&quot;: 0.3333333333333335, &quot;z&quot;: 0.8672910975919927}, {&quot;x&quot;: 0.5384615384615385, &quot;y&quot;: 0.38461538461538475, &quot;z&quot;: 0.9101145013484093}, {&quot;x&quot;: 0.5384615384615385, &quot;y&quot;: 0.435897435897436, &quot;z&quot;: 0.9501661201758917}, {&quot;x&quot;: 0.5384615384615385, &quot;y&quot;: 0.4871794871794873, &quot;z&quot;: 0.9879232688544799}, {&quot;x&quot;: 0.5384615384615385, &quot;y&quot;: 0.5384615384615385, &quot;z&quot;: 1.0237402141077099}, {&quot;x&quot;: 0.5384615384615385, &quot;y&quot;: 0.5897435897435899, &quot;z&quot;: 1.0578884761906715}, {&quot;x&quot;: 0.5384615384615385, &quot;y&quot;: 0.6410256410256412, &quot;z&quot;: 1.0905815974278028}, {&quot;x&quot;: 0.5384615384615385, &quot;y&quot;: 0.6923076923076925, &quot;z&quot;: 1.1219911227402108}, {&quot;x&quot;: 0.5384615384615385, &quot;y&quot;: 0.7435897435897438, &quot;z&quot;: 1.1522573269049434}, {&quot;x&quot;: 0.5384615384615385, &quot;y&quot;: 0.7948717948717952, &quot;z&quot;: 1.1814966566440959}, {&quot;x&quot;: 0.5384615384615385, &quot;y&quot;: 0.8461538461538465, &quot;z&quot;: 1.209807039410167}, {&quot;x&quot;: 0.5384615384615385, &quot;y&quot;: 0.8974358974358978, &quot;z&quot;: 1.237271761833709}, {&quot;x&quot;: 0.5384615384615385, &quot;y&quot;: 0.9487179487179491, &quot;z&quot;: 1.2639623624137815}, {&quot;x&quot;: 0.5384615384615385, &quot;y&quot;: 1.0, &quot;z&quot;: 1.289940828402367}, {&quot;x&quot;: 0.5897435897435899, &quot;y&quot;: 0.02564102564102587, &quot;z&quot;: 0.5079256554487435}, {&quot;x&quot;: 0.5897435897435899, &quot;y&quot;: 0.07692307692307715, &quot;z&quot;: 0.6251475997562705}, {&quot;x&quot;: 0.5897435897435899, &quot;y&quot;: 0.12820512820512842, &quot;z&quot;: 0.7058549386633723}, {&quot;x&quot;: 0.5897435897435899, &quot;y&quot;: 0.17948717948717968, &quot;z&quot;: 0.7714567745118175}, {&quot;x&quot;: 0.5897435897435899, &quot;y&quot;: 0.23076923076923095, &quot;z&quot;: 0.8281819630589172}, {&quot;x&quot;: 0.5897435897435899, &quot;y&quot;: 0.2820512820512822, &quot;z&quot;: 0.8788825061874501}, {&quot;x&quot;: 0.5897435897435899, &quot;y&quot;: 0.3333333333333335, &quot;z&quot;: 0.9251477708332815}, {&quot;x&quot;: 0.5897435897435899, &quot;y&quot;: 0.38461538461538475, &quot;z&quot;: 0.9679711745896981}, {&quot;x&quot;: 0.5897435897435899, &quot;y&quot;: 0.435897435897436, &quot;z&quot;: 1.0080227934171804}, {&quot;x&quot;: 0.5897435897435899, &quot;y&quot;: 0.4871794871794873, &quot;z&quot;: 1.0457799420957685}, {&quot;x&quot;: 0.5897435897435899, &quot;y&quot;: 0.5384615384615385, &quot;z&quot;: 1.0815968873489985}, {&quot;x&quot;: 0.5897435897435899, &quot;y&quot;: 0.5897435897435899, &quot;z&quot;: 1.1157451494319601}, {&quot;x&quot;: 0.5897435897435899, &quot;y&quot;: 0.6410256410256412, &quot;z&quot;: 1.1484382706690914}, {&quot;x&quot;: 0.5897435897435899, &quot;y&quot;: 0.6923076923076925, &quot;z&quot;: 1.1798477959814995}, {&quot;x&quot;: 0.5897435897435899, &quot;y&quot;: 0.7435897435897438, &quot;z&quot;: 1.210114000146232}, {&quot;x&quot;: 0.5897435897435899, &quot;y&quot;: 0.7948717948717952, &quot;z&quot;: 1.2393533298853845}, {&quot;x&quot;: 0.5897435897435899, &quot;y&quot;: 0.8461538461538465, &quot;z&quot;: 1.2676637126514556}, {&quot;x&quot;: 0.5897435897435899, &quot;y&quot;: 0.8974358974358978, &quot;z&quot;: 1.2951284350749976}, {&quot;x&quot;: 0.5897435897435899, &quot;y&quot;: 0.9487179487179491, &quot;z&quot;: 1.32181903565507}, {&quot;x&quot;: 0.5897435897435899, &quot;y&quot;: 1.0, &quot;z&quot;: 1.3477975016436556}, {&quot;x&quot;: 0.6410256410256412, &quot;y&quot;: 0.02564102564102587, &quot;z&quot;: 0.5710420262574221}, {&quot;x&quot;: 0.6410256410256412, &quot;y&quot;: 0.07692307692307715, &quot;z&quot;: 0.6882639705649491}, {&quot;x&quot;: 0.6410256410256412, &quot;y&quot;: 0.12820512820512842, &quot;z&quot;: 0.768971309472051}, {&quot;x&quot;: 0.6410256410256412, &quot;y&quot;: 0.17948717948717968, &quot;z&quot;: 0.8345731453204961}, {&quot;x&quot;: 0.6410256410256412, &quot;y&quot;: 0.23076923076923095, &quot;z&quot;: 0.8912983338675957}, {&quot;x&quot;: 0.6410256410256412, &quot;y&quot;: 0.2820512820512822, &quot;z&quot;: 0.9419988769961287}, {&quot;x&quot;: 0.6410256410256412, &quot;y&quot;: 0.3333333333333335, &quot;z&quot;: 0.98826414164196}, {&quot;x&quot;: 0.6410256410256412, &quot;y&quot;: 0.38461538461538475, &quot;z&quot;: 1.0310875453983765}, {&quot;x&quot;: 0.6410256410256412, &quot;y&quot;: 0.435897435897436, &quot;z&quot;: 1.071139164225859}, {&quot;x&quot;: 0.6410256410256412, &quot;y&quot;: 0.4871794871794873, &quot;z&quot;: 1.1088963129044471}, {&quot;x&quot;: 0.6410256410256412, &quot;y&quot;: 0.5384615384615385, &quot;z&quot;: 1.144713258157677}, {&quot;x&quot;: 0.6410256410256412, &quot;y&quot;: 0.5897435897435899, &quot;z&quot;: 1.1788615202406387}, {&quot;x&quot;: 0.6410256410256412, &quot;y&quot;: 0.6410256410256412, &quot;z&quot;: 1.21155464147777}, {&quot;x&quot;: 0.6410256410256412, &quot;y&quot;: 0.6923076923076925, &quot;z&quot;: 1.242964166790178}, {&quot;x&quot;: 0.6410256410256412, &quot;y&quot;: 0.7435897435897438, &quot;z&quot;: 1.2732303709549107}, {&quot;x&quot;: 0.6410256410256412, &quot;y&quot;: 0.7948717948717952, &quot;z&quot;: 1.302469700694063}, {&quot;x&quot;: 0.6410256410256412, &quot;y&quot;: 0.8461538461538465, &quot;z&quot;: 1.3307800834601342}, {&quot;x&quot;: 0.6410256410256412, &quot;y&quot;: 0.8974358974358978, &quot;z&quot;: 1.3582448058836762}, {&quot;x&quot;: 0.6410256410256412, &quot;y&quot;: 0.9487179487179491, &quot;z&quot;: 1.3849354064637487}, {&quot;x&quot;: 0.6410256410256412, &quot;y&quot;: 1.0, &quot;z&quot;: 1.4109138724523342}, {&quot;x&quot;: 0.6923076923076925, &quot;y&quot;: 0.02564102564102587, &quot;z&quot;: 0.6394180946334905}, {&quot;x&quot;: 0.6923076923076925, &quot;y&quot;: 0.07692307692307715, &quot;z&quot;: 0.7566400389410176}, {&quot;x&quot;: 0.6923076923076925, &quot;y&quot;: 0.12820512820512842, &quot;z&quot;: 0.8373473778481193}, {&quot;x&quot;: 0.6923076923076925, &quot;y&quot;: 0.17948717948717968, &quot;z&quot;: 0.9029492136965646}, {&quot;x&quot;: 0.6923076923076925, &quot;y&quot;: 0.23076923076923095, &quot;z&quot;: 0.9596744022436643}, {&quot;x&quot;: 0.6923076923076925, &quot;y&quot;: 0.2820512820512822, &quot;z&quot;: 1.010374945372197}, {&quot;x&quot;: 0.6923076923076925, &quot;y&quot;: 0.3333333333333335, &quot;z&quot;: 1.0566402100180285}, {&quot;x&quot;: 0.6923076923076925, &quot;y&quot;: 0.38461538461538475, &quot;z&quot;: 1.0994636137744451}, {&quot;x&quot;: 0.6923076923076925, &quot;y&quot;: 0.435897435897436, &quot;z&quot;: 1.1395152326019276}, {&quot;x&quot;: 0.6923076923076925, &quot;y&quot;: 0.4871794871794873, &quot;z&quot;: 1.1772723812805155}, {&quot;x&quot;: 0.6923076923076925, &quot;y&quot;: 0.5384615384615385, &quot;z&quot;: 1.2130893265337455}, {&quot;x&quot;: 0.6923076923076925, &quot;y&quot;: 0.5897435897435899, &quot;z&quot;: 1.2472375886167073}, {&quot;x&quot;: 0.6923076923076925, &quot;y&quot;: 0.6410256410256412, &quot;z&quot;: 1.2799307098538384}, {&quot;x&quot;: 0.6923076923076925, &quot;y&quot;: 0.6923076923076925, &quot;z&quot;: 1.3113402351662464}, {&quot;x&quot;: 0.6923076923076925, &quot;y&quot;: 0.7435897435897438, &quot;z&quot;: 1.341606439330979}, {&quot;x&quot;: 0.6923076923076925, &quot;y&quot;: 0.7948717948717952, &quot;z&quot;: 1.3708457690701314}, {&quot;x&quot;: 0.6923076923076925, &quot;y&quot;: 0.8461538461538465, &quot;z&quot;: 1.3991561518362026}, {&quot;x&quot;: 0.6923076923076925, &quot;y&quot;: 0.8974358974358978, &quot;z&quot;: 1.4266208742597446}, {&quot;x&quot;: 0.6923076923076925, &quot;y&quot;: 0.9487179487179491, &quot;z&quot;: 1.4533114748398173}, {&quot;x&quot;: 0.6923076923076925, &quot;y&quot;: 1.0, &quot;z&quot;: 1.4792899408284026}, {&quot;x&quot;: 0.7435897435897438, &quot;y&quot;: 0.02564102564102587, &quot;z&quot;: 0.7130538605769489}, {&quot;x&quot;: 0.7435897435897438, &quot;y&quot;: 0.07692307692307715, &quot;z&quot;: 0.830275804884476}, {&quot;x&quot;: 0.7435897435897438, &quot;y&quot;: 0.12820512820512842, &quot;z&quot;: 0.9109831437915777}, {&quot;x&quot;: 0.7435897435897438, &quot;y&quot;: 0.17948717948717968, &quot;z&quot;: 0.976584979640023}, {&quot;x&quot;: 0.7435897435897438, &quot;y&quot;: 0.23076923076923095, &quot;z&quot;: 1.0333101681871226}, {&quot;x&quot;: 0.7435897435897438, &quot;y&quot;: 0.2820512820512822, &quot;z&quot;: 1.0840107113156554}, {&quot;x&quot;: 0.7435897435897438, &quot;y&quot;: 0.3333333333333335, &quot;z&quot;: 1.1302759759614869}, {&quot;x&quot;: 0.7435897435897438, &quot;y&quot;: 0.38461538461538475, &quot;z&quot;: 1.1730993797179035}, {&quot;x&quot;: 0.7435897435897438, &quot;y&quot;: 0.435897435897436, &quot;z&quot;: 1.2131509985453859}, {&quot;x&quot;: 0.7435897435897438, &quot;y&quot;: 0.4871794871794873, &quot;z&quot;: 1.2509081472239738}, {&quot;x&quot;: 0.7435897435897438, &quot;y&quot;: 0.5384615384615385, &quot;z&quot;: 1.2867250924772038}, {&quot;x&quot;: 0.7435897435897438, &quot;y&quot;: 0.5897435897435899, &quot;z&quot;: 1.3208733545601656}, {&quot;x&quot;: 0.7435897435897438, &quot;y&quot;: 0.6410256410256412, &quot;z&quot;: 1.353566475797297}, {&quot;x&quot;: 0.7435897435897438, &quot;y&quot;: 0.6923076923076925, &quot;z&quot;: 1.3849760011097048}, {&quot;x&quot;: 0.7435897435897438, &quot;y&quot;: 0.7435897435897438, &quot;z&quot;: 1.4152422052744376}, {&quot;x&quot;: 0.7435897435897438, &quot;y&quot;: 0.7948717948717952, &quot;z&quot;: 1.44448153501359}, {&quot;x&quot;: 0.7435897435897438, &quot;y&quot;: 0.8461538461538465, &quot;z&quot;: 1.4727919177796611}, {&quot;x&quot;: 0.7435897435897438, &quot;y&quot;: 0.8974358974358978, &quot;z&quot;: 1.5002566402032032}, {&quot;x&quot;: 0.7435897435897438, &quot;y&quot;: 0.9487179487179491, &quot;z&quot;: 1.5269472407832756}, {&quot;x&quot;: 0.7435897435897438, &quot;y&quot;: 1.0, &quot;z&quot;: 1.5529257067718611}, {&quot;x&quot;: 0.7948717948717952, &quot;y&quot;: 0.02564102564102587, &quot;z&quot;: 0.7919493240877971}, {&quot;x&quot;: 0.7948717948717952, &quot;y&quot;: 0.07692307692307715, &quot;z&quot;: 0.9091712683953241}, {&quot;x&quot;: 0.7948717948717952, &quot;y&quot;: 0.12820512820512842, &quot;z&quot;: 0.9898786073024259}, {&quot;x&quot;: 0.7948717948717952, &quot;y&quot;: 0.17948717948717968, &quot;z&quot;: 1.055480443150871}, {&quot;x&quot;: 0.7948717948717952, &quot;y&quot;: 0.23076923076923095, &quot;z&quot;: 1.1122056316979707}, {&quot;x&quot;: 0.7948717948717952, &quot;y&quot;: 0.2820512820512822, &quot;z&quot;: 1.1629061748265037}, {&quot;x&quot;: 0.7948717948717952, &quot;y&quot;: 0.3333333333333335, &quot;z&quot;: 1.209171439472335}, {&quot;x&quot;: 0.7948717948717952, &quot;y&quot;: 0.38461538461538475, &quot;z&quot;: 1.2519948432287515}, {&quot;x&quot;: 0.7948717948717952, &quot;y&quot;: 0.435897435897436, &quot;z&quot;: 1.2920464620562342}, {&quot;x&quot;: 0.7948717948717952, &quot;y&quot;: 0.4871794871794873, &quot;z&quot;: 1.3298036107348221}, {&quot;x&quot;: 0.7948717948717952, &quot;y&quot;: 0.5384615384615385, &quot;z&quot;: 1.365620555988052}, {&quot;x&quot;: 0.7948717948717952, &quot;y&quot;: 0.5897435897435899, &quot;z&quot;: 1.399768818071014}, {&quot;x&quot;: 0.7948717948717952, &quot;y&quot;: 0.6410256410256412, &quot;z&quot;: 1.432461939308145}, {&quot;x&quot;: 0.7948717948717952, &quot;y&quot;: 0.6923076923076925, &quot;z&quot;: 1.463871464620553}, {&quot;x&quot;: 0.7948717948717952, &quot;y&quot;: 0.7435897435897438, &quot;z&quot;: 1.4941376687852856}, {&quot;x&quot;: 0.7948717948717952, &quot;y&quot;: 0.7948717948717952, &quot;z&quot;: 1.523376998524438}, {&quot;x&quot;: 0.7948717948717952, &quot;y&quot;: 0.8461538461538465, &quot;z&quot;: 1.5516873812905092}, {&quot;x&quot;: 0.7948717948717952, &quot;y&quot;: 0.8974358974358978, &quot;z&quot;: 1.5791521037140512}, {&quot;x&quot;: 0.7948717948717952, &quot;y&quot;: 0.9487179487179491, &quot;z&quot;: 1.605842704294124}, {&quot;x&quot;: 0.7948717948717952, &quot;y&quot;: 1.0, &quot;z&quot;: 1.6318211702827092}, {&quot;x&quot;: 0.8461538461538465, &quot;y&quot;: 0.02564102564102587, &quot;z&quot;: 0.8761044851660351}, {&quot;x&quot;: 0.8461538461538465, &quot;y&quot;: 0.07692307692307715, &quot;z&quot;: 0.9933264294735622}, {&quot;x&quot;: 0.8461538461538465, &quot;y&quot;: 0.12820512820512842, &quot;z&quot;: 1.074033768380664}, {&quot;x&quot;: 0.8461538461538465, &quot;y&quot;: 0.17948717948717968, &quot;z&quot;: 1.1396356042291091}, {&quot;x&quot;: 0.8461538461538465, &quot;y&quot;: 0.23076923076923095, &quot;z&quot;: 1.196360792776209}, {&quot;x&quot;: 0.8461538461538465, &quot;y&quot;: 0.2820512820512822, &quot;z&quot;: 1.2470613359047418}, {&quot;x&quot;: 0.8461538461538465, &quot;y&quot;: 0.3333333333333335, &quot;z&quot;: 1.2933266005505732}, {&quot;x&quot;: 0.8461538461538465, &quot;y&quot;: 0.38461538461538475, &quot;z&quot;: 1.3361500043069898}, {&quot;x&quot;: 0.8461538461538465, &quot;y&quot;: 0.435897435897436, &quot;z&quot;: 1.376201623134472}, {&quot;x&quot;: 0.8461538461538465, &quot;y&quot;: 0.4871794871794873, &quot;z&quot;: 1.4139587718130602}, {&quot;x&quot;: 0.8461538461538465, &quot;y&quot;: 0.5384615384615385, &quot;z&quot;: 1.4497757170662902}, {&quot;x&quot;: 0.8461538461538465, &quot;y&quot;: 0.5897435897435899, &quot;z&quot;: 1.4839239791492518}, {&quot;x&quot;: 0.8461538461538465, &quot;y&quot;: 0.6410256410256412, &quot;z&quot;: 1.516617100386383}, {&quot;x&quot;: 0.8461538461538465, &quot;y&quot;: 0.6923076923076925, &quot;z&quot;: 1.5480266256987911}, {&quot;x&quot;: 0.8461538461538465, &quot;y&quot;: 0.7435897435897438, &quot;z&quot;: 1.5782928298635237}, {&quot;x&quot;: 0.8461538461538465, &quot;y&quot;: 0.7948717948717952, &quot;z&quot;: 1.6075321596026761}, {&quot;x&quot;: 0.8461538461538465, &quot;y&quot;: 0.8461538461538465, &quot;z&quot;: 1.6358425423687473}, {&quot;x&quot;: 0.8461538461538465, &quot;y&quot;: 0.8974358974358978, &quot;z&quot;: 1.6633072647922893}, {&quot;x&quot;: 0.8461538461538465, &quot;y&quot;: 0.9487179487179491, &quot;z&quot;: 1.6899978653723617}, {&quot;x&quot;: 0.8461538461538465, &quot;y&quot;: 1.0, &quot;z&quot;: 1.7159763313609473}, {&quot;x&quot;: 0.8974358974358978, &quot;y&quot;: 0.02564102564102587, &quot;z&quot;: 0.9655193438116632}, {&quot;x&quot;: 0.8974358974358978, &quot;y&quot;: 0.07692307692307715, &quot;z&quot;: 1.0827412881191902}, {&quot;x&quot;: 0.8974358974358978, &quot;y&quot;: 0.12820512820512842, &quot;z&quot;: 1.163448627026292}, {&quot;x&quot;: 0.8974358974358978, &quot;y&quot;: 0.17948717948717968, &quot;z&quot;: 1.2290504628747372}, {&quot;x&quot;: 0.8974358974358978, &quot;y&quot;: 0.23076923076923095, &quot;z&quot;: 1.285775651421837}, {&quot;x&quot;: 0.8974358974358978, &quot;y&quot;: 0.2820512820512822, &quot;z&quot;: 1.3364761945503698}, {&quot;x&quot;: 0.8974358974358978, &quot;y&quot;: 0.3333333333333335, &quot;z&quot;: 1.3827414591962013}, {&quot;x&quot;: 0.8974358974358978, &quot;y&quot;: 0.38461538461538475, &quot;z&quot;: 1.4255648629526179}, {&quot;x&quot;: 0.8974358974358978, &quot;y&quot;: 0.435897435897436, &quot;z&quot;: 1.4656164817801}, {&quot;x&quot;: 0.8974358974358978, &quot;y&quot;: 0.4871794871794873, &quot;z&quot;: 1.5033736304586882}, {&quot;x&quot;: 0.8974358974358978, &quot;y&quot;: 0.5384615384615385, &quot;z&quot;: 1.5391905757119182}, {&quot;x&quot;: 0.8974358974358978, &quot;y&quot;: 0.5897435897435899, &quot;z&quot;: 1.5733388377948798}, {&quot;x&quot;: 0.8974358974358978, &quot;y&quot;: 0.6410256410256412, &quot;z&quot;: 1.6060319590320111}, {&quot;x&quot;: 0.8974358974358978, &quot;y&quot;: 0.6923076923076925, &quot;z&quot;: 1.6374414843444192}, {&quot;x&quot;: 0.8974358974358978, &quot;y&quot;: 0.7435897435897438, &quot;z&quot;: 1.6677076885091517}, {&quot;x&quot;: 0.8974358974358978, &quot;y&quot;: 0.7948717948717952, &quot;z&quot;: 1.6969470182483042}, {&quot;x&quot;: 0.8974358974358978, &quot;y&quot;: 0.8461538461538465, &quot;z&quot;: 1.7252574010143753}, {&quot;x&quot;: 0.8974358974358978, &quot;y&quot;: 0.8974358974358978, &quot;z&quot;: 1.7527221234379173}, {&quot;x&quot;: 0.8974358974358978, &quot;y&quot;: 0.9487179487179491, &quot;z&quot;: 1.7794127240179898}, {&quot;x&quot;: 0.8974358974358978, &quot;y&quot;: 1.0, &quot;z&quot;: 1.8053911900065753}, {&quot;x&quot;: 0.9487179487179491, &quot;y&quot;: 0.02564102564102587, &quot;z&quot;: 1.060193900024681}, {&quot;x&quot;: 0.9487179487179491, &quot;y&quot;: 0.07692307692307715, &quot;z&quot;: 1.177415844332208}, {&quot;x&quot;: 0.9487179487179491, &quot;y&quot;: 0.12820512820512842, &quot;z&quot;: 1.2581231832393098}, {&quot;x&quot;: 0.9487179487179491, &quot;y&quot;: 0.17948717948717968, &quot;z&quot;: 1.323725019087755}, {&quot;x&quot;: 0.9487179487179491, &quot;y&quot;: 0.23076923076923095, &quot;z&quot;: 1.3804502076348548}, {&quot;x&quot;: 0.9487179487179491, &quot;y&quot;: 0.2820512820512822, &quot;z&quot;: 1.4311507507633876}, {&quot;x&quot;: 0.9487179487179491, &quot;y&quot;: 0.3333333333333335, &quot;z&quot;: 1.477416015409219}, {&quot;x&quot;: 0.9487179487179491, &quot;y&quot;: 0.38461538461538475, &quot;z&quot;: 1.5202394191656357}, {&quot;x&quot;: 0.9487179487179491, &quot;y&quot;: 0.435897435897436, &quot;z&quot;: 1.5602910379931179}, {&quot;x&quot;: 0.9487179487179491, &quot;y&quot;: 0.4871794871794873, &quot;z&quot;: 1.598048186671706}, {&quot;x&quot;: 0.9487179487179491, &quot;y&quot;: 0.5384615384615385, &quot;z&quot;: 1.633865131924936}, {&quot;x&quot;: 0.9487179487179491, &quot;y&quot;: 0.5897435897435899, &quot;z&quot;: 1.6680133940078976}, {&quot;x&quot;: 0.9487179487179491, &quot;y&quot;: 0.6410256410256412, &quot;z&quot;: 1.700706515245029}, {&quot;x&quot;: 0.9487179487179491, &quot;y&quot;: 0.6923076923076925, &quot;z&quot;: 1.732116040557437}, {&quot;x&quot;: 0.9487179487179491, &quot;y&quot;: 0.7435897435897438, &quot;z&quot;: 1.7623822447221695}, {&quot;x&quot;: 0.9487179487179491, &quot;y&quot;: 0.7948717948717952, &quot;z&quot;: 1.791621574461322}, {&quot;x&quot;: 0.9487179487179491, &quot;y&quot;: 0.8461538461538465, &quot;z&quot;: 1.819931957227393}, {&quot;x&quot;: 0.9487179487179491, &quot;y&quot;: 0.8974358974358978, &quot;z&quot;: 1.8473966796509351}, {&quot;x&quot;: 0.9487179487179491, &quot;y&quot;: 0.9487179487179491, &quot;z&quot;: 1.8740872802310076}, {&quot;x&quot;: 0.9487179487179491, &quot;y&quot;: 1.0, &quot;z&quot;: 1.9000657462195931}, {&quot;x&quot;: 1.0, &quot;y&quot;: 0.02564102564102587, &quot;z&quot;: 1.1601281538050878}, {&quot;x&quot;: 1.0, &quot;y&quot;: 0.07692307692307715, &quot;z&quot;: 1.277350098112615}, {&quot;x&quot;: 1.0, &quot;y&quot;: 0.12820512820512842, &quot;z&quot;: 1.3580574370197167}, {&quot;x&quot;: 1.0, &quot;y&quot;: 0.17948717948717968, &quot;z&quot;: 1.4236592728681619}, {&quot;x&quot;: 1.0, &quot;y&quot;: 0.23076923076923095, &quot;z&quot;: 1.4803844614152615}, {&quot;x&quot;: 1.0, &quot;y&quot;: 0.2820512820512822, &quot;z&quot;: 1.5310850045437945}, {&quot;x&quot;: 1.0, &quot;y&quot;: 0.3333333333333335, &quot;z&quot;: 1.5773502691896257}, {&quot;x&quot;: 1.0, &quot;y&quot;: 0.38461538461538475, &quot;z&quot;: 1.6201736729460423}, {&quot;x&quot;: 1.0, &quot;y&quot;: 0.435897435897436, &quot;z&quot;: 1.660225291773525}, {&quot;x&quot;: 1.0, &quot;y&quot;: 0.4871794871794873, &quot;z&quot;: 1.6979824404521129}, {&quot;x&quot;: 1.0, &quot;y&quot;: 0.5384615384615385, &quot;z&quot;: 1.7337993857053429}, {&quot;x&quot;: 1.0, &quot;y&quot;: 0.5897435897435899, &quot;z&quot;: 1.7679476477883047}, {&quot;x&quot;: 1.0, &quot;y&quot;: 0.6410256410256412, &quot;z&quot;: 1.8006407690254358}, {&quot;x&quot;: 1.0, &quot;y&quot;: 0.6923076923076925, &quot;z&quot;: 1.8320502943378438}, {&quot;x&quot;: 1.0, &quot;y&quot;: 0.7435897435897438, &quot;z&quot;: 1.8623164985025764}, {&quot;x&quot;: 1.0, &quot;y&quot;: 0.7948717948717952, &quot;z&quot;: 1.8915558282417289}, {&quot;x&quot;: 1.0, &quot;y&quot;: 0.8461538461538465, &quot;z&quot;: 1.9198662110078}, {&quot;x&quot;: 1.0, &quot;y&quot;: 0.8974358974358978, &quot;z&quot;: 1.947330933431342}, {&quot;x&quot;: 1.0, &quot;y&quot;: 0.9487179487179491, &quot;z&quot;: 1.9740215340114147}, {&quot;x&quot;: 1.0, &quot;y&quot;: 1.0, &quot;z&quot;: 2.0}], &quot;faces&quot;: [[0, 2, 3, 1], [2, 4, 5, 3], [4, 6, 7, 5], [6, 8, 9, 7], [8, 10, 11, 9], [10, 12, 13, 11], [12, 14, 15, 13], [14, 16, 17, 15], [16, 18, 19, 17], [18, 20, 21, 19], [20, 22, 23, 21], [22, 24, 25, 23], [24, 26, 27, 25], [26, 28, 29, 27], [28, 30, 31, 29], [30, 32, 33, 31], [32, 34, 35, 33], [34, 36, 37, 35], [36, 38, 39, 37], [1, 3, 41, 40], [3, 5, 42, 41], [5, 7, 43, 42], [7, 9, 44, 43], [9, 11, 45, 44], [11, 13, 46, 45], [13, 15, 47, 46], [15, 17, 48, 47], [17, 19, 49, 48], [19, 21, 50, 49], [21, 23, 51, 50], [23, 25, 52, 51], [25, 27, 53, 52], [27, 29, 54, 53], [29, 31, 55, 54], [31, 33, 56, 55], [33, 35, 57, 56], [35, 37, 58, 57], [37, 39, 59, 58], [40, 41, 61, 60], [41, 42, 62, 61], [42, 43, 63, 62], [43, 44, 64, 63], [44, 45, 65, 64], [45, 46, 66, 65], [46, 47, 67, 66], [47, 48, 68, 67], [48, 49, 69, 68], [49, 50, 70, 69], [50, 51, 71, 70], [51, 52, 72, 71], [52, 53, 73, 72], [53, 54, 74, 73], [54, 55, 75, 74], [55, 56, 76, 75], [56, 57, 77, 76], [57, 58, 78, 77], [58, 59, 79, 78], [60, 61, 81, 80], [61, 62, 82, 81], [62, 63, 83, 82], [63, 64, 84, 83], [64, 65, 85, 84], [65, 66, 86, 85], [66, 67, 87, 86], [67, 68, 88, 87], [68, 69, 89, 88], [69, 70, 90, 89], [70, 71, 91, 90], [71, 72, 92, 91], [72, 73, 93, 92], [73, 74, 94, 93], [74, 75, 95, 94], [75, 76, 96, 95], [76, 77, 97, 96], [77, 78, 98, 97], [78, 79, 99, 98], [80, 81, 101, 100], [81, 82, 102, 101], [82, 83, 103, 102], [83, 84, 104, 103], [84, 85, 105, 104], [85, 86, 106, 105], [86, 87, 107, 106], [87, 88, 108, 107], [88, 89, 109, 108], [89, 90, 110, 109], [90, 91, 111, 110], [91, 92, 112, 111], [92, 93, 113, 112], [93, 94, 114, 113], [94, 95, 115, 114], [95, 96, 116, 115], [96, 97, 117, 116], [97, 98, 118, 117], [98, 99, 119, 118], [100, 101, 121, 120], [101, 102, 122, 121], [102, 103, 123, 122], [103, 104, 124, 123], [104, 105, 125, 124], [105, 106, 126, 125], [106, 107, 127, 126], [107, 108, 128, 127], [108, 109, 129, 128], [109, 110, 130, 129], [110, 111, 131, 130], [111, 112, 132, 131], [112, 113, 133, 132], [113, 114, 134, 133], [114, 115, 135, 134], [115, 116, 136, 135], [116, 117, 137, 136], [117, 118, 138, 137], [118, 119, 139, 138], [120, 121, 141, 140], [121, 122, 142, 141], [122, 123, 143, 142], [123, 124, 144, 143], [124, 125, 145, 144], [125, 126, 146, 145], [126, 127, 147, 146], [127, 128, 148, 147], [128, 129, 149, 148], [129, 130, 150, 149], [130, 131, 151, 150], [131, 132, 152, 151], [132, 133, 153, 152], [133, 134, 154, 153], [134, 135, 155, 154], [135, 136, 156, 155], [136, 137, 157, 156], [137, 138, 158, 157], [138, 139, 159, 158], [140, 141, 161, 160], [141, 142, 162, 161], [142, 143, 163, 162], [143, 144, 164, 163], [144, 145, 165, 164], [145, 146, 166, 165], [146, 147, 167, 166], [147, 148, 168, 167], [148, 149, 169, 168], [149, 150, 170, 169], [150, 151, 171, 170], [151, 152, 172, 171], [152, 153, 173, 172], [153, 154, 174, 173], [154, 155, 175, 174], [155, 156, 176, 175], [156, 157, 177, 176], [157, 158, 178, 177], [158, 159, 179, 178], [160, 161, 181, 180], [161, 162, 182, 181], [162, 163, 183, 182], [163, 164, 184, 183], [164, 165, 185, 184], [165, 166, 186, 185], [166, 167, 187, 186], [167, 168, 188, 187], [168, 169, 189, 188], [169, 170, 190, 189], [170, 171, 191, 190], [171, 172, 192, 191], [172, 173, 193, 192], [173, 174, 194, 193], [174, 175, 195, 194], [175, 176, 196, 195], [176, 177, 197, 196], [177, 178, 198, 197], [178, 179, 199, 198], [180, 181, 201, 200], [181, 182, 202, 201], [182, 183, 203, 202], [183, 184, 204, 203], [184, 185, 205, 204], [185, 186, 206, 205], [186, 187, 207, 206], [187, 188, 208, 207], [188, 189, 209, 208], [189, 190, 210, 209], [190, 191, 211, 210], [191, 192, 212, 211], [192, 193, 213, 212], [193, 194, 214, 213], [194, 195, 215, 214], [195, 196, 216, 215], [196, 197, 217, 216], [197, 198, 218, 217], [198, 199, 219, 218], [200, 201, 221, 220], [201, 202, 222, 221], [202, 203, 223, 222], [203, 204, 224, 223], [204, 205, 225, 224], [205, 206, 226, 225], [206, 207, 227, 226], [207, 208, 228, 227], [208, 209, 229, 228], [209, 210, 230, 229], [210, 211, 231, 230], [211, 212, 232, 231], [212, 213, 233, 232], [213, 214, 234, 233], [214, 215, 235, 234], [215, 216, 236, 235], [216, 217, 237, 236], [217, 218, 238, 237], [218, 219, 239, 238], [220, 221, 241, 240], [221, 222, 242, 241], [222, 223, 243, 242], [223, 224, 244, 243], [224, 225, 245, 244], [225, 226, 246, 245], [226, 227, 247, 246], [227, 228, 248, 247], [228, 229, 249, 248], [229, 230, 250, 249], [230, 231, 251, 250], [231, 232, 252, 251], [232, 233, 253, 252], [233, 234, 254, 253], [234, 235, 255, 254], [235, 236, 256, 255], [236, 237, 257, 256], [237, 238, 258, 257], [238, 239, 259, 258], [240, 241, 261, 260], [241, 242, 262, 261], [242, 243, 263, 262], [243, 244, 264, 263], [244, 245, 265, 264], [245, 246, 266, 265], [246, 247, 267, 266], [247, 248, 268, 267], [248, 249, 269, 268], [249, 250, 270, 269], [250, 251, 271, 270], [251, 252, 272, 271], [252, 253, 273, 272], [253, 254, 274, 273], [254, 255, 275, 274], [255, 256, 276, 275], [256, 257, 277, 276], [257, 258, 278, 277], [258, 259, 279, 278], [260, 261, 281, 280], [261, 262, 282, 281], [262, 263, 283, 282], [263, 264, 284, 283], [264, 265, 285, 284], [265, 266, 286, 285], [266, 267, 287, 286], [267, 268, 288, 287], [268, 269, 289, 288], [269, 270, 290, 289], [270, 271, 291, 290], [271, 272, 292, 291], [272, 273, 293, 292], [273, 274, 294, 293], [274, 275, 295, 294], [275, 276, 296, 295], [276, 277, 297, 296], [277, 278, 298, 297], [278, 279, 299, 298], [280, 281, 301, 300], [281, 282, 302, 301], [282, 283, 303, 302], [283, 284, 304, 303], [284, 285, 305, 304], [285, 286, 306, 305], [286, 287, 307, 306], [287, 288, 308, 307], [288, 289, 309, 308], [289, 290, 310, 309], [290, 291, 311, 310], [291, 292, 312, 311], [292, 293, 313, 312], [293, 294, 314, 313], [294, 295, 315, 314], [295, 296, 316, 315], [296, 297, 317, 316], [297, 298, 318, 317], [298, 299, 319, 318], [300, 301, 321, 320], [301, 302, 322, 321], [302, 303, 323, 322], [303, 304, 324, 323], [304, 305, 325, 324], [305, 306, 326, 325], [306, 307, 327, 326], [307, 308, 328, 327], [308, 309, 329, 328], [309, 310, 330, 329], [310, 311, 331, 330], [311, 312, 332, 331], [312, 313, 333, 332], [313, 314, 334, 333], [314, 315, 335, 334], [315, 316, 336, 335], [316, 317, 337, 336], [317, 318, 338, 337], [318, 319, 339, 338], [320, 321, 341, 340], [321, 322, 342, 341], [322, 323, 343, 342], [323, 324, 344, 343], [324, 325, 345, 344], [325, 326, 346, 345], [326, 327, 347, 346], [327, 328, 348, 347], [328, 329, 349, 348], [329, 330, 350, 349], [330, 331, 351, 350], [331, 332, 352, 351], [332, 333, 353, 352], [333, 334, 354, 353], [334, 335, 355, 354], [335, 336, 356, 355], [336, 337, 357, 356], [337, 338, 358, 357], [338, 339, 359, 358], [340, 341, 361, 360], [341, 342, 362, 361], [342, 343, 363, 362], [343, 344, 364, 363], [344, 345, 365, 364], [345, 346, 366, 365], [346, 347, 367, 366], [347, 348, 368, 367], [348, 349, 369, 368], [349, 350, 370, 369], [350, 351, 371, 370], [351, 352, 372, 371], [352, 353, 373, 372], [353, 354, 374, 373], [354, 355, 375, 374], [355, 356, 376, 375], [356, 357, 377, 376], [357, 358, 378, 377], [358, 359, 379, 378], [360, 361, 381, 380], [361, 362, 382, 381], [362, 363, 383, 382], [363, 364, 384, 383], [364, 365, 385, 384], [365, 366, 386, 385], [366, 367, 387, 386], [367, 368, 388, 387], [368, 369, 389, 388], [369, 370, 390, 389], [370, 371, 391, 390], [371, 372, 392, 391], [372, 373, 393, 392], [373, 374, 394, 393], [374, 375, 395, 394], [375, 376, 396, 395], [376, 377, 397, 396], [377, 378, 398, 397], [378, 379, 399, 398], [380, 381, 401, 400], [381, 382, 402, 401], [382, 383, 403, 402], [383, 384, 404, 403], [384, 385, 405, 404], [385, 386, 406, 405], [386, 387, 407, 406], [387, 388, 408, 407], [388, 389, 409, 408], [389, 390, 410, 409], [390, 391, 411, 410], [391, 392, 412, 411], [392, 393, 413, 412], [393, 394, 414, 413], [394, 395, 415, 414], [395, 396, 416, 415], [396, 397, 417, 416], [397, 398, 418, 417], [398, 399, 419, 418], [400, 401, 421, 420], [401, 402, 422, 421], [402, 403, 423, 422], [403, 404, 424, 423], [404, 405, 425, 424], [405, 406, 426, 425], [406, 407, 427, 426], [407, 408, 428, 427], [408, 409, 429, 428], [409, 410, 430, 429], [410, 411, 431, 430], [411, 412, 432, 431], [412, 413, 433, 432], [413, 414, 434, 433], [414, 415, 435, 434], [415, 416, 436, 435], [416, 417, 437, 436], [417, 418, 438, 437], [418, 419, 439, 438], [420, 421, 441, 440], [421, 422, 442, 441], [422, 423, 443, 442], [423, 424, 444, 443], [424, 425, 445, 444], [425, 426, 446, 445], [426, 427, 447, 446], [427, 428, 448, 447], [428, 429, 449, 448], [429, 430, 450, 449], [430, 431, 451, 450], [431, 432, 452, 451], [432, 433, 453, 452], [433, 434, 454, 453], [434, 435, 455, 454], [435, 436, 456, 455], [436, 437, 457, 456], [437, 438, 458, 457], [438, 439, 459, 458], [440, 441, 461, 460], [441, 442, 462, 461], [442, 443, 463, 462], [443, 444, 464, 463], [444, 445, 465, 464], [445, 446, 466, 465], [446, 447, 467, 466], [447, 448, 468, 467], [448, 449, 469, 468], [449, 450, 470, 469], [450, 451, 471, 470], [451, 452, 472, 471], [452, 453, 473, 472], [453, 454, 474, 473], [454, 455, 475, 474], [455, 456, 476, 475], [456, 457, 477, 476], [457, 458, 478, 477], [458, 459, 479, 478], [460, 461, 481, 480], [461, 462, 482, 481], [462, 463, 483, 482], [463, 464, 484, 483], [464, 465, 485, 484], [465, 466, 486, 485], [466, 467, 487, 486], [467, 468, 488, 487], [468, 469, 489, 488], [469, 470, 490, 489], [470, 471, 491, 490], [471, 472, 492, 491], [472, 473, 493, 492], [473, 474, 494, 493], [474, 475, 495, 494], [475, 476, 496, 495], [476, 477, 497, 496], [477, 478, 498, 497], [478, 479, 499, 498], [480, 481, 501, 500], [481, 482, 502, 501], [482, 483, 503, 502], [483, 484, 504, 503], [484, 485, 505, 504], [485, 486, 506, 505], [486, 487, 507, 506], [487, 488, 508, 507], [488, 489, 509, 508], [489, 490, 510, 509], [490, 491, 511, 510], [491, 492, 512, 511], [492, 493, 513, 512], [493, 494, 514, 513], [494, 495, 515, 514], [495, 496, 516, 515], [496, 497, 517, 516], [497, 498, 518, 517], [498, 499, 519, 518], [500, 501, 521, 520], [501, 502, 522, 521], [502, 503, 523, 522], [503, 504, 524, 523], [504, 505, 525, 524], [505, 506, 526, 525], [506, 507, 527, 526], [507, 508, 528, 527], [508, 509, 529, 528], [509, 510, 530, 529], [510, 511, 531, 530], [511, 512, 532, 531], [512, 513, 533, 532], [513, 514, 534, 533], [514, 515, 535, 534], [515, 516, 536, 535], [516, 517, 537, 536], [517, 518, 538, 537], [518, 519, 539, 538], [520, 521, 541, 540], [521, 522, 542, 541], [522, 523, 543, 542], [523, 524, 544, 543], [524, 525, 545, 544], [525, 526, 546, 545], [526, 527, 547, 546], [527, 528, 548, 547], [528, 529, 549, 548], [529, 530, 550, 549], [530, 531, 551, 550], [531, 532, 552, 551], [532, 533, 553, 552], [533, 534, 554, 553], [534, 535, 555, 554], [535, 536, 556, 555], [536, 537, 557, 556], [537, 538, 558, 557], [538, 539, 559, 558], [540, 541, 561, 560], [541, 542, 562, 561], [542, 543, 563, 562], [543, 544, 564, 563], [544, 545, 565, 564], [545, 546, 566, 565], [546, 547, 567, 566], [547, 548, 568, 567], [548, 549, 569, 568], [549, 550, 570, 569], [550, 551, 571, 570], [551, 552, 572, 571], [552, 553, 573, 572], [553, 554, 574, 573], [554, 555, 575, 574], [555, 556, 576, 575], [556, 557, 577, 576], [557, 558, 578, 577], [558, 559, 579, 578], [560, 561, 581, 580], [561, 562, 582, 581], [562, 563, 583, 582], [563, 564, 584, 583], [564, 565, 585, 584], [565, 566, 586, 585], [566, 567, 587, 586], [567, 568, 588, 587], [568, 569, 589, 588], [569, 570, 590, 589], [570, 571, 591, 590], [571, 572, 592, 591], [572, 573, 593, 592], [573, 574, 594, 593], [574, 575, 595, 594], [575, 576, 596, 595], [576, 577, 597, 596], [577, 578, 598, 597], [578, 579, 599, 598], [580, 581, 601, 600], [581, 582, 602, 601], [582, 583, 603, 602], [583, 584, 604, 603], [584, 585, 605, 604], [585, 586, 606, 605], [586, 587, 607, 606], [587, 588, 608, 607], [588, 589, 609, 608], [589, 590, 610, 609], [590, 591, 611, 610], [591, 592, 612, 611], [592, 593, 613, 612], [593, 594, 614, 613], [594, 595, 615, 614], [595, 596, 616, 615], [596, 597, 617, 616], [597, 598, 618, 617], [598, 599, 619, 618], [600, 601, 621, 620], [601, 602, 622, 621], [602, 603, 623, 622], [603, 604, 624, 623], [604, 605, 625, 624], [605, 606, 626, 625], [606, 607, 627, 626], [607, 608, 628, 627], [608, 609, 629, 628], [609, 610, 630, 629], [610, 611, 631, 630], [611, 612, 632, 631], [612, 613, 633, 632], [613, 614, 634, 633], [614, 615, 635, 634], [615, 616, 636, 635], [616, 617, 637, 636], [617, 618, 638, 637], [618, 619, 639, 638], [620, 621, 641, 640], [621, 622, 642, 641], [622, 623, 643, 642], [623, 624, 644, 643], [624, 625, 645, 644], [625, 626, 646, 645], [626, 627, 647, 646], [627, 628, 648, 647], [628, 629, 649, 648], [629, 630, 650, 649], [630, 631, 651, 650], [631, 632, 652, 651], [632, 633, 653, 652], [633, 634, 654, 653], [634, 635, 655, 654], [635, 636, 656, 655], [636, 637, 657, 656], [637, 638, 658, 657], [638, 639, 659, 658], [640, 641, 661, 660], [641, 642, 662, 661], [642, 643, 663, 662], [643, 644, 664, 663], [644, 645, 665, 664], [645, 646, 666, 665], [646, 647, 667, 666], [647, 648, 668, 667], [648, 649, 669, 668], [649, 650, 670, 669], [650, 651, 671, 670], [651, 652, 672, 671], [652, 653, 673, 672], [653, 654, 674, 673], [654, 655, 675, 674], [655, 656, 676, 675], [656, 657, 677, 676], [657, 658, 678, 677], [658, 659, 679, 678], [660, 661, 681, 680], [661, 662, 682, 681], [662, 663, 683, 682], [663, 664, 684, 683], [664, 665, 685, 684], [665, 666, 686, 685], [666, 667, 687, 686], [667, 668, 688, 687], [668, 669, 689, 688], [669, 670, 690, 689], [670, 671, 691, 690], [671, 672, 692, 691], [672, 673, 693, 692], [673, 674, 694, 693], [674, 675, 695, 694], [675, 676, 696, 695], [676, 677, 697, 696], [677, 678, 698, 697], [678, 679, 699, 698], [680, 681, 701, 700], [681, 682, 702, 701], [682, 683, 703, 702], [683, 684, 704, 703], [684, 685, 705, 704], [685, 686, 706, 705], [686, 687, 707, 706], [687, 688, 708, 707], [688, 689, 709, 708], [689, 690, 710, 709], [690, 691, 711, 710], [691, 692, 712, 711], [692, 693, 713, 712], [693, 694, 714, 713], [694, 695, 715, 714], [695, 696, 716, 715], [696, 697, 717, 716], [697, 698, 718, 717], [698, 699, 719, 718], [700, 701, 721, 720], [701, 702, 722, 721], [702, 703, 723, 722], [703, 704, 724, 723], [704, 705, 725, 724], [705, 706, 726, 725], [706, 707, 727, 726], [707, 708, 728, 727], [708, 709, 729, 728], [709, 710, 730, 729], [710, 711, 731, 730], [711, 712, 732, 731], [712, 713, 733, 732], [713, 714, 734, 733], [714, 715, 735, 734], [715, 716, 736, 735], [716, 717, 737, 736], [717, 718, 738, 737], [718, 719, 739, 738], [720, 721, 741, 740], [721, 722, 742, 741], [722, 723, 743, 742], [723, 724, 744, 743], [724, 725, 745, 744], [725, 726, 746, 745], [726, 727, 747, 746], [727, 728, 748, 747], [728, 729, 749, 748], [729, 730, 750, 749], [730, 731, 751, 750], [731, 732, 752, 751], [732, 733, 753, 752], [733, 734, 754, 753], [734, 735, 755, 754], [735, 736, 756, 755], [736, 737, 757, 756], [737, 738, 758, 757], [738, 739, 759, 758], [740, 741, 761, 760], [741, 742, 762, 761], [742, 743, 763, 762], [743, 744, 764, 763], [744, 745, 765, 764], [745, 746, 766, 765], [746, 747, 767, 766], [747, 748, 768, 767], [748, 749, 769, 768], [749, 750, 770, 769], [750, 751, 771, 770], [751, 752, 772, 771], [752, 753, 773, 772], [753, 754, 774, 773], [754, 755, 775, 774], [755, 756, 776, 775], [756, 757, 777, 776], [757, 758, 778, 777], [758, 759, 779, 778], [760, 761, 781, 780], [761, 762, 782, 781], [762, 763, 783, 782], [763, 764, 784, 783], [764, 765, 785, 784], [765, 766, 786, 785], [766, 767, 787, 786], [767, 768, 788, 787], [768, 769, 789, 788], [769, 770, 790, 789], [770, 771, 791, 790], [771, 772, 792, 791], [772, 773, 793, 792], [773, 774, 794, 793], [774, 775, 795, 794], [775, 776, 796, 795], [776, 777, 797, 796], [777, 778, 798, 797], [778, 779, 799, 798]], &quot;color&quot;: &quot;#6666ff&quot;, &quot;opacity&quot;: 1.0}];\n",
       "    for ( var i=0 ; i < surfaces.length ; i++ ) addSurface( surfaces[i] );\n",
       "\n",
       "    function addSurface( json ) {\n",
       "\n",
       "        var useFaceColors = 'faceColors' in json ? true : false;\n",
       "\n",
       "        var geometry = new THREE.Geometry();\n",
       "        for ( var i=0 ; i < json.vertices.length ; i++ ) {\n",
       "            var v = json.vertices[i];\n",
       "            geometry.vertices.push( new THREE.Vector3( a[0]*v.x, a[1]*v.y, a[2]*v.z ) );\n",
       "        }\n",
       "        for ( var i=0 ; i < json.faces.length ; i++ ) {\n",
       "            var f = json.faces[i];\n",
       "            for ( var j=0 ; j < f.length - 2 ; j++ ) {\n",
       "                var face = new THREE.Face3( f[0], f[j+1], f[j+2] );\n",
       "                if ( useFaceColors ) face.color.set( json.faceColors[i] );\n",
       "                geometry.faces.push( face );\n",
       "            }\n",
       "        }\n",
       "        geometry.computeVertexNormals();\n",
       "\n",
       "        var side = json.singleSide ? THREE.FrontSide : THREE.DoubleSide;\n",
       "        var transparent = json.opacity < 1 ? true : false;\n",
       "        var depthWrite = 'depthWrite' in json ? json.depthWrite : !transparent;\n",
       "        var flatShading = json.useFlatShading ? json.useFlatShading : false;\n",
       "\n",
       "        var material = new THREE.MeshPhongMaterial( { side: side,\n",
       "                                     color: useFaceColors ? 'white' : json.color,\n",
       "                                     vertexColors: useFaceColors ? THREE.FaceColors : THREE.NoColors,\n",
       "                                     transparent: transparent, opacity: json.opacity,\n",
       "                                     shininess: 20, flatShading: flatShading,\n",
       "                                     depthWrite: depthWrite } );\n",
       "\n",
       "        var c = new THREE.Vector3();\n",
       "        geometry.computeBoundingBox();\n",
       "        geometry.boundingBox.getCenter( c );\n",
       "        geometry.translate( -c.x, -c.y, -c.z );\n",
       "\n",
       "        var mesh = new THREE.Mesh( geometry, material );\n",
       "        mesh.position.set( c.x, c.y, c.z );\n",
       "        if ( transparent && json.renderOrder ) mesh.renderOrder = json.renderOrder;\n",
       "        mesh.userData = json;\n",
       "        scene.add( mesh );\n",
       "\n",
       "        if ( json.showMeshGrid ) addSurfaceMeshGrid( json );\n",
       "\n",
       "    }\n",
       "\n",
       "    function addSurfaceMeshGrid( json ) {\n",
       "\n",
       "        var geometry = new THREE.Geometry();\n",
       "\n",
       "        for ( var i=0 ; i < json.faces.length ; i++ ) {\n",
       "            var f = json.faces[i];\n",
       "            for ( var j=0 ; j < f.length ; j++ ) {\n",
       "                var k = j === f.length-1 ? 0 : j+1;\n",
       "                var v1 = json.vertices[f[j]];\n",
       "                var v2 = json.vertices[f[k]];\n",
       "                // vertices in opposite directions on neighboring faces\n",
       "                var nudge = f[j] < f[k] ? .0005*zRange : -.0005*zRange;\n",
       "                geometry.vertices.push( new THREE.Vector3( a[0]*v1.x, a[1]*v1.y, a[2]*(v1.z+nudge) ) );\n",
       "                geometry.vertices.push( new THREE.Vector3( a[0]*v2.x, a[1]*v2.y, a[2]*(v2.z+nudge) ) );\n",
       "            }\n",
       "        }\n",
       "\n",
       "        var c = new THREE.Vector3();\n",
       "        geometry.computeBoundingBox();\n",
       "        geometry.boundingBox.getCenter( c );\n",
       "        geometry.translate( -c.x, -c.y, -c.z );\n",
       "\n",
       "        var gridColor = options.theme === 'dark' ? 'white' : 'black';\n",
       "        var linewidth = json.linewidth || 1;\n",
       "        var materialOptions = { color: gridColor, linewidth: linewidth };\n",
       "\n",
       "        var mesh;\n",
       "        if ( linewidth > 1 && window.createFatLineSegments ) {\n",
       "            mesh = createFatLineSegments( geometry, materialOptions );\n",
       "        } else {\n",
       "            var material = new THREE.LineBasicMaterial( materialOptions );\n",
       "            mesh = new THREE.LineSegments( geometry, material );\n",
       "        }\n",
       "\n",
       "        mesh.position.set( c.x, c.y, c.z );\n",
       "        mesh.userData = json;\n",
       "        scene.add( mesh );\n",
       "\n",
       "    }\n",
       "\n",
       "    function render() {\n",
       "\n",
       "        if ( window.updateAnimation ) animate = updateAnimation();\n",
       "        if ( animate ) requestAnimationFrame( render );\n",
       "\n",
       "        renderer.render( scene, camera );\n",
       "\n",
       "    }\n",
       "\n",
       "    render();\n",
       "    controls.update();\n",
       "    if ( !animate ) render();\n",
       "\n",
       "\n",
       "    // menu functions\n",
       "\n",
       "    function toggleMenu() {\n",
       "\n",
       "        var m = document.getElementById( 'menu-content' );\n",
       "        if ( m.style.display === 'block' ) m.style.display = 'none'\n",
       "        else m.style.display = 'block';\n",
       "\n",
       "    }\n",
       "\n",
       "\n",
       "    function saveAsPNG() {\n",
       "\n",
       "        var a = document.body.appendChild( document.createElement( 'a' ) );\n",
       "        a.href = renderer.domElement.toDataURL( 'image/png' );\n",
       "        a.download = 'screenshot';\n",
       "        a.click();\n",
       "\n",
       "    }\n",
       "\n",
       "    function saveAsHTML() {\n",
       "\n",
       "        toggleMenu(); // otherwise visible in output\n",
       "        event.stopPropagation();\n",
       "\n",
       "        var blob = new Blob( [ '<!DOCTYPE html>\\n' + document.documentElement.outerHTML ] );\n",
       "        var a = document.body.appendChild( document.createElement( 'a' ) );\n",
       "        a.href = window.URL.createObjectURL( blob );\n",
       "        a.download = suggestFilename();\n",
       "        a.click();\n",
       "\n",
       "        function suggestFilename() {\n",
       "            if ( !document.title ) {\n",
       "                return 'graphic.html';\n",
       "            } else if ( /\\.html?$/i.test( document.title ) ) {\n",
       "                return document.title; // already ends in .htm or .html\n",
       "            } else {\n",
       "                return document.title + '.html';\n",
       "            }\n",
       "        }\n",
       "\n",
       "    }\n",
       "\n",
       "    function getViewpoint() {\n",
       "\n",
       "        function roundTo( x, n ) { return +x.toFixed(n); }\n",
       "\n",
       "        var v = camera.quaternion.inverse();\n",
       "        var r = Math.sqrt( v.x*v.x + v.y*v.y + v.z*v.z );\n",
       "        var axis = [ roundTo( v.x / r, 4 ), roundTo( v.y / r, 4 ), roundTo( v.z / r, 4 ) ];\n",
       "        var angle = roundTo( 2 * Math.atan2( r, v.w ) * 180 / Math.PI, 2 );\n",
       "\n",
       "        var textArea = document.createElement( 'textarea' );\n",
       "        textArea.textContent = JSON.stringify( axis ) + ',' + angle;\n",
       "        textArea.style.csstext = 'position: absolute; top: -100%';\n",
       "        document.body.append( textArea );\n",
       "        textArea.select();\n",
       "        document.execCommand( 'copy' );\n",
       "\n",
       "        var m = document.getElementById( 'menu-message' );\n",
       "        m.innerHTML = 'Viewpoint copied to clipboard';\n",
       "        m.style.display = 'block';\n",
       "        setTimeout( function() { m.style.display = 'none'; }, 2000 );\n",
       "\n",
       "    }\n",
       "\n",
       "</script>\n",
       "\n",
       "<div id=&quot;menu-container&quot; onclick=&quot;toggleMenu()&quot;>&#x24d8;\n",
       "<div id=&quot;menu-message&quot;></div>\n",
       "<div id=&quot;menu-content&quot;>\n",
       "<div onclick=&quot;saveAsPNG()&quot;>Save as PNG</div>\n",
       "<div onclick=&quot;saveAsHTML()&quot;>Save as HTML</div>\n",
       "<div onclick=&quot;getViewpoint()&quot;>Get Viewpoint</div>\n",
       "<div>Close Menu</div>\n",
       "</div></div>\n",
       "\n",
       "\n",
       "</body>\n",
       "</html>\n",
       "\"\n",
       "        width=\"100%\"\n",
       "        height=\"400\"\n",
       "        style=\"border: 0;\">\n",
       "</iframe>\n"
      ],
      "text/plain": [
       "Graphics3d Object"
      ]
     },
     "execution_count": 4,
     "metadata": {},
     "output_type": "execute_result"
    }
   ],
   "source": [
    "plot3d(f, (x, -1, 1), (y, -1, 1))"
   ]
  },
  {
   "cell_type": "markdown",
   "metadata": {},
   "source": [
    "**Importante.** Quando queremos respostas numéricas, computação simbólica mais atrapalha do que ajuda."
   ]
  },
  {
   "cell_type": "code",
   "execution_count": 5,
   "metadata": {},
   "outputs": [
    {
     "data": {
      "text/plain": [
       "93/13"
      ]
     },
     "execution_count": 5,
     "metadata": {},
     "output_type": "execute_result"
    }
   ],
   "source": [
    "93/13"
   ]
  },
  {
   "cell_type": "code",
   "execution_count": 6,
   "metadata": {},
   "outputs": [
    {
     "data": {
      "text/plain": [
       "log(1201)/log(2)"
      ]
     },
     "execution_count": 6,
     "metadata": {},
     "output_type": "execute_result"
    }
   ],
   "source": [
    "log(1201, 2)"
   ]
  },
  {
   "cell_type": "markdown",
   "metadata": {},
   "source": [
    "Para obtermos a aproximação numérica de uma expressão, usamos a função `n` que toma como parâmetros uma expressão  e, opcionalmente, o número de dígitos da aproximação."
   ]
  },
  {
   "cell_type": "code",
   "execution_count": 7,
   "metadata": {},
   "outputs": [
    {
     "data": {
      "text/plain": [
       "7.15384615384615"
      ]
     },
     "execution_count": 7,
     "metadata": {},
     "output_type": "execute_result"
    }
   ],
   "source": [
    "n(93/13)"
   ]
  },
  {
   "cell_type": "code",
   "execution_count": 8,
   "metadata": {},
   "outputs": [
    {
     "data": {
      "text/plain": [
       "10.2300204357056340945901830909"
      ]
     },
     "execution_count": 8,
     "metadata": {},
     "output_type": "execute_result"
    }
   ],
   "source": [
    "n(log(1201, 2), digits=30)"
   ]
  },
  {
   "cell_type": "code",
   "execution_count": 9,
   "metadata": {},
   "outputs": [
    {
     "data": {
      "text/plain": [
       "10.2300204357056"
      ]
     },
     "execution_count": 9,
     "metadata": {},
     "output_type": "execute_result"
    }
   ],
   "source": [
    "numerical_approx(log(1201, 2))"
   ]
  },
  {
   "cell_type": "markdown",
   "metadata": {},
   "source": [
    "### Por que usar Sage?"
   ]
  },
  {
   "cell_type": "markdown",
   "metadata": {},
   "source": [
    "Vamos comparar código em C e Sage para fazer multiplicações de matrizes binárias."
   ]
  },
  {
   "cell_type": "markdown",
   "metadata": {},
   "source": [
    "Em C, a biblioteca mais rápida para fazer multiplicação binária eficiente é chamada M4RI. \n",
    "\n",
    "Considere a implementação abaixo:"
   ]
  },
  {
   "cell_type": "markdown",
   "metadata": {},
   "source": [
    "```C\n",
    "mzd_t* multiply_two_random_matrices(rci_t n) {\n",
    "  mzd_t* A = mzd_init(n, n);\n",
    "  mzd_t* B = mzd_init(n, n);\n",
    "  mzd_randomize(A);\n",
    "  mzd_randomize(B);\n",
    "  mzd_t* C = mzd_mul(NULL, A, B, NULL);\n",
    "  \n",
    "  mzd_free(A);\n",
    "  mzd_free(B);\n",
    "    \n",
    "  return C;\n",
    "}\n",
    "```"
   ]
  },
  {
   "cell_type": "markdown",
   "metadata": {},
   "source": [
    "Agora o código em Sage que realiza exatemente a mesma computação:"
   ]
  },
  {
   "cell_type": "code",
   "execution_count": 10,
   "metadata": {},
   "outputs": [],
   "source": [
    "def multiply_two_random_matrices(n):\n",
    "    A = random_matrix(GF(2), n, n)\n",
    "    B = random_matrix(GF(2), n, n)\n",
    "    return A*B"
   ]
  },
  {
   "cell_type": "code",
   "execution_count": 11,
   "metadata": {},
   "outputs": [
    {
     "name": "stdout",
     "output_type": "stream",
     "text": [
      "[0 1 1 1 0 0 1 1]\n",
      "[1 0 1 1 1 0 1 0]\n",
      "[0 1 0 1 0 0 1 1]\n",
      "[0 0 0 1 0 1 0 1]\n",
      "[0 1 1 1 0 1 1 1]\n",
      "[0 1 1 0 0 1 1 1]\n",
      "[0 0 1 0 0 1 0 1]\n",
      "[1 0 0 0 0 0 1 0]\n"
     ]
    }
   ],
   "source": [
    "C = multiply_two_random_matrices(8)\n",
    "print(C)"
   ]
  },
  {
   "cell_type": "markdown",
   "metadata": {},
   "source": [
    "As duas implementações rodam em tempo similar **pois Sage chama a rotina da M4RI para fazer a multiplicação!**"
   ]
  },
  {
   "cell_type": "markdown",
   "metadata": {},
   "source": [
    "Além disso, temos a vantagem de ter a mesma interface para vários sistemas bem diferentes entre si. Por exemplo: podemos usar $\\mathbf{C}$ diretamente como matriz de adjacência para construir um grafo"
   ]
  },
  {
   "cell_type": "code",
   "execution_count": 12,
   "metadata": {},
   "outputs": [],
   "source": [
    "G = sage.graphs.digraph.DiGraph(C)"
   ]
  },
  {
   "cell_type": "markdown",
   "metadata": {},
   "source": [
    "Podemos obter informações importantes sobre o grafo gerado. Por exemplo, se o grafo é conexo ou não."
   ]
  },
  {
   "cell_type": "code",
   "execution_count": 13,
   "metadata": {},
   "outputs": [
    {
     "data": {
      "text/plain": [
       "True"
      ]
     },
     "execution_count": 13,
     "metadata": {},
     "output_type": "execute_result"
    }
   ],
   "source": [
    "G.is_connected()"
   ]
  },
  {
   "cell_type": "markdown",
   "metadata": {},
   "source": [
    "Por onde você começaria a implementar em C isso que acabamos de fazer tão facilmente?"
   ]
  },
  {
   "cell_type": "markdown",
   "metadata": {},
   "source": [
    "\n",
    "### Como usar o Sage?\n"
   ]
  },
  {
   "cell_type": "markdown",
   "metadata": {},
   "source": [
    "O SageMath pode ser usado de 3 formas:\n",
    "- Usando o Jupyter Notebook (essa é a forma sendo usada neste documento)\n",
    "- Com um interpretador interativo\n",
    "- Por meio de scripts\n"
   ]
  },
  {
   "cell_type": "markdown",
   "metadata": {},
   "source": [
    "Um dos melhores editores para editar scripts em é o Atom (https://atom.io/), porém qualquer editor de texto pode ser usado.\n",
    "\n",
    "Para que seu script possa usar todas as funções do sage, ele deve conter `from sage.all import *` no topo."
   ]
  },
  {
   "cell_type": "markdown",
   "metadata": {},
   "source": [
    "`script.py`\n",
    "```python\n",
    "from sage.all import *\n",
    "\n",
    "def func1():\n",
    "    print('Esta é a função 1')\n",
    "\n",
    "def func2():\n",
    "    print('Esta é a função 2')\n",
    "\n",
    "if __name__ == \"__main__\":\n",
    "    func1()  # Chama a função 1\n",
    "    func2()  # Chama a função 2\n",
    "\n",
    "\n",
    "```"
   ]
  },
  {
   "cell_type": "markdown",
   "metadata": {},
   "source": [
    "Para rodar o arquivo `script.py`, use:\n",
    "\n",
    "`sage script.py`"
   ]
  },
  {
   "cell_type": "markdown",
   "metadata": {},
   "source": [
    "Para a depuração do seu script, é muito útil rodar o script dentro do interpretador interativo do Sage. Da mesma forma que fazemos isso no iPython, podemos rodar `%run script.py` dentro do Sage.\n",
    "\n",
    "```\n",
    "/home/user/$ sage\n",
    "┌────────────────────────────────────────────────────────────────────┐\n",
    "  SageMath version 9.0, Release Date: 2020-01-01                                  \n",
    "  Using Python 3.8.2. Type \"help()\" for help.                                     \n",
    "└────────────────────────────────────────────────────────────────────┘\n",
    "sage: %run script.py \n",
    "```"
   ]
  },
  {
   "cell_type": "markdown",
   "metadata": {},
   "source": [
    "## Aritmética modular"
   ]
  },
  {
   "cell_type": "markdown",
   "metadata": {},
   "source": [
    "Nesta seção, trataremos de $Z_n$, que é o anel de inteiros módulo $n$. \n",
    "Primeiro relembremos a definição de Anel."
   ]
  },
  {
   "cell_type": "markdown",
   "metadata": {},
   "source": [
    "**Definição.** Um anel $R$ é um conjunto munido de duas operações $+$ (adição) e $.$ (multiplicação), que, para todos $a, b, c \\in R$, satisfazem:\n",
    "1. Associatividade de $+$\n",
    "$$\n",
    "(a + b) + c = a + ( b + c)\n",
    "$$\n",
    "2. Comutatividade de $+$\n",
    "$$\n",
    "a + b = b + a\n",
    "$$\n",
    "3. Existência do identidade de $+$. Existe um elemento $0 \\in R$ tal que \n",
    "    $$\n",
    "    a + 0 = a\n",
    "    $$\n",
    "\n",
    "4. Existência da inversa aditiva. Existe um elemento $(-a) \\in R$ tal que \n",
    "    $$\n",
    "    a + (-a) = 0\n",
    "    $$\n",
    "\n",
    "5. Associatividade de $.$\n",
    "$$\n",
    "(a b) c = a ( b c)\n",
    "$$\n",
    "6. Existência da identidade de $.$\n",
    "\n",
    "    Existe um elemento $1 \\in R$ tal que \n",
    "    $$ \n",
    "    a1 = 1a = a\n",
    "    $$\n",
    "7. Distributividade de $.$ sobre $+$:\n",
    "$$\n",
    "    (a + b)c = ac + bc \\\\\n",
    "    c(a + b) = ca + cb\n",
    "$$"
   ]
  },
  {
   "cell_type": "markdown",
   "metadata": {},
   "source": [
    "**Importante**. Note que num anel não é necessário que $.$ seja comutativa, e nem que exista a inversa multiplicativa de todos os elementos."
   ]
  },
  {
   "cell_type": "markdown",
   "metadata": {},
   "source": [
    "\n",
    "Em Sage, é muito simples trabalhar com $Z_n$, o anel de inteiros $\\bmod n$."
   ]
  },
  {
   "cell_type": "code",
   "execution_count": 14,
   "metadata": {},
   "outputs": [
    {
     "name": "stdout",
     "output_type": "stream",
     "text": [
      "Ring of integers modulo 13\n"
     ]
    }
   ],
   "source": [
    "n = 13\n",
    "Zn = Integers(n)\n",
    "print(Zn)"
   ]
  },
  {
   "cell_type": "code",
   "execution_count": 15,
   "metadata": {},
   "outputs": [
    {
     "data": {
      "text/plain": [
       " +   0  1  2  3  4  5  6  7  8  9 10 11 12\n",
       "  +---------------------------------------\n",
       " 0|  0  1  2  3  4  5  6  7  8  9 10 11 12\n",
       " 1|  1  2  3  4  5  6  7  8  9 10 11 12  0\n",
       " 2|  2  3  4  5  6  7  8  9 10 11 12  0  1\n",
       " 3|  3  4  5  6  7  8  9 10 11 12  0  1  2\n",
       " 4|  4  5  6  7  8  9 10 11 12  0  1  2  3\n",
       " 5|  5  6  7  8  9 10 11 12  0  1  2  3  4\n",
       " 6|  6  7  8  9 10 11 12  0  1  2  3  4  5\n",
       " 7|  7  8  9 10 11 12  0  1  2  3  4  5  6\n",
       " 8|  8  9 10 11 12  0  1  2  3  4  5  6  7\n",
       " 9|  9 10 11 12  0  1  2  3  4  5  6  7  8\n",
       "10| 10 11 12  0  1  2  3  4  5  6  7  8  9\n",
       "11| 11 12  0  1  2  3  4  5  6  7  8  9 10\n",
       "12| 12  0  1  2  3  4  5  6  7  8  9 10 11\n"
      ]
     },
     "execution_count": 15,
     "metadata": {},
     "output_type": "execute_result"
    }
   ],
   "source": [
    "Zn.addition_table(names='elements')"
   ]
  },
  {
   "cell_type": "code",
   "execution_count": 16,
   "metadata": {},
   "outputs": [
    {
     "data": {
      "text/plain": [
       " *   0  1  2  3  4  5  6  7  8  9 10 11 12\n",
       "  +---------------------------------------\n",
       " 0|  0  0  0  0  0  0  0  0  0  0  0  0  0\n",
       " 1|  0  1  2  3  4  5  6  7  8  9 10 11 12\n",
       " 2|  0  2  4  6  8 10 12  1  3  5  7  9 11\n",
       " 3|  0  3  6  9 12  2  5  8 11  1  4  7 10\n",
       " 4|  0  4  8 12  3  7 11  2  6 10  1  5  9\n",
       " 5|  0  5 10  2  7 12  4  9  1  6 11  3  8\n",
       " 6|  0  6 12  5 11  4 10  3  9  2  8  1  7\n",
       " 7|  0  7  1  8  2  9  3 10  4 11  5 12  6\n",
       " 8|  0  8  3 11  6  1  9  4 12  7  2 10  5\n",
       " 9|  0  9  5  1 10  6  2 11  7  3 12  8  4\n",
       "10|  0 10  7  4  1 11  8  5  2 12  9  6  3\n",
       "11|  0 11  9  7  5  3  1 12 10  8  6  4  2\n",
       "12|  0 12 11 10  9  8  7  6  5  4  3  2  1\n"
      ]
     },
     "execution_count": 16,
     "metadata": {},
     "output_type": "execute_result"
    }
   ],
   "source": [
    "Zn.multiplication_table(names='elements')"
   ]
  },
  {
   "cell_type": "markdown",
   "metadata": {},
   "source": [
    "O Sage cuida para que as operações sejam feitas dentro deste anel."
   ]
  },
  {
   "cell_type": "code",
   "execution_count": 17,
   "metadata": {},
   "outputs": [
    {
     "data": {
      "text/plain": [
       "19"
      ]
     },
     "execution_count": 17,
     "metadata": {},
     "output_type": "execute_result"
    }
   ],
   "source": [
    "10 + 9  # Operação fora de Zn"
   ]
  },
  {
   "cell_type": "code",
   "execution_count": 18,
   "metadata": {},
   "outputs": [
    {
     "data": {
      "text/plain": [
       "6"
      ]
     },
     "execution_count": 18,
     "metadata": {},
     "output_type": "execute_result"
    }
   ],
   "source": [
    "(10 + 9) % 13"
   ]
  },
  {
   "cell_type": "code",
   "execution_count": 19,
   "metadata": {},
   "outputs": [
    {
     "data": {
      "text/plain": [
       "100000000000000000000"
      ]
     },
     "execution_count": 19,
     "metadata": {},
     "output_type": "execute_result"
    }
   ],
   "source": [
    "10**20  # Operação fora de Zn"
   ]
  },
  {
   "cell_type": "code",
   "execution_count": 20,
   "metadata": {},
   "outputs": [
    {
     "data": {
      "text/plain": [
       "9"
      ]
     },
     "execution_count": 20,
     "metadata": {},
     "output_type": "execute_result"
    }
   ],
   "source": [
    "10**20 % 13"
   ]
  },
  {
   "cell_type": "code",
   "execution_count": 21,
   "metadata": {},
   "outputs": [
    {
     "data": {
      "text/plain": [
       "6"
      ]
     },
     "execution_count": 21,
     "metadata": {},
     "output_type": "execute_result"
    }
   ],
   "source": [
    "Zn(10) + Zn(9)  # Operação em Zn"
   ]
  },
  {
   "cell_type": "code",
   "execution_count": 22,
   "metadata": {},
   "outputs": [
    {
     "data": {
      "text/plain": [
       "9"
      ]
     },
     "execution_count": 22,
     "metadata": {},
     "output_type": "execute_result"
    }
   ],
   "source": [
    "Zn(10)**20  # Operação em Zn"
   ]
  },
  {
   "cell_type": "markdown",
   "metadata": {},
   "source": [
    "**Comparação de tempo**"
   ]
  },
  {
   "cell_type": "code",
   "execution_count": 23,
   "metadata": {},
   "outputs": [
    {
     "name": "stdout",
     "output_type": "stream",
     "text": [
      "0.013619533739984035\n",
      "7.692199869779869e-07\n"
     ]
    }
   ],
   "source": [
    "import timeit\n",
    "\n",
    "def power_mod_python(x, e):\n",
    "    return lambda: x**e % n\n",
    "def power_mod_Zn(x, e):\n",
    "    return lambda: Zn(x)**e\n",
    "\n",
    "N = 100\n",
    "print(timeit.timeit(power_mod_python(10, 2000000), number=N)/N)\n",
    "print(timeit.timeit(power_mod_Zn(10, 2000000), number=N)/N)"
   ]
  },
  {
   "cell_type": "markdown",
   "metadata": {},
   "source": [
    "Note que, quando $\\gcd(a, n) = 1$, existe inversa de $a \\bmod n$, que pode é computada diretamente:"
   ]
  },
  {
   "cell_type": "code",
   "execution_count": 24,
   "metadata": {},
   "outputs": [
    {
     "data": {
      "text/plain": [
       "10"
      ]
     },
     "execution_count": 24,
     "metadata": {},
     "output_type": "execute_result"
    }
   ],
   "source": [
    "Zn(4)^-1"
   ]
  },
  {
   "cell_type": "code",
   "execution_count": 25,
   "metadata": {},
   "outputs": [
    {
     "data": {
      "text/plain": [
       "1"
      ]
     },
     "execution_count": 25,
     "metadata": {},
     "output_type": "execute_result"
    }
   ],
   "source": [
    "Zn(10)*Zn(4)"
   ]
  },
  {
   "cell_type": "markdown",
   "metadata": {},
   "source": [
    "Além disso, para casos em que precisamos apenas da exponenciação ou inversão modular, sem que seja necessário fazer outras operações em $Z_n$, podemos usar as funções `power_mod` ou `inverse_mod`. Isso evita a sobrecarga de criar o $Z_n$, como fizemos anteriormente."
   ]
  },
  {
   "cell_type": "code",
   "execution_count": 26,
   "metadata": {
    "scrolled": true
   },
   "outputs": [
    {
     "data": {
      "text/plain": [
       "9"
      ]
     },
     "execution_count": 26,
     "metadata": {},
     "output_type": "execute_result"
    }
   ],
   "source": [
    "power_mod(10, 20, 13)"
   ]
  },
  {
   "cell_type": "code",
   "execution_count": 27,
   "metadata": {},
   "outputs": [
    {
     "data": {
      "text/plain": [
       "10"
      ]
     },
     "execution_count": 27,
     "metadata": {},
     "output_type": "execute_result"
    }
   ],
   "source": [
    "inverse_mod(4, 13)"
   ]
  },
  {
   "cell_type": "markdown",
   "metadata": {},
   "source": [
    "Compare as respotas acima com as calculadas sobre elementos de $Z_n$ diretamente."
   ]
  },
  {
   "cell_type": "markdown",
   "metadata": {},
   "source": [
    "***"
   ]
  },
  {
   "cell_type": "markdown",
   "metadata": {},
   "source": [
    "Funções importantes como o Máximo Divisor Comum, Algoritmo de Euclides estendido, e Teorema Chinês do Resto são implementados em Sage."
   ]
  },
  {
   "cell_type": "markdown",
   "metadata": {},
   "source": [
    "O MDC (Greatest Common Divisor - GCD) pode ser computado usando a função `gcd`"
   ]
  },
  {
   "cell_type": "code",
   "execution_count": 28,
   "metadata": {},
   "outputs": [
    {
     "data": {
      "text/plain": [
       "1"
      ]
     },
     "execution_count": 28,
     "metadata": {},
     "output_type": "execute_result"
    }
   ],
   "source": [
    "gcd(133, 48)"
   ]
  },
  {
   "cell_type": "code",
   "execution_count": 29,
   "metadata": {},
   "outputs": [
    {
     "data": {
      "text/plain": [
       "6"
      ]
     },
     "execution_count": 29,
     "metadata": {},
     "output_type": "execute_result"
    }
   ],
   "source": [
    "gcd(12, 18)"
   ]
  },
  {
   "cell_type": "markdown",
   "metadata": {},
   "source": [
    "O algoritmo de Euclides estendido é feito pela função `xgcd`"
   ]
  },
  {
   "cell_type": "code",
   "execution_count": 30,
   "metadata": {},
   "outputs": [],
   "source": [
    "res, u, v = xgcd(133, 48)"
   ]
  },
  {
   "cell_type": "code",
   "execution_count": 31,
   "metadata": {},
   "outputs": [
    {
     "data": {
      "text/plain": [
       "1"
      ]
     },
     "execution_count": 31,
     "metadata": {},
     "output_type": "execute_result"
    }
   ],
   "source": [
    "res"
   ]
  },
  {
   "cell_type": "code",
   "execution_count": 32,
   "metadata": {},
   "outputs": [
    {
     "data": {
      "text/plain": [
       "1"
      ]
     },
     "execution_count": 32,
     "metadata": {},
     "output_type": "execute_result"
    }
   ],
   "source": [
    "u*133 + v*48"
   ]
  },
  {
   "cell_type": "markdown",
   "metadata": {},
   "source": [
    "Considere os seguintes resíduos para os quais queremos aplicar o Teorema Chinês do Resto (TCR).\n",
    "$$\n",
    "\\begin{cases}\n",
    "    x \\equiv 17 \\mod 23 \\\\\n",
    "    x \\equiv 91 \\mod 111 \\\\\n",
    "    x \\equiv 40 \\mod 57 \\\\\n",
    "\\end{cases}\n",
    "$$\n",
    "\n",
    "O Teorema Chinês do Resto (Chinese Remainder Theorem - CRT) pode ser usado para encontrar uma solução para as congruências usando a função `crt`"
   ]
  },
  {
   "cell_type": "code",
   "execution_count": 33,
   "metadata": {},
   "outputs": [],
   "source": [
    "x = crt([17, 91, 40], [23, 111, 57])"
   ]
  },
  {
   "cell_type": "code",
   "execution_count": 34,
   "metadata": {},
   "outputs": [
    {
     "data": {
      "text/plain": [
       "31504"
      ]
     },
     "execution_count": 34,
     "metadata": {},
     "output_type": "execute_result"
    }
   ],
   "source": [
    "x"
   ]
  },
  {
   "cell_type": "code",
   "execution_count": 35,
   "metadata": {},
   "outputs": [
    {
     "data": {
      "text/plain": [
       "(17, 91, 40)"
      ]
     },
     "execution_count": 35,
     "metadata": {},
     "output_type": "execute_result"
    }
   ],
   "source": [
    "x % 23, x % 111, x % 57"
   ]
  },
  {
   "cell_type": "markdown",
   "metadata": {},
   "source": [
    "## As funções do Sage podem ser usadas para cripto segura?"
   ]
  },
  {
   "cell_type": "code",
   "execution_count": 119,
   "metadata": {},
   "outputs": [],
   "source": [
    "\n",
    "import timeit\n",
    "\n",
    "MAX_INT  = 10000\n",
    "NSAMPLES = 1000\n",
    "\n",
    "def compare_modular_exponentiation_efficiency(nsamples=NSAMPLES, max_int=MAX_INT):\n",
    "    \n",
    "    data = {\n",
    "        'n': [],\n",
    "        'p': [],\n",
    "        'exponent': [],\n",
    "        'time_power_mod': [],\n",
    "        'time_regular_exponentiation': []\n",
    "    }\n",
    "    \n",
    "    for _ in range(nsamples):\n",
    "        n = randint(1, max_int)\n",
    "        p = random_prime(max_int)\n",
    "        exponent = randint(1, max_int)\n",
    "\n",
    "        def compute_with_power_mod():\n",
    "            v = power_mod(n, exponent, p)\n",
    "\n",
    "        time_power_mod = timeit.timeit(compute_with_power_mod, number=10)\n",
    "\n",
    "        def compute_with_regular_exponentiation():\n",
    "            v = n**exponent % p\n",
    "\n",
    "        time_regular_exponentiation = timeit.timeit(compute_with_regular_exponentiation, number=10)\n",
    "\n",
    "        data['n'].append(n)\n",
    "        data['p'].append(p)\n",
    "        data['exponent'].append(exponent)\n",
    "        data['time_power_mod'].append(time_power_mod)\n",
    "        data['time_regular_exponentiation'].append(time_regular_exponentiation)\n",
    "\n",
    "        \n",
    "    return data\n",
    "\n",
    "data = compare_modular_exponentiation_efficiency()"
   ]
  },
  {
   "cell_type": "code",
   "execution_count": 128,
   "metadata": {},
   "outputs": [
    {
     "data": {
      "text/plain": [
       "<matplotlib.legend.Legend object at 0x7f8cd2520280>"
      ]
     },
     "execution_count": 128,
     "metadata": {},
     "output_type": "execute_result"
    },
    {
     "data": {
      "image/png": "[encoded data removed]",
      "text/plain": [
       "<Figure size 640x480 with 1 Axes>"
      ]
     },
     "metadata": {},
     "output_type": "display_data"
    }
   ],
   "source": [
    "%matplotlib inline\n",
    "\n",
    "\n",
    "import matplotlib.pyplot as plt\n",
    "\n",
    "import pandas as pd\n",
    "\n",
    "df = pd.DataFrame.from_dict(data)\n",
    "\n",
    "ax = plt.gca()\n",
    "\n",
    "df.plot.scatter(x='exponent', y='time_power_mod', label='Usando power_mod', c='red', ax=ax, s=0.4)\n",
    "df.plot.scatter(x='exponent', y='time_regular_exponentiation', c='blue', label='Sem usar power_mod', ax=ax, s=0.4)\n",
    "\n",
    "plt.ylabel('Tempo de execução')\n",
    "plt.legend()\n"
   ]
  },
  {
   "cell_type": "code",
   "execution_count": 127,
   "metadata": {},
   "outputs": [
    {
     "data": {
      "text/plain": [
       "<AxesSubplot:xlabel='exponent', ylabel='time_power_mod'>"
      ]
     },
     "execution_count": 127,
     "metadata": {},
     "output_type": "execute_result"
    },
    {
     "data": {
      "image/png": "[encoded data removed]",
      "text/plain": [
       "<Figure size 640x480 with 1 Axes>"
      ]
     },
     "metadata": {},
     "output_type": "display_data"
    }
   ],
   "source": [
    "%matplotlib inline\n",
    "df.plot.scatter(x='exponent', y='time_power_mod', label='Usando power_mod', c='red', s=0.4)"
   ]
  },
  {
   "cell_type": "code",
   "execution_count": 166,
   "metadata": {},
   "outputs": [],
   "source": [
    "def compare_modular_exponentiation_efficiency_larg_exp(a=6000, b=7000):\n",
    "    \n",
    "    data = {\n",
    "        'n': [],\n",
    "        'p': [],\n",
    "        'exponent': [],\n",
    "        'time_power_mod': [],\n",
    "    }\n",
    "#     n = 203123\n",
    "#     p = random_prime(max_int)\n",
    "    for exponent in range(a, b):\n",
    "        n = randint(2, 10000)\n",
    "        p = random_prime(10000)\n",
    "\n",
    "        def compute_with_power_mod():\n",
    "            v = power_mod(n, exponent, p)\n",
    "\n",
    "        time_power_mod = timeit.timeit(compute_with_power_mod, number=10)\n",
    "\n",
    "        data['n'].append(n)\n",
    "        data['p'].append(p)\n",
    "        data['exponent'].append(exponent)\n",
    "        data['time_power_mod'].append(time_power_mod)\n",
    "\n",
    "        \n",
    "    return data\n",
    "\n",
    "data_large = compare_modular_exponentiation_efficiency_larg_exp()"
   ]
  },
  {
   "cell_type": "code",
   "execution_count": 167,
   "metadata": {},
   "outputs": [],
   "source": [
    "df_large_exp = pd.DataFrame.from_dict(data_large)\n",
    "\n",
    "def hamming_weight(x):\n",
    "    return bin(x)[2:].count('1')\n",
    "\n",
    "df_large_exp['exp_hamming_weight'] = df_large_exp.exponent.apply(hamming_weight, 1)"
   ]
  },
  {
   "cell_type": "code",
   "execution_count": 155,
   "metadata": {},
   "outputs": [
    {
     "data": {
      "text/plain": [
       "'0b1001100111001'"
      ]
     },
     "execution_count": 155,
     "metadata": {},
     "output_type": "execute_result"
    }
   ],
   "source": [
    "bin(4921)"
   ]
  },
  {
   "cell_type": "code",
   "execution_count": 168,
   "metadata": {},
   "outputs": [
    {
     "data": {
      "text/html": [
       "<div>\n",
       "<style scoped>\n",
       "    .dataframe tbody tr th:only-of-type {\n",
       "        vertical-align: middle;\n",
       "    }\n",
       "\n",
       "    .dataframe tbody tr th {\n",
       "        vertical-align: top;\n",
       "    }\n",
       "\n",
       "    .dataframe thead th {\n",
       "        text-align: right;\n",
       "    }\n",
       "</style>\n",
       "<table border=\"1\" class=\"dataframe\">\n",
       "  <thead>\n",
       "    <tr style=\"text-align: right;\">\n",
       "      <th></th>\n",
       "      <th>n</th>\n",
       "      <th>p</th>\n",
       "      <th>exponent</th>\n",
       "      <th>time_power_mod</th>\n",
       "      <th>exp_hamming_weight</th>\n",
       "    </tr>\n",
       "  </thead>\n",
       "  <tbody>\n",
       "    <tr>\n",
       "      <th>0</th>\n",
       "      <td>4782</td>\n",
       "      <td>6263</td>\n",
       "      <td>6000</td>\n",
       "      <td>0.000045</td>\n",
       "      <td>7</td>\n",
       "    </tr>\n",
       "    <tr>\n",
       "      <th>1</th>\n",
       "      <td>5395</td>\n",
       "      <td>6221</td>\n",
       "      <td>6001</td>\n",
       "      <td>0.000040</td>\n",
       "      <td>8</td>\n",
       "    </tr>\n",
       "    <tr>\n",
       "      <th>2</th>\n",
       "      <td>6328</td>\n",
       "      <td>2399</td>\n",
       "      <td>6002</td>\n",
       "      <td>0.000040</td>\n",
       "      <td>8</td>\n",
       "    </tr>\n",
       "    <tr>\n",
       "      <th>3</th>\n",
       "      <td>5280</td>\n",
       "      <td>9029</td>\n",
       "      <td>6003</td>\n",
       "      <td>0.000040</td>\n",
       "      <td>9</td>\n",
       "    </tr>\n",
       "    <tr>\n",
       "      <th>4</th>\n",
       "      <td>7639</td>\n",
       "      <td>3719</td>\n",
       "      <td>6004</td>\n",
       "      <td>0.000041</td>\n",
       "      <td>8</td>\n",
       "    </tr>\n",
       "    <tr>\n",
       "      <th>...</th>\n",
       "      <td>...</td>\n",
       "      <td>...</td>\n",
       "      <td>...</td>\n",
       "      <td>...</td>\n",
       "      <td>...</td>\n",
       "    </tr>\n",
       "    <tr>\n",
       "      <th>995</th>\n",
       "      <td>1075</td>\n",
       "      <td>9043</td>\n",
       "      <td>6995</td>\n",
       "      <td>0.000040</td>\n",
       "      <td>8</td>\n",
       "    </tr>\n",
       "    <tr>\n",
       "      <th>996</th>\n",
       "      <td>2732</td>\n",
       "      <td>1979</td>\n",
       "      <td>6996</td>\n",
       "      <td>0.000038</td>\n",
       "      <td>7</td>\n",
       "    </tr>\n",
       "    <tr>\n",
       "      <th>997</th>\n",
       "      <td>6527</td>\n",
       "      <td>5659</td>\n",
       "      <td>6997</td>\n",
       "      <td>0.000039</td>\n",
       "      <td>8</td>\n",
       "    </tr>\n",
       "    <tr>\n",
       "      <th>998</th>\n",
       "      <td>8110</td>\n",
       "      <td>8447</td>\n",
       "      <td>6998</td>\n",
       "      <td>0.000040</td>\n",
       "      <td>8</td>\n",
       "    </tr>\n",
       "    <tr>\n",
       "      <th>999</th>\n",
       "      <td>945</td>\n",
       "      <td>4721</td>\n",
       "      <td>6999</td>\n",
       "      <td>0.000053</td>\n",
       "      <td>9</td>\n",
       "    </tr>\n",
       "  </tbody>\n",
       "</table>\n",
       "<p>1000 rows × 5 columns</p>\n",
       "</div>"
      ],
      "text/plain": [
       "        n     p  exponent  time_power_mod  exp_hamming_weight\n",
       "0    4782  6263      6000        0.000045                   7\n",
       "1    5395  6221      6001        0.000040                   8\n",
       "2    6328  2399      6002        0.000040                   8\n",
       "3    5280  9029      6003        0.000040                   9\n",
       "4    7639  3719      6004        0.000041                   8\n",
       "..    ...   ...       ...             ...                 ...\n",
       "995  1075  9043      6995        0.000040                   8\n",
       "996  2732  1979      6996        0.000038                   7\n",
       "997  6527  5659      6997        0.000039                   8\n",
       "998  8110  8447      6998        0.000040                   8\n",
       "999   945  4721      6999        0.000053                   9\n",
       "\n",
       "[1000 rows x 5 columns]"
      ]
     },
     "execution_count": 168,
     "metadata": {},
     "output_type": "execute_result"
    }
   ],
   "source": [
    "df_large_exp"
   ]
  },
  {
   "cell_type": "code",
   "execution_count": 175,
   "metadata": {},
   "outputs": [
    {
     "data": {
      "text/plain": [
       "<AxesSubplot:xlabel='exp_hamming_weight', ylabel='time_power_mod'>"
      ]
     },
     "execution_count": 175,
     "metadata": {},
     "output_type": "execute_result"
    },
    {
     "data": {
      "image/png": "[encoded data removed]",
      "text/plain": [
       "<Figure size 640x480 with 1 Axes>"
      ]
     },
     "metadata": {},
     "output_type": "display_data"
    }
   ],
   "source": [
    "import seaborn as sns\n",
    "sns.boxplot(data=df_large_exp, x='exp_hamming_weight', y='time_power_mod', showfliers=False)"
   ]
  },
  {
   "cell_type": "markdown",
   "metadata": {},
   "source": [
    "**É possível obter informação parcial sobre o peso de Hamming do expoente pelo tempo de execução do algoritmo!!!**"
   ]
  },
  {
   "cell_type": "markdown",
   "metadata": {},
   "source": [
    "## Matrizes"
   ]
  },
  {
   "cell_type": "markdown",
   "metadata": {},
   "source": [
    "Como vimos no começo da aula, Sage é capaz de trabalhar com álgebra de matrizes."
   ]
  },
  {
   "cell_type": "markdown",
   "metadata": {},
   "source": [
    "### Criando matrizes e vetores"
   ]
  },
  {
   "cell_type": "markdown",
   "metadata": {},
   "source": [
    "Para criar uma matriz usando uma lista de listas, usamos a função `matrix`"
   ]
  },
  {
   "cell_type": "code",
   "execution_count": 36,
   "metadata": {},
   "outputs": [
    {
     "name": "stdout",
     "output_type": "stream",
     "text": [
      "[1 3 2]\n",
      "[2 5 1]\n",
      "[7 8 3]\n"
     ]
    }
   ],
   "source": [
    "A = matrix(\n",
    "    [\n",
    "        [1, 3, 2],\n",
    "        [2, 5, 1], \n",
    "        [7, 8, 3],\n",
    "    ]\n",
    ")\n",
    "print(A)"
   ]
  },
  {
   "cell_type": "markdown",
   "metadata": {},
   "source": [
    "Como não foi explicitado a que anel pertencem os elementos de `A`, o Sage supõe que são inteiros. Portanto, ao calcular `A*A`, a resposta é dada em inteiros."
   ]
  },
  {
   "cell_type": "code",
   "execution_count": 37,
   "metadata": {},
   "outputs": [
    {
     "data": {
      "text/plain": [
       "[ 955297791 1820777299  600591356]\n",
       "[1021112620 1946219871  641969205]\n",
       "[2391178115 4557536902 1503323989]"
      ]
     },
     "execution_count": 37,
     "metadata": {},
     "output_type": "execute_result"
    }
   ],
   "source": [
    "A**10"
   ]
  },
  {
   "cell_type": "markdown",
   "metadata": {},
   "source": [
    "Em criptografia, é muito comum trabalharmos com matrizes de inteiros $\\bmod n$. Para isso, podemos fazer a inicialização da seguinte forma."
   ]
  },
  {
   "cell_type": "code",
   "execution_count": 38,
   "metadata": {},
   "outputs": [
    {
     "name": "stdout",
     "output_type": "stream",
     "text": [
      "[1 3 2]\n",
      "[2 5 1]\n",
      "[7 8 3]\n"
     ]
    }
   ],
   "source": [
    "Zn = Integers(13)  # Apenas para lembrar do que é Zn\n",
    "\n",
    "An = matrix(Zn,\n",
    "    [\n",
    "        [1, 3, 2],\n",
    "        [2, 5, 1], \n",
    "        [7, 8, 3],\n",
    "    ]\n",
    ")\n",
    "print(An)"
   ]
  },
  {
   "cell_type": "markdown",
   "metadata": {},
   "source": [
    "Agora, o produto `An*An` e soma `An + An` são calculado em `Zn`"
   ]
  },
  {
   "cell_type": "code",
   "execution_count": 39,
   "metadata": {},
   "outputs": [
    {
     "data": {
      "text/plain": [
       "[ 6  3  1]\n",
       "[ 8 11  7]\n",
       "[ 1  9 11]"
      ]
     },
     "execution_count": 39,
     "metadata": {},
     "output_type": "execute_result"
    }
   ],
   "source": [
    "An**10"
   ]
  },
  {
   "cell_type": "code",
   "execution_count": 40,
   "metadata": {},
   "outputs": [
    {
     "data": {
      "text/plain": [
       "[ 2  6  4]\n",
       "[ 4 10  2]\n",
       "[ 1  3  6]"
      ]
     },
     "execution_count": 40,
     "metadata": {},
     "output_type": "execute_result"
    }
   ],
   "source": [
    "An + An"
   ]
  },
  {
   "cell_type": "markdown",
   "metadata": {},
   "source": [
    "Muitas vezes, em criptografia, precisamos gerar matrizes aleatórias. Isto pode ser feito usando a função `random_matrix`, que recebe como parâmetro um Anel de base, o número de linhas e o número de colunas."
   ]
  },
  {
   "cell_type": "code",
   "execution_count": 41,
   "metadata": {},
   "outputs": [
    {
     "data": {
      "text/plain": [
       "[10  6  1]\n",
       "[ 8  4 12]\n",
       "[10  2  2]"
      ]
     },
     "execution_count": 41,
     "metadata": {},
     "output_type": "execute_result"
    }
   ],
   "source": [
    "random_matrix(Zn, 3, 3)"
   ]
  },
  {
   "cell_type": "markdown",
   "metadata": {},
   "source": [
    "### Operações sobre matrizes"
   ]
  },
  {
   "cell_type": "markdown",
   "metadata": {},
   "source": [
    "O método `inverse` calcula inversa de uma matriz quadrada, quando esta é não singular."
   ]
  },
  {
   "cell_type": "code",
   "execution_count": 42,
   "metadata": {},
   "outputs": [
    {
     "name": "stdout",
     "output_type": "stream",
     "text": [
      "[ 3  3 10]\n",
      "[ 6 12  5]\n",
      "[ 3  0  7]\n"
     ]
    }
   ],
   "source": [
    "An_inv = An.inverse()\n",
    "print(An_inv)"
   ]
  },
  {
   "cell_type": "code",
   "execution_count": 43,
   "metadata": {},
   "outputs": [
    {
     "data": {
      "text/plain": [
       "[1 0 0]\n",
       "[0 1 0]\n",
       "[0 0 1]"
      ]
     },
     "execution_count": 43,
     "metadata": {},
     "output_type": "execute_result"
    }
   ],
   "source": [
    "An_inv*An"
   ]
  },
  {
   "cell_type": "code",
   "execution_count": 44,
   "metadata": {},
   "outputs": [
    {
     "data": {
      "text/plain": [
       "[ 3  3 10]\n",
       "[ 6 12  5]\n",
       "[ 3  0  7]"
      ]
     },
     "execution_count": 44,
     "metadata": {},
     "output_type": "execute_result"
    }
   ],
   "source": [
    "An**(-1)"
   ]
  },
  {
   "cell_type": "markdown",
   "metadata": {},
   "source": [
    "O determinante pode ser calculado usando o método `determinant`"
   ]
  },
  {
   "cell_type": "code",
   "execution_count": 45,
   "metadata": {},
   "outputs": [
    {
     "data": {
      "text/plain": [
       "-28"
      ]
     },
     "execution_count": 45,
     "metadata": {},
     "output_type": "execute_result"
    }
   ],
   "source": [
    "A.determinant()"
   ]
  },
  {
   "cell_type": "markdown",
   "metadata": {},
   "source": [
    "O método `echelon_form` devolve a matriz escalonada. Não confunda com o método `echelonize`, que escalona a matriz, alterando-a."
   ]
  },
  {
   "cell_type": "code",
   "execution_count": 46,
   "metadata": {},
   "outputs": [
    {
     "name": "stdout",
     "output_type": "stream",
     "text": [
      "Matriz B\n",
      "[ 4  2 11 12  1  8  2  6  4  0]\n",
      "[11  6  4  7 10  5  7 10  3  9]\n",
      "[ 4  8  1  5  9  9  9  9  6  6]\n",
      "[ 5  5 12  8  3  1  9  0  6  2]\n",
      "[11  8  4 11  6  1  7  5  4 11]\n",
      "Matriz B escalonada\n",
      "[ 1  0  0  0  0  1 11  0 12  3]\n",
      "[ 0  1  0  0  0 11 11  9 12 10]\n",
      "[ 0  0  1  0  0  9 12  4  6  2]\n",
      "[ 0  0  0  1  0 12  4  8  9  8]\n",
      "[ 0  0  0  0  1 12  3  4  5  6]\n"
     ]
    }
   ],
   "source": [
    "B = random_matrix(Zn, 5, 10)\n",
    "print('Matriz B')\n",
    "print(B)\n",
    " \n",
    "print('Matriz B escalonada')\n",
    "print(B.echelon_form())"
   ]
  },
  {
   "cell_type": "markdown",
   "metadata": {},
   "source": [
    "Posto e nulidade:"
   ]
  },
  {
   "cell_type": "code",
   "execution_count": 47,
   "metadata": {},
   "outputs": [
    {
     "data": {
      "text/plain": [
       "5"
      ]
     },
     "execution_count": 47,
     "metadata": {},
     "output_type": "execute_result"
    }
   ],
   "source": [
    "B.rank()"
   ]
  },
  {
   "cell_type": "code",
   "execution_count": 48,
   "metadata": {},
   "outputs": [
    {
     "data": {
      "text/plain": [
       "0"
      ]
     },
     "execution_count": 48,
     "metadata": {},
     "output_type": "execute_result"
    }
   ],
   "source": [
    "B.nullity()"
   ]
  },
  {
   "cell_type": "markdown",
   "metadata": {},
   "source": [
    "### Resolvendo sistemas lineares"
   ]
  },
  {
   "cell_type": "markdown",
   "metadata": {},
   "source": [
    "Para resolver um sistema da forma $\\mathbf{D} \\mathbf{x} = \\mathbf{b}$, usamos o método `solve_right`."
   ]
  },
  {
   "cell_type": "code",
   "execution_count": 49,
   "metadata": {},
   "outputs": [
    {
     "name": "stdout",
     "output_type": "stream",
     "text": [
      "D = \n",
      "[ 1 10  8 11]\n",
      "[ 0  3  6  2]\n",
      "[ 8  7  1  3]\n",
      "[ 5  7 10 10]\n",
      "b =  (10, 5, 7, 10)\n"
     ]
    }
   ],
   "source": [
    "D = random_matrix(Zn, 4, 4)\n",
    "b = random_vector(Zn, 4)\n",
    "print('D = ')\n",
    "print(D)\n",
    "print('b = ', b)"
   ]
  },
  {
   "cell_type": "code",
   "execution_count": 50,
   "metadata": {},
   "outputs": [
    {
     "name": "stdout",
     "output_type": "stream",
     "text": [
      "(12, 10, 3, 11)\n"
     ]
    }
   ],
   "source": [
    "x = D.solve_right(b)\n",
    "print(x)"
   ]
  },
  {
   "cell_type": "code",
   "execution_count": 51,
   "metadata": {},
   "outputs": [
    {
     "data": {
      "text/plain": [
       "True"
      ]
     },
     "execution_count": 51,
     "metadata": {},
     "output_type": "execute_result"
    }
   ],
   "source": [
    "D*x == b"
   ]
  },
  {
   "cell_type": "markdown",
   "metadata": {},
   "source": [
    "## Corpos"
   ]
  },
  {
   "cell_type": "markdown",
   "metadata": {},
   "source": [
    "*Definição.* Um Corpo K é um conjunto munido de duas operações $+$ e $.$ tais que:\n",
    "1. $(K, +, .)$ é um anel\n",
    "2. A operação $.$ é comutativa. Ou seja, para todos $a, b \\in K$:\n",
    "   $$\n",
    "   a b = b a, \n",
    "   $$\n",
    "   \n",
    "3. Para todo elemento $a$ **não nulo** de $K$, existe o seu inverso multiplicativo $a^{-1} \\in K$ tal que:\n",
    "    $$\n",
    "    aa^{-1} = a^{-1}a = 1\n",
    "    $$"
   ]
  },
  {
   "cell_type": "markdown",
   "metadata": {},
   "source": [
    "**Observação**. Corpo é uma abstração do conjunto dos Racionais, onde todos os elementos diferentes de 0 têm inversa."
   ]
  },
  {
   "cell_type": "markdown",
   "metadata": {},
   "source": [
    "Em criptografia, tipicamente estamos interessados em corpos finitos, pois os elementos devem ser representados num número finito e prefixado de bits."
   ]
  },
  {
   "cell_type": "markdown",
   "metadata": {},
   "source": [
    "**Teorema**. Se $p$ é número primo, então $Z_p$ é um corpo finito.\n",
    "\n",
    "*Demontração*. Sabemos que $(Z_p, +, .)$ é um anel, então só precisamos mostrar que valem as propriedades 2 e 3. \n",
    "Sabemos também que a multiplicação modular é comutativa, o que prova que a propriedade 2 vale.\n",
    "Além disso, como $p$ é primo, então $\\gcd(a, p) = 1$ para todo $a \\in Z_p - \\{0\\}$. Portanto existe a inversa de $a \\mod p$, e vale a propriedade 3.\n"
   ]
  },
  {
   "cell_type": "markdown",
   "metadata": {},
   "source": [
    "Em sage, para determinar se um determinado anel é também um corpo, podemos usar o método `is_field`"
   ]
  },
  {
   "cell_type": "code",
   "execution_count": 52,
   "metadata": {},
   "outputs": [
    {
     "data": {
      "text/plain": [
       "True"
      ]
     },
     "execution_count": 52,
     "metadata": {},
     "output_type": "execute_result"
    }
   ],
   "source": [
    "Integers(13).is_field()\n"
   ]
  },
  {
   "cell_type": "code",
   "execution_count": 53,
   "metadata": {},
   "outputs": [
    {
     "data": {
      "text/plain": [
       "False"
      ]
     },
     "execution_count": 53,
     "metadata": {},
     "output_type": "execute_result"
    }
   ],
   "source": [
    "Integers(10).is_field()"
   ]
  },
  {
   "cell_type": "markdown",
   "metadata": {},
   "source": [
    "Em geral, ao programar, devemos ser o mais explícitos possível. Portanto, ao declarar um conjunto que sabemos que é um corpo, é preferível usar o construtor `GF` (de Galois Field) "
   ]
  },
  {
   "cell_type": "code",
   "execution_count": 54,
   "metadata": {},
   "outputs": [],
   "source": [
    "K = GF(13)"
   ]
  },
  {
   "cell_type": "markdown",
   "metadata": {},
   "source": [
    "Este construtor quebra quando passamos um tamanho incompatível com um corpo finito"
   ]
  },
  {
   "cell_type": "code",
   "execution_count": 55,
   "metadata": {},
   "outputs": [
    {
     "name": "stdout",
     "output_type": "stream",
     "text": [
      "the order of a finite field must be a prime power\n"
     ]
    }
   ],
   "source": [
    "try:\n",
    "    GF(10)\n",
    "except Exception as e:\n",
    "    print(e)"
   ]
  },
  {
   "cell_type": "markdown",
   "metadata": {},
   "source": [
    "Há corpos de tamanho não-primo. Em particular o tamanho de um corpo é sempre $q = p^k$ para algum primo $p$ e algum inteiro positivo $k \\geq 1$.\n",
    "\n",
    "Porém, pelo modo como é feita a multiplicação em corpos finitos de tamanhos não primos, seus elementos são melhor representados por polinômios e não por inteiros."
   ]
  },
  {
   "cell_type": "code",
   "execution_count": 56,
   "metadata": {},
   "outputs": [
    {
     "data": {
      "text/plain": [
       "3*t + 5"
      ]
     },
     "execution_count": 56,
     "metadata": {},
     "output_type": "execute_result"
    }
   ],
   "source": [
    "GF(7**2, 't').random_element()"
   ]
  },
  {
   "cell_type": "code",
   "execution_count": 57,
   "metadata": {},
   "outputs": [
    {
     "data": {
      "text/plain": [
       "False"
      ]
     },
     "execution_count": 57,
     "metadata": {},
     "output_type": "execute_result"
    }
   ],
   "source": [
    "Integers(7**2).is_field()"
   ]
  },
  {
   "cell_type": "code",
   "execution_count": 58,
   "metadata": {},
   "outputs": [
    {
     "data": {
      "text/plain": [
       "z2 + 6"
      ]
     },
     "execution_count": 58,
     "metadata": {},
     "output_type": "execute_result"
    }
   ],
   "source": [
    "GF(7**2).random_element()"
   ]
  },
  {
   "cell_type": "code",
   "execution_count": 59,
   "metadata": {},
   "outputs": [
    {
     "data": {
      "text/plain": [
       "4"
      ]
     },
     "execution_count": 59,
     "metadata": {},
     "output_type": "execute_result"
    }
   ],
   "source": [
    "GF(7).random_element()"
   ]
  },
  {
   "cell_type": "markdown",
   "metadata": {},
   "source": [
    "Para entender como chegar nisso, primeiro vejamos como construir anéis polinômiais."
   ]
  },
  {
   "cell_type": "markdown",
   "metadata": {},
   "source": [
    "## Anéis Polinomiais"
   ]
  },
  {
   "cell_type": "markdown",
   "metadata": {},
   "source": [
    "Um anel polinomial $K[x]$ nada mais é que o conjunto de polinômios em $x$ com coeficientes em $K$. Tipicamente, estamos interessados em $K$ sendo um corpo, mas a construção vale para $K$ sendo apenas um anel.\n",
    "Para ver que $K[x]$ é um anel, basta usar o fato de que $K$ é um corpo (e portanto um anel) e usar as regras de adição e multiplicações de polinômios."
   ]
  },
  {
   "cell_type": "markdown",
   "metadata": {},
   "source": [
    "Para criar um anel polinomial `R` sobre a variavel `x` e com coeficientes em `GF(13)`, em Sage, fazemos:"
   ]
  },
  {
   "cell_type": "code",
   "execution_count": 60,
   "metadata": {},
   "outputs": [],
   "source": [
    "R.<x> = GF(13)[]"
   ]
  },
  {
   "cell_type": "code",
   "execution_count": 61,
   "metadata": {},
   "outputs": [
    {
     "data": {
      "text/plain": [
       "Univariate Polynomial Ring in x over Finite Field of size 13"
      ]
     },
     "execution_count": 61,
     "metadata": {},
     "output_type": "execute_result"
    }
   ],
   "source": [
    "R"
   ]
  },
  {
   "cell_type": "code",
   "execution_count": 62,
   "metadata": {},
   "outputs": [],
   "source": [
    "R2 = GF(13).polynomial_ring('x2')"
   ]
  },
  {
   "cell_type": "code",
   "execution_count": 63,
   "metadata": {},
   "outputs": [
    {
     "data": {
      "text/plain": [
       "Univariate Polynomial Ring in x2 over Finite Field of size 13"
      ]
     },
     "execution_count": 63,
     "metadata": {},
     "output_type": "execute_result"
    }
   ],
   "source": [
    "R2"
   ]
  },
  {
   "cell_type": "code",
   "execution_count": 64,
   "metadata": {},
   "outputs": [
    {
     "name": "stdout",
     "output_type": "stream",
     "text": [
      "5*x^4 + x^3 + 5*x^2 + 7*x + 9\n"
     ]
    }
   ],
   "source": [
    "v = R.random_element(4)  # 10 é o grau do elemento aleatório\n",
    "print(v)"
   ]
  },
  {
   "cell_type": "markdown",
   "metadata": {},
   "source": [
    "Note que $GF(n)[x]$ é infinito."
   ]
  },
  {
   "cell_type": "code",
   "execution_count": 65,
   "metadata": {},
   "outputs": [
    {
     "data": {
      "text/plain": [
       "+Infinity"
      ]
     },
     "execution_count": 65,
     "metadata": {},
     "output_type": "execute_result"
    }
   ],
   "source": [
    "R.cardinality()"
   ]
  },
  {
   "cell_type": "markdown",
   "metadata": {},
   "source": [
    "Para contruir um anel polinomial finito, podemos fazer o análogo do que fizemos para construir $Z_n$ a partir de $Z$: pegar os resíduos quando dividimos por um elemento $p_1 \\in R$. O anel construído é denotado por $R/p_1$"
   ]
  },
  {
   "cell_type": "code",
   "execution_count": 66,
   "metadata": {},
   "outputs": [],
   "source": [
    "p1 = x^2 + x\n",
    "R_mod_p1 = R.quotient(p1)"
   ]
  },
  {
   "cell_type": "markdown",
   "metadata": {},
   "source": [
    "Note que o número de resíduos quando dividimos por um polinômio de grau 2 é dado por\n",
    "$$\n",
    "( \\text{possibilidades para coeficiente de grau 0}) \\times (\\text{possibilidades para coeficiente de grau 1}) = n^2\n",
    "$$"
   ]
  },
  {
   "cell_type": "code",
   "execution_count": 67,
   "metadata": {},
   "outputs": [
    {
     "data": {
      "text/plain": [
       "169"
      ]
     },
     "execution_count": 67,
     "metadata": {},
     "output_type": "execute_result"
    }
   ],
   "source": [
    "R_mod_p1.cardinality()"
   ]
  },
  {
   "cell_type": "markdown",
   "metadata": {},
   "source": [
    "Porém note que o anel quociente construído não é um corpo:"
   ]
  },
  {
   "cell_type": "code",
   "execution_count": 68,
   "metadata": {},
   "outputs": [
    {
     "data": {
      "text/plain": [
       "False"
      ]
     },
     "execution_count": 68,
     "metadata": {},
     "output_type": "execute_result"
    }
   ],
   "source": [
    "R_mod_p1.is_field()"
   ]
  },
  {
   "cell_type": "markdown",
   "metadata": {},
   "source": [
    "O motivo por que $R/p_1$ não é um corpo é análogo ao motivo de $Z_{10}$ não ser um corpo: o módulo não é primo, e há elementos $a$ em $R/p_1$ tais que $\\gcd(a, p_1) \\neq 1$"
   ]
  },
  {
   "cell_type": "code",
   "execution_count": 69,
   "metadata": {},
   "outputs": [
    {
     "data": {
      "text/plain": [
       "x + 1"
      ]
     },
     "execution_count": 69,
     "metadata": {},
     "output_type": "execute_result"
    }
   ],
   "source": [
    "gcd(x + 1, x^2 + x)"
   ]
  },
  {
   "cell_type": "markdown",
   "metadata": {},
   "source": [
    "**Definição**. Um polinômio $m \\in GF(q)[x]$ é primo (ou irredutível) quando ele **não** pode ser fatorado em dois polinômios não-constantes de $GF(q)[x]$."
   ]
  },
  {
   "cell_type": "markdown",
   "metadata": {},
   "source": [
    "No caso anterior, $p_1= x^2 + x$ claramente pode ser fatorado em $x(x + 1)$."
   ]
  },
  {
   "cell_type": "markdown",
   "metadata": {},
   "source": [
    "**Observação**. Para mostrar que um polinômio não é primo, basta mostrar uma fatoração. Agora, para mostrar que um polinômio é primo não é tão fácil..."
   ]
  },
  {
   "cell_type": "markdown",
   "metadata": {},
   "source": [
    "Por sorte, o Sage vem com um método que devolve um polinômio irredutível num anel polinomial, dado um grau."
   ]
  },
  {
   "cell_type": "code",
   "execution_count": 70,
   "metadata": {},
   "outputs": [
    {
     "name": "stdout",
     "output_type": "stream",
     "text": [
      "x^2 + 12*x + 2\n"
     ]
    }
   ],
   "source": [
    "m = R.irreducible_element(2)\n",
    "print(m)"
   ]
  },
  {
   "cell_type": "markdown",
   "metadata": {},
   "source": [
    "Podemos agora fazer a mesma construção anterior só que com $m$ irredutível no lugar de $p_1$."
   ]
  },
  {
   "cell_type": "code",
   "execution_count": 71,
   "metadata": {},
   "outputs": [],
   "source": [
    "R_mod_m = R.quotient(m)"
   ]
  },
  {
   "cell_type": "markdown",
   "metadata": {},
   "source": [
    "Neste caso, $R/m$ será um corpo finito de $13^2 = 169$ elementos."
   ]
  },
  {
   "cell_type": "code",
   "execution_count": 72,
   "metadata": {},
   "outputs": [
    {
     "data": {
      "text/plain": [
       "True"
      ]
     },
     "execution_count": 72,
     "metadata": {},
     "output_type": "execute_result"
    }
   ],
   "source": [
    "R_mod_m.is_field()"
   ]
  },
  {
   "cell_type": "code",
   "execution_count": 73,
   "metadata": {},
   "outputs": [
    {
     "data": {
      "text/plain": [
       "169"
      ]
     },
     "execution_count": 73,
     "metadata": {},
     "output_type": "execute_result"
    }
   ],
   "source": [
    "R_mod_m.cardinality()"
   ]
  },
  {
   "cell_type": "markdown",
   "metadata": {},
   "source": [
    "Note que $R/m$ e $R/p_1$ contam com exatamente os mesmos polinômios! A diferença ocorre na multiplicação de elementos, que, quando feita $\\bmod m$, mantém a propriedade da existência do inverso."
   ]
  },
  {
   "cell_type": "markdown",
   "metadata": {},
   "source": [
    "**Importante**. Se tomarmos outro polinômio irredutível $m_2$ do mesmo grau de $m$, os corpos finitos $R/m$ e $R/m_2$ são isomórficos. Há um teorema importante que diz que todos os corpos finitos de mesmos tamanhos são isomórficos."
   ]
  },
  {
   "cell_type": "markdown",
   "metadata": {},
   "source": [
    "Para ver isso na prática, considere."
   ]
  },
  {
   "cell_type": "code",
   "execution_count": 74,
   "metadata": {},
   "outputs": [],
   "source": [
    "P.<t1> = GF(2)[]"
   ]
  },
  {
   "cell_type": "code",
   "execution_count": 75,
   "metadata": {},
   "outputs": [
    {
     "name": "stdout",
     "output_type": "stream",
     "text": [
      "Queremos m1 != m2\n",
      "t1^3 + t1 + 1\n",
      "t1^3 + t1 + 1\n"
     ]
    }
   ],
   "source": [
    "m1 = P.irreducible_element(3, algorithm='random')\n",
    "m2 = P.irreducible_element(3, algorithm='random')\n",
    "print(\"Queremos m1 != m2\")\n",
    "print(m1)\n",
    "print(m2)"
   ]
  },
  {
   "cell_type": "code",
   "execution_count": 76,
   "metadata": {},
   "outputs": [
    {
     "data": {
      "text/plain": [
       "*  a b c d e f g h\n",
       " +----------------\n",
       "a| a a a a a a a a\n",
       "b| a b c d e f g h\n",
       "c| a c e g d b h f\n",
       "d| a d g f h e b c\n",
       "e| a e d h g c f b\n",
       "f| a f b e c h d g\n",
       "g| a g h b f d c e\n",
       "h| a h f c b g e d\n"
      ]
     },
     "execution_count": 76,
     "metadata": {},
     "output_type": "execute_result"
    }
   ],
   "source": [
    "P.quotient(m1, 'i').multiplication_table()"
   ]
  },
  {
   "cell_type": "code",
   "execution_count": 77,
   "metadata": {},
   "outputs": [
    {
     "data": {
      "text/plain": [
       "*  a b c d e f g h\n",
       " +----------------\n",
       "a| a a a a a a a a\n",
       "b| a b c d e f g h\n",
       "c| a c e g d b h f\n",
       "d| a d g f h e b c\n",
       "e| a e d h g c f b\n",
       "f| a f b e c h d g\n",
       "g| a g h b f d c e\n",
       "h| a h f c b g e d\n"
      ]
     },
     "execution_count": 77,
     "metadata": {},
     "output_type": "execute_result"
    }
   ],
   "source": [
    "P.quotient(m2, 'j').multiplication_table()"
   ]
  },
  {
   "cell_type": "markdown",
   "metadata": {},
   "source": [
    "**Observação**. É possível achar uma bijeção entre os polinômios dos dois corpos que transforma uma tabela na outra. (Não que seja uma coisa muito fácil de fazer agora, mas acho que a ideia do isomorfismo fica bem ilustrada pelas tabelas.)"
   ]
  },
  {
   "cell_type": "markdown",
   "metadata": {},
   "source": [
    "## O Corpo finito $GF(2^m)$"
   ]
  },
  {
   "cell_type": "markdown",
   "metadata": {},
   "source": [
    "Vimos que todos os corpos finitos são isomórficos a $GF(p^k)$ para algum primo $p$ e algum inteiro $k \\geq 1$. Vimos também que para usar qualquer um desses corpos finitos em Sage, usamos o construtor `GF`, **não** sendo necessário criar anéis polinomiais e selecionar um polinômio irredutível.\n",
    "\n",
    "Em criptografia é comum usarmos corpos finitos de característica 2, isto é, $p = 2$, pois algumas operações podem ser simplificadas usando operações de bits."
   ]
  },
  {
   "cell_type": "markdown",
   "metadata": {},
   "source": [
    "Uma aplicação interessante é que podemos definir uma operação de multiplicação sobre bytes.\n",
    "\n",
    "Considere por exemplo o $GF(2^8)$ na representação usada pelo AES."
   ]
  },
  {
   "cell_type": "code",
   "execution_count": 78,
   "metadata": {},
   "outputs": [
    {
     "data": {
      "text/plain": [
       "Finite Field in t of size 2^8"
      ]
     },
     "execution_count": 78,
     "metadata": {},
     "output_type": "execute_result"
    }
   ],
   "source": [
    "t = GF(2).polynomial_ring().gen()\n",
    "F8 = GF(2^8, 't', modulus=t^8 + t^4 + t^3 + t + 1)\n",
    "F8"
   ]
  },
  {
   "cell_type": "code",
   "execution_count": 79,
   "metadata": {},
   "outputs": [
    {
     "name": "stdout",
     "output_type": "stream",
     "text": [
      "t^7 + t^6 + t^5 + t\n",
      "t^6 + t^3 + t^2 + t + 1\n"
     ]
    }
   ],
   "source": [
    "b1 = F8.random_element()\n",
    "b2 = F8.random_element()\n",
    "print(b1)\n",
    "print(b2)"
   ]
  },
  {
   "cell_type": "code",
   "execution_count": 80,
   "metadata": {},
   "outputs": [
    {
     "data": {
      "text/plain": [
       "256"
      ]
     },
     "execution_count": 80,
     "metadata": {},
     "output_type": "execute_result"
    }
   ],
   "source": [
    "F8.cardinality()"
   ]
  },
  {
   "cell_type": "markdown",
   "metadata": {},
   "source": [
    "Para obter a representação de `b1` e `b2` como sequências de bits, podemos fazer:"
   ]
  },
  {
   "cell_type": "code",
   "execution_count": 81,
   "metadata": {},
   "outputs": [
    {
     "data": {
      "text/plain": [
       "[0, 1, 0, 0, 0, 1, 1, 1]"
      ]
     },
     "execution_count": 81,
     "metadata": {},
     "output_type": "execute_result"
    }
   ],
   "source": [
    "list(b1.polynomial())"
   ]
  },
  {
   "cell_type": "code",
   "execution_count": 82,
   "metadata": {},
   "outputs": [
    {
     "data": {
      "text/plain": [
       "t^7 + t^6 + t^5 + t"
      ]
     },
     "execution_count": 82,
     "metadata": {},
     "output_type": "execute_result"
    }
   ],
   "source": [
    "b1"
   ]
  },
  {
   "cell_type": "code",
   "execution_count": 83,
   "metadata": {
    "scrolled": true
   },
   "outputs": [
    {
     "name": "stdout",
     "output_type": "stream",
     "text": [
      "[0, 1, 0, 0, 0, 1, 1, 1]\n",
      "[1, 1, 1, 1, 0, 0, 1]\n"
     ]
    }
   ],
   "source": [
    "print(list(b1.polynomial()))\n",
    "print(list(b2.polynomial()))"
   ]
  },
  {
   "cell_type": "markdown",
   "metadata": {},
   "source": [
    "Note como a soma de `b1` e `b2` é simplesmente o XOR bit a bit "
   ]
  },
  {
   "cell_type": "code",
   "execution_count": 84,
   "metadata": {},
   "outputs": [
    {
     "name": "stdout",
     "output_type": "stream",
     "text": [
      "[1, 0, 1, 1, 0, 1, 0, 1]\n"
     ]
    }
   ],
   "source": [
    "print(list((b1 + b2).polynomial()))"
   ]
  },
  {
   "cell_type": "markdown",
   "metadata": {},
   "source": [
    "E agora temos uma definição para o produto de dois bytes `b1*b2`"
   ]
  },
  {
   "cell_type": "code",
   "execution_count": 85,
   "metadata": {},
   "outputs": [
    {
     "data": {
      "text/plain": [
       "t^6 + t^5 + t^4 + t^2 + t + 1"
      ]
     },
     "execution_count": 85,
     "metadata": {},
     "output_type": "execute_result"
    }
   ],
   "source": [
    "b1*b2"
   ]
  },
  {
   "cell_type": "code",
   "execution_count": 86,
   "metadata": {},
   "outputs": [
    {
     "name": "stdout",
     "output_type": "stream",
     "text": [
      "[1, 1, 1, 0, 1, 1, 1]\n"
     ]
    }
   ],
   "source": [
    "print(list((b1*b2).polynomial()))"
   ]
  },
  {
   "cell_type": "code",
   "execution_count": 87,
   "metadata": {},
   "outputs": [
    {
     "data": {
      "text/plain": [
       "190"
      ]
     },
     "execution_count": 87,
     "metadata": {},
     "output_type": "execute_result"
    }
   ],
   "source": [
    "b1.integer_representation()*b2.integer_representation() % 256"
   ]
  },
  {
   "cell_type": "code",
   "execution_count": 88,
   "metadata": {},
   "outputs": [
    {
     "data": {
      "text/plain": [
       "119"
      ]
     },
     "execution_count": 88,
     "metadata": {},
     "output_type": "execute_result"
    }
   ],
   "source": [
    "(b1*b2).integer_representation()"
   ]
  },
  {
   "cell_type": "markdown",
   "metadata": {},
   "source": [
    "Para pegar a representação em bytes de um elemento de `F8`, basta usarmos o método `integer_representation`"
   ]
  },
  {
   "cell_type": "code",
   "execution_count": 89,
   "metadata": {},
   "outputs": [
    {
     "name": "stdout",
     "output_type": "stream",
     "text": [
      "226\n"
     ]
    }
   ],
   "source": [
    "n1 = b1.integer_representation()\n",
    "print(n1)"
   ]
  },
  {
   "cell_type": "code",
   "execution_count": 90,
   "metadata": {},
   "outputs": [
    {
     "data": {
      "text/plain": [
       "'0b1010'"
      ]
     },
     "execution_count": 90,
     "metadata": {},
     "output_type": "execute_result"
    }
   ],
   "source": [
    "bin(10)"
   ]
  },
  {
   "cell_type": "markdown",
   "metadata": {},
   "source": [
    "Para o processo inverso, não há uma função pronta. Podemos usar a função `bin` para implementar a conversão de inteiros para elementos de `F8`"
   ]
  },
  {
   "cell_type": "code",
   "execution_count": 91,
   "metadata": {},
   "outputs": [],
   "source": [
    "def int_to_F8_poly(n):\n",
    "    t = F8.gen()\n",
    "    if not (0 <= n < 2**8):\n",
    "        raise ValueError('Deve-se obedecer à condição 0 <= int1, int2 < 256')\n",
    "    coeffs = reversed(bin(n)[2:])\n",
    "    return sum(GF(2)(v)*(t**i) for i, v in enumerate(coeffs))"
   ]
  },
  {
   "cell_type": "code",
   "execution_count": 92,
   "metadata": {},
   "outputs": [
    {
     "data": {
      "text/plain": [
       "t^4 + t^2 + t + 1"
      ]
     },
     "execution_count": 92,
     "metadata": {},
     "output_type": "execute_result"
    }
   ],
   "source": [
    "int_to_F8_poly(23)"
   ]
  },
  {
   "cell_type": "code",
   "execution_count": 93,
   "metadata": {},
   "outputs": [
    {
     "data": {
      "text/plain": [
       "'0b10111'"
      ]
     },
     "execution_count": 93,
     "metadata": {},
     "output_type": "execute_result"
    }
   ],
   "source": [
    "bin(23)"
   ]
  },
  {
   "cell_type": "markdown",
   "metadata": {},
   "source": [
    "Teste de sanidade:"
   ]
  },
  {
   "cell_type": "code",
   "execution_count": 94,
   "metadata": {},
   "outputs": [
    {
     "data": {
      "text/plain": [
       "True"
      ]
     },
     "execution_count": 94,
     "metadata": {},
     "output_type": "execute_result"
    }
   ],
   "source": [
    "int_to_F8_poly(b1.integer_representation()) == b1"
   ]
  },
  {
   "cell_type": "markdown",
   "metadata": {},
   "source": [
    "Para explicitar as operações que queremos implementar, podemos usar as seguintes funções `bytes_sum` e `bytes_product`:"
   ]
  },
  {
   "cell_type": "code",
   "execution_count": 95,
   "metadata": {},
   "outputs": [],
   "source": [
    "def bytes_sum(n1, n2):\n",
    "    '''\n",
    "        n1: Inteiro >= 0 e < 256\n",
    "        n2: Inteiro >= 0 e < 256\n",
    "    '''\n",
    "    b1 = int_to_F8_poly(n1)\n",
    "    b2 = int_to_F8_poly(n2)\n",
    "    \n",
    "    return (b1 + b2).integer_representation()\n",
    "\n",
    "def bytes_product(n1, n2):\n",
    "    '''\n",
    "        n1: Inteiro >= 0 e < 256\n",
    "        n2: Inteiro >= 0 e < 256\n",
    "    '''\n",
    "    b1 = int_to_F8_poly(n1)\n",
    "    b2 = int_to_F8_poly(n2)\n",
    "    \n",
    "    return (b1 * b2).integer_representation()\n",
    "\n"
   ]
  },
  {
   "cell_type": "code",
   "execution_count": 96,
   "metadata": {},
   "outputs": [
    {
     "data": {
      "text/plain": [
       "'0x1'"
      ]
     },
     "execution_count": 96,
     "metadata": {},
     "output_type": "execute_result"
    }
   ],
   "source": [
    "hex(bytes_product(int('53', 16), int('ca', 16)))  # Deve dar 0x01"
   ]
  },
  {
   "cell_type": "code",
   "execution_count": 97,
   "metadata": {},
   "outputs": [
    {
     "data": {
      "text/plain": [
       "'0x8a'"
      ]
     },
     "execution_count": 97,
     "metadata": {},
     "output_type": "execute_result"
    }
   ],
   "source": [
    "hex(bytes_product(int('45', 16), int('02', 16)))  # Deve dar 0x8a"
   ]
  },
  {
   "cell_type": "code",
   "execution_count": 98,
   "metadata": {},
   "outputs": [
    {
     "data": {
      "text/plain": [
       "'0x91'"
      ]
     },
     "execution_count": 98,
     "metadata": {},
     "output_type": "execute_result"
    }
   ],
   "source": [
    "hex(bytes_product(int('c5', 16), int('02', 16)))  # Deve dar 0x91"
   ]
  },
  {
   "cell_type": "markdown",
   "metadata": {},
   "source": [
    "**Importante**. Este modo de implementar a soma e o produto não é o mais eficiente. Em geral, as operações são implementadas usando operações de bits, que são muito mais rápidas."
   ]
  }
 ],
 "metadata": {
  "kernelspec": {
   "display_name": "SageMath 9.3",
   "language": "sage",
   "name": "sagemath"
  },
  "language_info": {
   "codemirror_mode": {
    "name": "ipython",
    "version": 3
   },
   "file_extension": ".py",
   "mimetype": "text/x-python",
   "name": "python",
   "nbconvert_exporter": "python",
   "pygments_lexer": "ipython3",
   "version": "3.9.6"
  },
  "toc": {
   "base_numbering": 1,
   "nav_menu": {},
   "number_sections": true,
   "sideBar": true,
   "skip_h1_title": true,
   "title_cell": "Conteúdo",
   "title_sidebar": "Contents",
   "toc_cell": false,
   "toc_position": {},
   "toc_section_display": true,
   "toc_window_display": false
  },
  "toc-autonumbering": true
 },
 "nbformat": 4,
 "nbformat_minor": 4
}
